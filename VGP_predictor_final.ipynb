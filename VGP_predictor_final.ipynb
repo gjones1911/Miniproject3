{
 "cells": [
  {
   "cell_type": "code",
   "execution_count": null,
   "metadata": {},
   "outputs": [],
   "source": [
    "'                                   \n",
    "Hypothesis: I think the priority of visible growth in popularity will be affected by the following predictors.\n",
    "            H1: The age of the survey participant. I feel like there is a certain age range where this will matter more than\n",
    "                others. (PG13Resp later converted to Q12)\n",
    "            H2: The order in which this response variable was submitted. I think this will hint at how important the \n",
    "                participant felt this factor was. ()\n",
    "            H3: How much time the participant spent on question 5 in total. I think this will indicate how much time the user\n",
    "                spent thinking about the question which will indicate how much time they thought about this choice \n",
    "            H4: I feel their level of experience will also be a good predictor to how important visible growth is to the\n",
    "                user. I think there is some experience range where they will be more concerned with the popularity of their\n",
    "                projects\n",
    "            H5: I think the number of projects they have worked on will also hint at how important a growth in popularity is\n",
    "                to the user\n",
    "            H6: Their job at the time may indicate how the popularity of their is a priority\n",
    "            H7: Why they chose this package will hint at the priority of growth in popularity\n",
    "            H8: the time between quesion 4 was submitted and the time response 5_4 was submitted is relavant. It hints at how\n",
    "                much thought went into this response\n",
    "            H9: the total time spent on the quiz says something about how much the user was seeking a growth in popularity\n",
    "\n",
    "My predictors:\n",
    "\n",
    "    __type____|___Name_____|________________________________Description______________________________________         \n",
    "    response  |   VGPR_HL  | how important was visible growth in popularity when choosing the package\n",
    "              |            | (1-5) (Not a Priority-Essential) converted to High=0/low=1 ( low < medium <= High)\n",
    "    __________|____________|_________________________________________________________________________________\n",
    "    Para Data |   TPG5S    | *the time it took for question 5 to be submitted (PG5submit)\n",
    "              |   T4S45R   | *the time between when 4 was submitted and response 5_4 was chosen\n",
    "              |     TT     | *total time spent on quiz     \n",
    "   ___________|____________|_________________________________________________________________________________\n",
    "              |   VPGO     | the order the response was chosen\n",
    "     Meta     |  PG6R/Q6   | responses to question 6(Experience level)\n",
    "     Data     |  PG9R/Q9   | responses to question 9(number of previous projects)\n",
    "              | PG12R/Q12  | responses to question 12(age of user)\n",
    "              |  PG8R/Q8   | responses to question 8(Job of particanpant)\n",
    "              |  PG3R/Q3   | responses to question 3(why user chose this package)\n",
    "   ___________|____________|__________________________________________________________________________________           \n",
    "\n",
    "'"
   ]
  },
  {
   "cell_type": "code",
   "execution_count": null,
   "metadata": {},
   "outputs": [],
   "source": [
    "' Explanation of how I got the data from given .csv and description of how it relates to predictors\n",
    "\n",
    "    I grabbed the columns for my predictors from the loaded data file \"TechSurvey - Survey.csv\" and called it data.\n",
    "    The columns I grabbed from data where:\n",
    "        |---data$Start -- the time as a date and time when each quiz was started\n",
    "        |   data$End   -- the time when the quiz was completed as a data and time\n",
    "        |            Note: *used method provided by Dr. Mockus to convert to unix seconds\n",
    "        |                  *used the difference between these(End - Start) to get predictor TT\n",
    "        |   data$PG4Submit  --The time question 4 was submitted\n",
    "Timing--|   data$PG5Submit  --The time question 5 was submitted\n",
    " Data   |            Note: * used method provided by Dr. Mockus to convert to unix seconds\n",
    "        |            Note: * used method provided by Dr. Mockus to convert them into the seconds it took to complete \n",
    "        |                    questions\n",
    "        |                  * used this to get predictor T5\n",
    "        |   data$PG5_4Time: --The time the response to my response variable PG5_4VGP was submitted\n",
    "        |            Note: used method provided by Dr. Mockus to convert to unix seconds\n",
    "        |            Note: converted this to how much time has passed from when question 4 \n",
    "        |                  was submitted (VGP5_4Time - PG4Submit) for predictor T4_54\n",
    "        |------------    \n",
    "\n",
    "         |-------------------------------------------------------------------------------------------------------------------\n",
    "         |    data$PG5_4Order  --The order my response variable was submitted compared to the other options in \n",
    "         |                      question 5 to get predictor VGPO\n",
    "         |    data$PG3Response --The response to question 3 (Why did the user choose this package) for predictor Q3\n",
    "Responese|    data$PG6Response --The response to question 6 (The years of experience in development) for predictor Q6\n",
    "  Data   |    data$PG8Response --The response to question 8 (The job of the user at the time) for predictor Q8\n",
    "         |    data$PG9Response --The response to question 9 (The number of projects the user has worked on) for predictor Q9\n",
    "         |    data$PG12Response--The response to question 12 (The age range of the user) for predictor Q12\n",
    "         |-------------------------------------------------------------------------------------------------------------------\n",
    "\n",
    "'"
   ]
  },
  {
   "cell_type": "code",
   "execution_count": null,
   "metadata": {},
   "outputs": [],
   "source": [
    "'descriptive analysis of the proposed measures\n",
    "\n",
    "\n",
    "\n",
    "\n",
    "\n",
    "\n",
    "\n",
    "'"
   ]
  },
  {
   "cell_type": "code",
   "execution_count": null,
   "metadata": {},
   "outputs": [],
   "source": [
    "'transformation and cleaning statement:\n",
    "\n",
    " -----I used discard imputation and removed all observations with empty or NA containing entries. This left only 441 \n",
    "      observations. I thought about about doing some other form of imputation but any I could think of would not \n",
    "      accurately reflect the data I am trying to model and often added bad data points in the process so I decided against\n",
    "      this. from around line 65 --> iine 219 in cell 0\n",
    " \n",
    " -----I converted all variables into a numeric versions including those that were more class like. I attempted to rank\n",
    "      the label/class entries from the one that lead to the lowest probability at the index 1 to the one that would lead to\n",
    "      the highest at the highest index. If my assumptions are correct it will lead to positive coefficents, if not they will \n",
    "      end up negative.\n",
    " \n",
    " -----I converted the response variable into a high low version where all entries below medium are low priority\n",
    "      and all others are high and then converted this into a numeric version where high = 1, and low = 0.\n",
    "\n",
    " -----I allowed to predictor VGPO(the order this response was chosen relative to the other choices in Question 5)\n",
    "      to stay relatively the sam but I locked the max order number to 13 for the last choice. I think the higher the order\n",
    "      number the lower the priority. If this is so VGPO will have a negative coefficient if not it will be positive\n",
    "\n",
    "'"
   ]
  },
  {
   "cell_type": "code",
   "execution_count": null,
   "metadata": {},
   "outputs": [],
   "source": [
    "'correlation analysis and a statement about whhether or not some of the measures are too correlated and need to be dropped\n",
    "\n",
    "    See cells \n",
    "\n",
    "'"
   ]
  },
  {
   "cell_type": "code",
   "execution_count": null,
   "metadata": {},
   "outputs": [],
   "source": [
    "'fitting of the statistical model-- See cells\n",
    "interpretation of coefficients-- See cells\n",
    "Please use lectures/fdacStats.ipynb and lecture slides for guidance--Seee cells\n",
    "'"
   ]
  },
  {
   "cell_type": "code",
   "execution_count": 131,
   "metadata": {},
   "outputs": [],
   "source": [
    "# include statments \n",
    "\n",
    "options(digits = 9)\n",
    "library(e1071)\n",
    "library(caret)\n",
    "library(lattice)\n",
    "library(ggplot2)\n",
    "library(Hmisc)\n"
   ]
  },
  {
   "cell_type": "code",
   "execution_count": 35,
   "metadata": {},
   "outputs": [],
   "source": [
    "############################################ My Methods\n",
    "\n",
    "#takes raw prediction data and a set of repsose labels and picks the one with the highest probability\n",
    "get_predictions <- function(predictions, res_l){\n",
    "    ret_vec = c()\n",
    "    ret_l = list()\n",
    "    \n",
    "    for(i in 1:nrow(predictions)){\n",
    "        \n",
    "        ro <- predictions[i,]\n",
    "        mx <-max(ro)\n",
    "        ret_vec[length(ret_vec)+1 ] <- res[ match(mx, ro)] \n",
    "    }\n",
    "    \n",
    "    return (ret_vec)\n",
    "}\n",
    "\n",
    "\n",
    "############################################################################################################################\n",
    "\n",
    "select_data_frame<-function(df, df_list){\n",
    "    # 1  = response to question 2\n",
    "    # 2  = response to question 3\n",
    "    # 3  = response to question 4\n",
    "    # 4  = response to question 6\n",
    "    # 5  = response to question 8\n",
    "    # 6  = response to question 9\n",
    "    # 7  = response to question 10\n",
    "    # 8  = response to question 11\n",
    "    # 9  = response to question 12\n",
    "    # 10 = response to question the order response variable was chosen\n",
    "    # 11 = total survey time\n",
    "    # 12 = time between when response was chosen and 5 was submitted\n",
    "    # 13 = time it took to do question 5\n",
    "    # 14 = time between when 4 ws submitted and response was chosen\n",
    "    # 15 = responses chosen for response variable (what we are looking to model)\n",
    "    \n",
    "    # 1    2   3  4  5  6  7  8   8  10  11  12   13\n",
    "   #TT,T54_5,Q2,Q3,Q4,Q6,Q8,Q9,Q10,Q11,Q12,VGPO,VGPR\n",
    "    \n",
    "    #            1      2      3      4       5       6      7       8     9    \n",
    "    c_nms = c('PG3R','PG6R','PG8R','PG9R','PG12R','VGPO','TPG5S','TPSR','VGPR')\n",
    "    #c_nms = c('Comp.1','Comp.2','Comp.3','Comp.4','Comp.5','Comp.6','Comp.7','Comp.8','Comp.9','Comp.10','Comp.11',\n",
    "    #          'Comp.12','VGPR')\n",
    "    data_labels = c()\n",
    "    \n",
    "    \n",
    "    for(i in df_list){\n",
    "        data_labels[length(data_labels)+1] <- c_nms[i]\n",
    "    }\n",
    "    print(data_labels)\n",
    "    print(df_list)\n",
    "    return(make_data_frame(df, data_labels, df_list))\n",
    "}\n",
    "\n",
    "\n",
    "\n",
    "\n",
    "# makes a data fram using given data from df, the names of in dim_nm(dimenstion names)\n",
    "# and the list l(list of dimension names)\n",
    "# l contains which columns you want to add to return data frame(ret_df) from df, \n",
    "# and dim_nm contains the names of the added dimensions\n",
    "make_data_frame <-function(df, dim_nm, l){\n",
    "    \n",
    "    # add first column to data frame nameing it the first dimension name\n",
    "    ret_df <-data.frame(df[,1])\n",
    "    dimnames(ret_df)[[2]]<-c(dim_nm[1])\n",
    "    \n",
    "    # loop through creating and nameing as you go\n",
    "    for(i in 2:length(l)){\n",
    "        \n",
    "        ret_df[dim_nm[i]]<-df[,l[i]]\n",
    "    }\n",
    "    \n",
    "    return(ret_df)\n",
    "}\n",
    "#############################################################################################################################\n",
    "\n",
    "#converts a given date to unix seconds\n",
    "date_to_unix_sec <- function(val){\n",
    "    \n",
    "    num = as.numeric(as.POSIXct(strptime(val, '%Y-%m-%d %H:%M:%S')))\n",
    "    \n",
    "    return(num)\n",
    "}\n",
    "\n",
    "\n",
    "#Given a set of start times and a set of time stamps to go to will return the total seconds between the two\n",
    "# values should already be converted to seconds\n",
    "# makes sure the values are numeric in the return list\n",
    "seconds_since_start<-function(start, time_stamp)\n",
    "{\n",
    "    dif_l = c()\n",
    "    diff = list()\n",
    "    \n",
    "    for(i in 1:length(time_stamp) ){\n",
    "        if( !(is.na(time_stamp[i])) & !(is.na(start[i])) ){\n",
    "            dif_l[i] <- as.numeric(as.numeric(time_stamp[i]) - as.numeric(start[i]))    \n",
    "        }\n",
    "        \n",
    "    }\n",
    "    \n",
    "    return(dif_l)\n",
    "}\n",
    "\n",
    "make_ignore_list <- function(array_l, ignore_l){\n",
    "      \n",
    "    idx = 1\n",
    "    for(entry in array_l ){\n",
    "        if( is.na(entry) ){\n",
    "            if(!(idx %in% ignore_l)){\n",
    "                ignore_l[length(ignore_l)+1] = as.numeric(idx)\n",
    "            }\n",
    "        }else if(entry == ''){\n",
    "            if(!(idx %in% ignore_l)){\n",
    "                ignore_l[length(ignore_l)+1] = as.numeric(idx)\n",
    "            }  \n",
    "        }\n",
    "        idx <- idx + 1\n",
    "    }\n",
    "    #print(length(ignore_l))\n",
    "    return(ignore_l) \n",
    "}\n",
    "\n",
    "###########################################################################################################################\n",
    "\n",
    "make_label_list<-function(d_col, labels){\n",
    "    for(i in 1:length(d_col)){\n",
    "        label <- d_col[i]\n",
    "        if( !(label %in% labels) & label != \"\" & !is.na(label)){\n",
    "            labels[length(labels)+1] = as.character(label)\n",
    "        }\n",
    "    }\n",
    "    return (labels)   \n",
    "}\n",
    "  \n",
    "# replaces all responses that are given in the other field as other for simplification\n",
    "make_list_othersI<-function(d_col,valids, val_type){\n",
    "    \n",
    "    r_l = list()\n",
    "    \n",
    "    for(i in 1:length(d_col)){\n",
    "        \n",
    "        resp = d_col[i]\n",
    "        #print(resp)\n",
    "        if(resp != '' & !is.na(resp)){\n",
    "            \n",
    "            if(resp %in% valids){\n",
    "                if(val_type == 'c'){\n",
    "                    r_l[length(r_l) + 1] <- as.character(resp)    \n",
    "                }else if(val_type == 'i'){\n",
    "                    r_l[length[r_l]+1] <- as.integer(resp)\n",
    "                }else if(val_type == 'n'){\n",
    "                    r_l[length[r_l]+1] <- as.numeric(resp)\n",
    "                }\n",
    "                \n",
    "            }else{\n",
    "                r_l[length(r_l) + 1] <- 'other'\n",
    "            }\n",
    "        }\n",
    "    }\n",
    "        \n",
    "        return ( r_l )\n",
    "}\n",
    "############################################################################################################################        \n",
    "clean_label_data<-function(df_col, ign_l, label_l){\n",
    "    ret_c <- c()\n",
    "    \n",
    "    for(i in 1:length(df_col)){\n",
    "        if(!(i %in% ign_l)){\n",
    "            item <- df_col[i]\n",
    "            if(is.na(item)){\n",
    "                #ret_c[length(ret_c)+1] <-as.character(item)\n",
    "                ret_c[length(ret_c)+1] <- item\n",
    "            }else if(item == ''){\n",
    "                print('found a blank one')\n",
    "                ret_c[length(ret_c)+1] <- NA\n",
    "            }else if(item != ''){ \n",
    "                if(item %in% label_l){\n",
    "                    ret_c[length(ret_c)+1] <- as.character(item)\n",
    "                    #ret_c[length(ret_c)+1] <- item\n",
    "                }else{\n",
    "                    ret_c[length(ret_c)+1] <- as.character(\"other\")\n",
    "                    #ret_c[length(ret_c)+1] <- \"other\"\n",
    "                }\n",
    "            }\n",
    "        }\n",
    "    }\n",
    "    \n",
    "    return(ret_c)\n",
    "}     \n",
    "    \n",
    "    \n",
    "    \n",
    "clean_label_dataA<-function(df_col, ign_l, label_l){\n",
    "    ret_c <- c()\n",
    "    \n",
    "    for(i in 1:length(df_col)){\n",
    "        if(!(i %in% ign_l)){\n",
    "            item <- df_col[i]\n",
    "            \n",
    "            if(item %in% label_l){\n",
    "                ret_c[length(ret_c)+1] <- as.factor(item)\n",
    "                #ret_c[length(ret_c)+1] <- item\n",
    "            }else{\n",
    "                ret_c[length(ret_c)+1] <- as.factor(\"other\")\n",
    "                #ret_c[length(ret_c)+1] <- \"other\"\n",
    "            }\n",
    "            \n",
    "        }\n",
    "    }\n",
    "    \n",
    "    return(ret_c)\n",
    "}     \n",
    "    \n",
    "    \n",
    "    \n",
    "        \n",
    "# cleans the given data column of empty space and NA        \n",
    "clean_numeric_data<- function(df_col, ign_l){\n",
    "    ret_c <- c()\n",
    "    \n",
    "    for(i in 1:length(df_col)){\n",
    "        if(!(i %in% ign_l)){\n",
    "            item <- df_col[i]\n",
    "            if(is.na(item)){\n",
    "                 ret_c[length(ret_c)+1] <- item\n",
    "            }else if(item != ''){ \n",
    "                ret_c[length(ret_c)+1] <- as.numeric(item)\n",
    "            }else{\n",
    "                ret_c[length(ret_c)+1] <- NA\n",
    "            }\n",
    "            \n",
    "        }\n",
    "    }\n",
    "    \n",
    "    return(ret_c)\n",
    "}\n",
    "########################################################################################################################\n",
    "normalize <-function(d_arry){\n",
    "    \n",
    "    \n",
    "    mu = mean(d_arry)\n",
    "    \n",
    "    sdev = sd(d_arry)\n",
    "    \n",
    "    \n",
    "    for(i in 1:length(d_arry)){\n",
    "        val = d_arry[i]\n",
    "        d_arry[i] <- (d_arry[i] - mu)/ sdev\n",
    "    }\n",
    "\n",
    "    return(d_arry)\n",
    "}\n",
    "########################################################################################################################\n",
    "    "
   ]
  },
  {
   "cell_type": "code",
   "execution_count": 36,
   "metadata": {},
   "outputs": [],
   "source": [
    "find_empty<- function(d_col){\n",
    "    idx = 1\n",
    "    empty_idx = list()\n",
    "    for(i in d_col){\n",
    "        if(is.na(i)){\n",
    "            \n",
    "        }else if(i == ''){\n",
    "            empty_idx[length(empty_idx)+1] = idx\n",
    "        }   \n",
    "        idx <- idx + 1 \n",
    "    } \n",
    "    \n",
    "    \n",
    "    return(empty_idx)\n",
    "}\n",
    "\n",
    "\n",
    "replace_empty=function(d_col){\n",
    "    cnt = 1\n",
    "    for(i in d_col){\n",
    "        if(is.na(i)){\n",
    "            print('found na')\n",
    "        }else if( i == ''){\n",
    "            data[,'Device'][cnt] <- NA\n",
    "        }\n",
    "        cnt = cnt + 1\n",
    "    } \n",
    "    return(d_col)\n",
    "}\n",
    "\n",
    "\n",
    "get_vgptime=function(order, qt, dcol){\n",
    "    \n",
    "    for(i in 1:length(dcol)){\n",
    "        if(is.na(dcol[i])){\n",
    "            tseg = round(as.numeric(qt[i])/13,digits = 0)\n",
    "            o = as.numeric(order[i])\n",
    "            \n",
    "            dcol[i]<- as.integer(tseg*o)\n",
    "            #print(dcol[i])\n",
    "        }\n",
    "    }\n",
    "    \n",
    "    return(dcol)\n",
    "}"
   ]
  },
  {
   "cell_type": "code",
   "execution_count": 37,
   "metadata": {},
   "outputs": [],
   "source": [
    "###################### contains:\n",
    "#####    get_time_dif\n",
    "#####    convert_high_low\n",
    "#####    convert_to_num\n",
    "\n",
    "# figure out how much time passed between last response choice and VPG\n",
    "\n",
    "get_time_dif = function(data){\n",
    "    \n",
    "    dPG5_4O <- data$PG5_4Order\n",
    "    timediff = list()\n",
    "    for(i in 1:length(dPG5_4O)){\n",
    "        \n",
    "        o54 <- as.numeric(dPG5_4O[i])\n",
    "        \n",
    "        last = o54 - 1\n",
    "        #print(last)\n",
    "        for(j in 1:13){\n",
    "            \n",
    "            if(j != 4){\n",
    "                \n",
    "                vname = paste(c('PG5_',as.character(j),'Order'), collapse = '')\n",
    "                #print(vname)\n",
    "                prevO <- as.numeric(data[,vname])\n",
    "                 \n",
    "                crnt = prevO[i] \n",
    "                \n",
    "                #print(crnt)\n",
    "                \n",
    "                if(crnt == last ){\n",
    "                    #print('found current and last')\n",
    "                    vnameTime = paste(c('PG5_',j,'Time'), collapse = '')\n",
    "                    timediff[length(timediff)+1] = as.numeric(data[i, 'PG5_4Time']) - as.numeric(data[i,vnameTime])\n",
    "                    break\n",
    "                }\n",
    "            }\n",
    "        }\n",
    "    }\n",
    "    return(timediff)  \n",
    "}\n",
    "\n",
    "################################################################################################################\n",
    "convert_high_low=function(dcol_num, limit){\n",
    "    \n",
    "    ret_fac = list()\n",
    "    \n",
    "    for(i in 1:length(dcol_num)){\n",
    "        \n",
    "        if(dcol_num[i] >= limit){\n",
    "            ret_fac[length(ret_fac)+1] <- as.character('High')\n",
    "            \n",
    "        }else{\n",
    "            ret_fac[length(ret_fac)+1] <-as.character('Low')\n",
    "        }\n",
    "    }\n",
    "    \n",
    "    return(ret_fac)\n",
    "    \n",
    "}\n",
    "\n",
    "convert_to_num=function(dcol_num, labels){\n",
    "    \n",
    "    ret_fac = c()\n",
    "    \n",
    "    for(i in dcol_num){\n",
    "            ret_fac[length(ret_fac)+1] <- as.numeric(match(i, labels))\n",
    "    }\n",
    "    \n",
    "    return(ret_fac)\n",
    "    \n",
    "}"
   ]
  },
  {
   "cell_type": "code",
   "execution_count": null,
   "metadata": {},
   "outputs": [],
   "source": []
  },
  {
   "cell_type": "code",
   "execution_count": null,
   "metadata": {},
   "outputs": [],
   "source": [
    "############################################ My Methods\n",
    "\n",
    "\n",
    "#Given a set of start times and a set of time stamps to go to will return the total seconds between the two\n",
    "# values should already be converted to seconds\n",
    "# makes sure the values are numeric in the return list\n",
    "seconds_since_start<-function(start, time_stamp)\n",
    "{\n",
    "    dif_l = c()\n",
    "    diff = list()\n",
    "    \n",
    "    for(i in 1:length(time_stamp) ){\n",
    "        if( !(is.na(time_stamp[i])) & !(is.na(start[i])) ){\n",
    "            dif_l[i] <- as.numeric(as.numeric(time_stamp[i]) - as.numeric(start[i]))    \n",
    "        }\n",
    "        \n",
    "    }\n",
    "    \n",
    "    return(dif_l)\n",
    "}\n",
    "\n",
    "# helps to create a list of rows with bad data to be ignored\n",
    "# only adds the index containing a blank or NA entry if it does not already exist\n",
    "make_ignore_list <- function(array_l, ignore_l){\n",
    "      \n",
    "    idx = 1\n",
    "    for(entry in array_l ){\n",
    "        if( is.na(entry) ){\n",
    "            if(!(idx %in% ignore_l)){\n",
    "                ignore_l[length(ignore_l)+1] = as.numeric(idx)\n",
    "            }\n",
    "        }else if(entry == ''){\n",
    "            if(!(idx %in% ignore_l)){\n",
    "                ignore_l[length(ignore_l)+1] = as.numeric(idx)\n",
    "            }  \n",
    "        }\n",
    "        idx <- idx + 1\n",
    "    }\n",
    "    #print(length(ignore_l))\n",
    "    return(ignore_l) \n",
    "}\n",
    "\n",
    "# makes a list of responses where responses that are given in the other field are marked as other for simplification\n",
    "# takes as an argument a list of the given responses called valids\n",
    "# if the response is not in valids it is marked as other\n",
    "# the created list is used in conjuction with method , to help clean the data\n",
    "make_list_othersI<-function(d_col,valids, val_type){\n",
    "    \n",
    "    r_l = list()\n",
    "    \n",
    "    for(i in 1:length(d_col)){\n",
    "        \n",
    "        resp = d_col[i]\n",
    "        #print(resp)\n",
    "        if(resp != '' & !is.na(resp)){\n",
    "            \n",
    "            if(resp %in% valids){\n",
    "                if(val_type == 'c'){\n",
    "                    r_l[length(r_l) + 1] <- as.character(resp)    \n",
    "                }else if(val_type == 'i'){\n",
    "                    r_l[length[r_l]+1] <- as.integer(resp)\n",
    "                }else if(val_type == 'n'){\n",
    "                    r_l[length[r_l]+1] <- as.numeric(resp)\n",
    "                }\n",
    "                \n",
    "            }else{\n",
    "                r_l[length(r_l) + 1] <- 'other'\n",
    "            }\n",
    "        }\n",
    "    }\n",
    "        \n",
    "        return ( r_l )\n",
    "}\n",
    "\n",
    "# creates a list of unique labels used for cleaning label based data\n",
    "make_label_list<-function(d_col, labels){\n",
    "    for(i in 1:length(d_col)){\n",
    "        label <- d_col[i]\n",
    "        if( !(label %in% labels) & label != \"\" & !is.na(label)){\n",
    "            labels[length(labels)+1] = as.character(label)\n",
    "        }\n",
    "    }\n",
    "    return (labels)   \n",
    "}\n",
    "    \n",
    "\n",
    "    \n",
    "# cleans the given data column of empty space and NA using the ignore list       \n",
    "clean_numeric_data<- function(df_col, ign_l){\n",
    "    ret_c <- c()\n",
    "    \n",
    "    for(i in 1:length(df_col)){\n",
    "        if(!(i %in% ign_l)){\n",
    "            item <- df_col[i]\n",
    "            if(is.na(item)){\n",
    "                 ret_c[length(ret_c)+1] <- item\n",
    "            }else if(item != ''){ \n",
    "                ret_c[length(ret_c)+1] <- as.numeric(item)\n",
    "            }else{\n",
    "                ret_c[length(ret_c)+1] <- NA\n",
    "            }\n",
    "            \n",
    "        }\n",
    "    }\n",
    "    \n",
    "    return(ret_c)\n",
    "}\n",
    "    \n",
    "# only loads observations not in ignore list and just for \n",
    "# good measure makes sure non given labels are converted to other\n",
    "# there is some logic that should be removed, but left in due to time    \n",
    "clean_label_data<-function(df_col, ign_l, label_l){\n",
    "    ret_c <- c()\n",
    "    \n",
    "    for(i in 1:length(df_col)){\n",
    "        if(!(i %in% ign_l)){\n",
    "            item <- df_col[i]\n",
    "            if(is.na(item)){\n",
    "                #ret_c[length(ret_c)+1] <-as.character(item)\n",
    "                ret_c[length(ret_c)+1] <- item\n",
    "            }else if(item == ''){\n",
    "                print('found a blank one')\n",
    "                ret_c[length(ret_c)+1] <- NA\n",
    "            }else if(item != ''){ \n",
    "                if(item %in% label_l){\n",
    "                    ret_c[length(ret_c)+1] <- as.character(item)\n",
    "                    #ret_c[length(ret_c)+1] <- item\n",
    "                }else{\n",
    "                    ret_c[length(ret_c)+1] <- as.character(\"other\")\n",
    "                    #ret_c[length(ret_c)+1] <- \"other\"\n",
    "                }\n",
    "            }\n",
    "        }\n",
    "    }\n",
    "    \n",
    "    return(ret_c)\n",
    "} \n",
    "    \n",
    "    \n",
    "convert_high_low=function(dcol_num, limit){\n",
    "    \n",
    "    ret_fac = list()\n",
    "    \n",
    "    for(i in 1:length(dcol_num)){\n",
    "        \n",
    "        if(dcol_num[i] >= limit){\n",
    "            ret_fac[length(ret_fac)+1] <- as.character('High')\n",
    "            \n",
    "        }else{\n",
    "            ret_fac[length(ret_fac)+1] <-as.character('Low')\n",
    "        }\n",
    "    }\n",
    "    \n",
    "    return(ret_fac)\n",
    "    \n",
    "}\n",
    "\n",
    "convert_to_num=function(dcol_num, labels){\n",
    "    \n",
    "    ret_fac = c()\n",
    "    \n",
    "    for(i in dcol_num){\n",
    "            ret_fac[length(ret_fac)+1] <- as.numeric(match(i, labels))\n",
    "    }\n",
    "    \n",
    "    return(ret_fac)\n",
    "    \n",
    "}"
   ]
  },
  {
   "cell_type": "code",
   "execution_count": 133,
   "metadata": {
    "scrolled": true
   },
   "outputs": [
    {
     "name": "stdout",
     "output_type": "stream",
     "text": [
      "[1] \"We will ignore this many observations\"\n"
     ]
    },
    {
     "data": {
      "text/html": [
       "931"
      ],
      "text/latex": [
       "931"
      ],
      "text/markdown": [
       "931"
      ],
      "text/plain": [
       "[1] 931"
      ]
     },
     "metadata": {},
     "output_type": "display_data"
    },
    {
     "name": "stdout",
     "output_type": "stream",
     "text": [
      "[1] \"Length of TT\"\n"
     ]
    },
    {
     "data": {
      "text/html": [
       "422"
      ],
      "text/latex": [
       "422"
      ],
      "text/markdown": [
       "422"
      ],
      "text/plain": [
       "[1] 422"
      ]
     },
     "metadata": {},
     "output_type": "display_data"
    },
    {
     "name": "stdout",
     "output_type": "stream",
     "text": [
      "[1] \"length of T5\"\n"
     ]
    },
    {
     "data": {
      "text/html": [
       "422"
      ],
      "text/latex": [
       "422"
      ],
      "text/markdown": [
       "422"
      ],
      "text/plain": [
       "[1] 422"
      ]
     },
     "metadata": {},
     "output_type": "display_data"
    },
    {
     "name": "stdout",
     "output_type": "stream",
     "text": [
      "[1] \"Length of T4_54\"\n"
     ]
    },
    {
     "data": {
      "text/html": [
       "422"
      ],
      "text/latex": [
       "422"
      ],
      "text/markdown": [
       "422"
      ],
      "text/plain": [
       "[1] 422"
      ]
     },
     "metadata": {},
     "output_type": "display_data"
    },
    {
     "name": "stdout",
     "output_type": "stream",
     "text": [
      "[1] \"length of Q3\"\n"
     ]
    },
    {
     "data": {
      "text/html": [
       "422"
      ],
      "text/latex": [
       "422"
      ],
      "text/markdown": [
       "422"
      ],
      "text/plain": [
       "[1] 422"
      ]
     },
     "metadata": {},
     "output_type": "display_data"
    },
    {
     "name": "stdout",
     "output_type": "stream",
     "text": [
      "[1] \"length of Q6\"\n"
     ]
    },
    {
     "data": {
      "text/html": [
       "422"
      ],
      "text/latex": [
       "422"
      ],
      "text/markdown": [
       "422"
      ],
      "text/plain": [
       "[1] 422"
      ]
     },
     "metadata": {},
     "output_type": "display_data"
    },
    {
     "name": "stdout",
     "output_type": "stream",
     "text": [
      "[1] \"length of Q8\"\n"
     ]
    },
    {
     "data": {
      "text/html": [
       "422"
      ],
      "text/latex": [
       "422"
      ],
      "text/markdown": [
       "422"
      ],
      "text/plain": [
       "[1] 422"
      ]
     },
     "metadata": {},
     "output_type": "display_data"
    },
    {
     "name": "stdout",
     "output_type": "stream",
     "text": [
      "[1] \"length of Q9\"\n"
     ]
    },
    {
     "data": {
      "text/html": [
       "422"
      ],
      "text/latex": [
       "422"
      ],
      "text/markdown": [
       "422"
      ],
      "text/plain": [
       "[1] 422"
      ]
     },
     "metadata": {},
     "output_type": "display_data"
    },
    {
     "name": "stdout",
     "output_type": "stream",
     "text": [
      "[1] \"length of Q12\"\n"
     ]
    },
    {
     "data": {
      "text/html": [
       "422"
      ],
      "text/latex": [
       "422"
      ],
      "text/markdown": [
       "422"
      ],
      "text/plain": [
       "[1] 422"
      ]
     },
     "metadata": {},
     "output_type": "display_data"
    },
    {
     "name": "stdout",
     "output_type": "stream",
     "text": [
      "[1] \"length of VGPO\"\n"
     ]
    },
    {
     "data": {
      "text/html": [
       "422"
      ],
      "text/latex": [
       "422"
      ],
      "text/markdown": [
       "422"
      ],
      "text/plain": [
       "[1] 422"
      ]
     },
     "metadata": {},
     "output_type": "display_data"
    },
    {
     "name": "stdout",
     "output_type": "stream",
     "text": [
      "[1] \"length of VGPR\"\n"
     ]
    },
    {
     "data": {
      "text/html": [
       "422"
      ],
      "text/latex": [
       "422"
      ],
      "text/markdown": [
       "422"
      ],
      "text/plain": [
       "[1] 422"
      ]
     },
     "metadata": {},
     "output_type": "display_data"
    },
    {
     "name": "stdout",
     "output_type": "stream",
     "text": [
      "[1] \"Done\"\n"
     ]
    }
   ],
   "source": [
    "#                                          Cell 0\n",
    "\n",
    "############################################################################################################################\n",
    "############################################################################################################################\n",
    "############################################  Data Extraction   ############################################################\n",
    "############################################################################################################################\n",
    "############################################################################################################################\n",
    "\n",
    "\n",
    "\n",
    "#####################    Read the data from given .csv fiel\n",
    "data <- read.csv('TechSurvey - Survey.csv', header = T)\n",
    "\n",
    "\n",
    "\n",
    "########################   Extract some of the given time information and transform it into stuff I can use \n",
    "\n",
    "# convert date to unix second\n",
    "# start and end times\n",
    "# then do submission times\n",
    "for (i in c(\"Start\", \"End\")){ \n",
    "    data[,i] = as.numeric(as.POSIXct(strptime(data[,i], \"%Y-%m-%d %H:%M:%S\")))\n",
    "    #data[,i] = impute(data[,i], median)\n",
    "}\n",
    "for (i in 0:12){\n",
    "    vnam = paste(c(\"PG\",i,\"Submit\"), collapse=\"\")\n",
    "    data[,vnam] = as.numeric(as.POSIXct(strptime(data[,vnam], \"%Y-%m-%d %H:%M:%S\")))    \n",
    "    #data[,vnam] = impute(data[,vnam], min)\n",
    "}\n",
    "\n",
    "\n",
    "# convert responses to quesion 5 to unix seconds\n",
    "for (i in 1:13){\n",
    "    vnam = paste(c(\"PG5_\",i,\"Time\"), collapse=\"\")\n",
    "    data[,vnam] = as.numeric(as.POSIXct(strptime(data[,vnam], \"%Y-%m-%d %H:%M:%S\"))) \n",
    "}\n",
    "\n",
    "\n",
    "# get the time between when question 4 was submitted and when response 5_4 was submitted\n",
    "# the below method goes through each row and performs PG5_4Time - PG4Submit\n",
    "T4_54 <- seconds_since_start(data$PG4Submit, data$PG5_4Time)\n",
    "\n",
    "\n",
    "# calculate differences in time  for submits\n",
    "# Provided by Dr. Mockus\n",
    "for (i in 12:0){\n",
    "    pv = paste(c(\"PG\",i-1,\"Submit\"), collapse=\"\");\n",
    "    if (i==0) \n",
    "        pv=\"Start\";\n",
    "    vnam = paste(c(\"PG\",i,\"Submit\"), collapse=\"\");\n",
    "    data[,vnam] = data[,vnam] -data[,pv];\n",
    "}\n",
    "\n",
    "#########  Calculate the total time the quiz took for each observed quiz by subtracting the unix seconds the \n",
    "#########  quiz was ended from when it was started. This is accomplished with the method seconds_since_start\n",
    "#########  which just goes row by row calculating End[i] - Start[i] and storing the result in a vector returned \n",
    "#########  as TT(Totol Time)\n",
    "\n",
    "TT  = seconds_since_start(data$Start, data$End)\n",
    "\n",
    "######################################################################################################################\n",
    "\n",
    "########################################################################################################################\n",
    "########################################################################################################################\n",
    "###############################################   Data Cleaning    #####################################################\n",
    "########################################################################################################################\n",
    "########################################################################################################################\n",
    "\n",
    "\n",
    "############# Make a list of indices to ignore. The list will consist of row indices that contain blank entries or\n",
    "############# NA entries. This will help remove observations that contain missing or bad data. I tried earlier to \n",
    "############# use some imputation methods but it introduced many problems so I decided to go with discard imputation.\n",
    "############# I realize I lose a lot of data this way but the random imputation method wouldnt accuratly mimic the actual \n",
    "############# data and the mean and median method's I tried made the time based predictors have bad data(negative) entries\n",
    "############# I do this with my method make_ignore_list which goes through the given data column and looks for missing\n",
    "############# or NA entries and stores the index where this occurs if it is not already in the list(see line 131 in cell )\n",
    "\n",
    "ignore_l = list()\n",
    "\n",
    "#############################   Grab bad data indices for response information\n",
    "\n",
    "ignore_l = make_ignore_list(data$PG5_4VGP, ignore_l)    # 10-Response variable, the responses to question 5_4\n",
    "ignore_l = make_ignore_list(data$PG5_4Order, ignore_l)  # 9--The order the response to quesiion 5_4 was chosen\n",
    "ignore_l = make_ignore_list(data$PG12Resp, ignore_l)    # 8--Response to question 12 (the age of the user)\n",
    "ignore_l = make_ignore_list(data$PG9Resp, ignore_l)     # 7--Response to question 9  (number of projecst worked on)\n",
    "ignore_l = make_ignore_list(data$PG8Resp, ignore_l)     # 6--Response to question 8  (the job the user has at the time)\n",
    "ignore_l = make_ignore_list(data$PG6Resp, ignore_l)     # 5--Response to question 6  (years of experience in development)\n",
    "ignore_l = make_ignore_list(data$PG2Resp.1, ignore_l)   # 4--Response to question 3  (why this package was chosen)\n",
    "\n",
    "\n",
    "\n",
    "############################  Grab bad data indices for time data\n",
    "\n",
    "#for predictor T5\n",
    "ignore_l = make_ignore_list(data$PG5Submit, ignore_l)   # 3--data for when question 5 was submitted\n",
    "\n",
    "\n",
    "# for predictor T4_54 get bad indices for submit time of question 4\n",
    "# and question 5_4\n",
    "ignore_l = make_ignore_list(data$PG4Submit, ignore_l)   # 2--time when question 4 was submitted\n",
    "ignore_l = make_ignore_list(data$PG5_4Time, ignore_l)   # 2--time response 4 for questionm 5 was submitted\n",
    "\n",
    "#for for predictor total time (TT)\n",
    "ignore_l = make_ignore_list(data$End, ignore_l)          #1         \n",
    "ignore_l = make_ignore_list(data$Start, ignore_l)        #1 \n",
    "\n",
    "\n",
    "print('We will ignore this many observations')\n",
    "length(ignore_l)\n",
    "\n",
    "######################################################################################################################\n",
    "######################################################################################################################\n",
    "######################################################################################################################\n",
    "######################################################################################################################\n",
    "######################################################################################################################\n",
    "\n",
    "\n",
    "####### use the method make_list_othersI to convert questions with the other entry option so that any entry that is not\n",
    "####### one of the given options is marked as other. It takes the data column and a list of the given options for that\n",
    "####### question and returns the adjusted data column\n",
    "\n",
    "# Make adjusted list of responses for Question 3\n",
    "# where responses that are given in other field are just labeled as other\n",
    "PG3labels = list('The core \"data.frame\" object lacked functionality that I needed',\n",
    "                 'Chose the package to be compatible with other packages in my project',\n",
    "                 'I saw a recommendation for the package',\n",
    "                 'I didn\\'t choose to use the package, it was included implicitly / unintentionally')\n",
    "pg3test = make_list_othersI(data$PG2Resp.1, PG3labels, 'c')\n",
    "\n",
    "\n",
    "# Make adjusted list of responses for Question 8\n",
    "# where responses that are given in other field are just labeled as other\n",
    "PG8labels = list(\"Data Scientist\",\n",
    "                 \"Software Engineer\")\n",
    "pg8test = make_list_othersI(data$PG8Resp, PG8labels, 'c')\n",
    "\n",
    "\n",
    "########## create a list of labels for later processing\n",
    "labels = list()\n",
    "\n",
    "labels<-make_label_list(pg3test, labels)\n",
    "labels<-make_label_list(data$PG5_4VGP, labels)\n",
    "labels<-make_label_list(data$PG6Resp, labels)\n",
    "labels<-make_label_list(pg8test, labels)\n",
    "labels<-make_label_list(data$PG9Resp, labels)\n",
    "labels<-make_label_list(data$PG12Resp, labels)\n",
    "\n",
    "######################################################################################################################\n",
    "######################################################################################################################\n",
    "\n",
    "#####################             adjust the predictors I chose: \n",
    "############                               For numeric predictors use clean_numeric_data to remove bad data\n",
    "####                                       For label based predictors use clean_label_data to remove bad data\n",
    "TT<-clean_numeric_data(TT, ignore_l)                            \n",
    "print('Length of TT')\n",
    "length(TT)\n",
    "\n",
    "T5<-clean_numeric_data(data$PG5Submit, ignore_l)                # Time of submitting q 5 \n",
    "print('length of T5')\n",
    "length(T5)\n",
    "\n",
    "T4_54<-clean_numeric_data(T4_54, ignore_l)                       # Time between q4 and response 5_4     \n",
    "print('Length of T4_54')\n",
    "length(T4_54)\n",
    "#summary(T4_54)\n",
    "\n",
    "Q3<-clean_label_data(data$PG2Resp.1, ignore_l, labels)             # PG3 Responses\n",
    "print('length of Q3')\n",
    "length(Q3)\n",
    "\n",
    "\n",
    "Q6<-clean_label_data(data$PG6Resp, ignore_l, labels)                # PG6 responses\n",
    "print('length of Q6')\n",
    "length(Q6)\n",
    "\n",
    "\n",
    "Q8<-clean_label_data(data$PG8Resp, ignore_l, labels)                # PG8 responses\n",
    "print('length of Q8')\n",
    "length(Q8)\n",
    "\n",
    "Q9<-clean_label_data(data$PG9Resp, ignore_l, labels)                # PG9 responses\n",
    "print('length of Q9')\n",
    "length(Q9)\n",
    "\n",
    "\n",
    "Q12<-clean_label_data(data$PG12Resp, ignore_l, labels)                # PG12 responses\n",
    "print('length of Q12')\n",
    "length(Q12)\n",
    "\n",
    "VGPO<-clean_numeric_data(data$PG5_4Order, ignore_l)                  # VGPO \n",
    "print('length of VGPO')\n",
    "length(VGPO)\n",
    "\n",
    "\n",
    "# make sure the order tops out at 13\n",
    "#indices found earlier\n",
    "VGPO[115] <- 13\n",
    "VGPO[98]  <- 13\n",
    "VGPO[25]  <- 13\n",
    "VGPO[121]  <- 13\n",
    "VGPO[366] <-13\n",
    "VGPO[375] <-13\n",
    "VGPO[13] <-13\n",
    "VGPO[48] <-13\n",
    "VGPO[49] <-13\n",
    "VGPO[52] <-13\n",
    "VGPO[149] <-13\n",
    "VGPO[189] <-13\n",
    "VGPO[206] <-13\n",
    "VGPO[298] <-13\n",
    "VGPO[361] <-13\n",
    "VGPO[374] <-13\n",
    "VGPO[387] <-13\n",
    "VGPO[421] <-13\n",
    "\n",
    "\n",
    "#####################                       response variable\n",
    "VGPR<-clean_label_data(data$PG5_4VGP, ignore_l, labels)               # VGPR responses to q5_4\n",
    "print('length of VGPR')\n",
    "length(VGPR)\n",
    "\n",
    "#######################################################################################################################\n",
    "####################                       Now convert response variable to High(1), and low(0) responses\n",
    "####################                       logistic regression\n",
    "\n",
    "####### Convert the response variable into a binary(High/low) version\n",
    "####### use method convert_to_num to turn it into a set of numbers representing the labels\n",
    "VGPR_num <- convert_to_num(VGPR, c('Not a Priority','Low Priority','Medium Priority','High Priority','Essential'))\n",
    "\n",
    "####### Now use the method convert_high_low to convert the number version into a High low version\n",
    "VGPR_HL <- convert_high_low(VGPR_num, 3)\n",
    "#VGPR_HL\n",
    "VGPR_HL <-convert_to_num(VGPR_HL, c('Low','High'))\n",
    "VGPR_HL <- VGPR_HL - 1\n",
    "\n",
    "\n",
    "##################### now use the options for each predictor question to convert them into numeric versions\n",
    "##################### I tried to rank them based on how I think the will hint at priority 1=lowest, length=Highest\n",
    "\n",
    "# why this package was chosen\n",
    "Q3labels =    c('I didn\\'t choose to use the package, it was included implicitly / unintentionally', # 1\n",
    "                \"Chose the package to be compatible with other packages in my project\",             # 2\n",
    "                'The core \"data.frame\" object lacked functionality that I needed',                  # 3\n",
    "                'other',                                                                            # 4\n",
    "                \"I saw a recommendation for the package\")                                           # 5                                 #\n",
    "\n",
    "\n",
    "# years of experience\n",
    "Q6labels =    c('Less than 2 years',                                                                # 1\n",
    "                '20 years or more',                                                                 # 2\n",
    "                '13 - 19 years',                                                                    # 3 \n",
    "                '6 - 8 years',                                                                      # 4                                                                       # 5 \n",
    "                '9 - 12 years',                                                                     # 5\n",
    "                '2 - 5 years')                                                                      # 6\n",
    "\n",
    "# job at the time\n",
    "Q8labels =    c('Data Scientist',                                          # 1\n",
    "                'other',                                                   # 2\n",
    "                'Software Engineer')                                       # 3\n",
    "\n",
    "# number of projects worked on \n",
    "Q9labels =    c('1',\n",
    "                'More than 25',\n",
    "                '16 - 25',\n",
    "                '11 - 15',\n",
    "                '2 - 3',\n",
    "                '4 - 6',\n",
    "                '7 - 10')\n",
    "# age of user\n",
    "Q12labels =    c('65 and over',\n",
    "                 '55 - 64',\n",
    "                 '45 - 54',\n",
    "                 '35 - 44',\n",
    "                 '25 - 34',\n",
    "                 '18 - 24')\n",
    "\n",
    "#######################################################################################################################\n",
    "####################                       Now turn all non numeric predictors into numeric versions of themselves for\n",
    "####################                       logistic regression\n",
    "Q3nm =  as.numeric(convert_to_num(Q3,Q3labels))\n",
    "\n",
    "Q6nm =  as.numeric(convert_to_num(Q6,Q6labels))\n",
    "\n",
    "Q8nm =  as.numeric(convert_to_num(Q8,Q8labels))\n",
    "\n",
    "Q9nm =  as.numeric(convert_to_num(Q9,Q9labels))\n",
    "\n",
    "Q12nm =  as.numeric(convert_to_num(Q12,Q12labels))\n",
    "\n",
    "VGPO <- as.numeric(VGPO)\n",
    "\n",
    "print('Done')\n",
    "# 1    2     3   4  5  6  7  8    9    10  \n",
    "#TT, T4_54, T5, Q3,Q6,Q8,Q9,Q12,VGPO,VGPR"
   ]
  },
  {
   "cell_type": "code",
   "execution_count": 134,
   "metadata": {},
   "outputs": [
    {
     "name": "stdout",
     "output_type": "stream",
     "text": [
      "[1] \"TT\"\n"
     ]
    },
    {
     "data": {
      "text/plain": [
       "     Min.   1st Qu.    Median      Mean   3rd Qu.      Max. \n",
       "  120.000   187.250   235.500   412.777   312.000 20546.000 "
      ]
     },
     "metadata": {},
     "output_type": "display_data"
    },
    {
     "name": "stdout",
     "output_type": "stream",
     "text": [
      "[1] \"T4_54\"\n"
     ]
    },
    {
     "data": {
      "text/plain": [
       "     Min.   1st Qu.    Median      Mean   3rd Qu.      Max. \n",
       "  12.0000   36.0000   48.5000   60.2844   64.7500 1365.0000 "
      ]
     },
     "metadata": {},
     "output_type": "display_data"
    },
    {
     "name": "stdout",
     "output_type": "stream",
     "text": [
      "[1] \"T5\"\n"
     ]
    },
    {
     "data": {
      "text/plain": [
       "     Min.   1st Qu.    Median      Mean   3rd Qu.      Max. \n",
       "  21.0000   56.0000   69.0000   85.4739   89.0000 1371.0000 "
      ]
     },
     "metadata": {},
     "output_type": "display_data"
    },
    {
     "name": "stdout",
     "output_type": "stream",
     "text": [
      "[1] \"Q3\"\n"
     ]
    },
    {
     "data": {
      "text/plain": [
       "   Min. 1st Qu.  Median    Mean 3rd Qu.    Max. \n",
       " 1.0000  3.0000  3.0000  3.3128  4.0000  5.0000 "
      ]
     },
     "metadata": {},
     "output_type": "display_data"
    },
    {
     "name": "stdout",
     "output_type": "stream",
     "text": [
      "[1] \"Q6\"\n"
     ]
    },
    {
     "data": {
      "text/plain": [
       "   Min. 1st Qu.  Median    Mean 3rd Qu.    Max. \n",
       "1.00000 1.00000 4.50000 4.00237 6.00000 6.00000 "
      ]
     },
     "metadata": {},
     "output_type": "display_data"
    },
    {
     "name": "stdout",
     "output_type": "stream",
     "text": [
      "[1] \"Q8\"\n"
     ]
    },
    {
     "data": {
      "text/plain": [
       "   Min. 1st Qu.  Median    Mean 3rd Qu.    Max. \n",
       " 1.0000  1.0000  1.0000  1.5545  2.0000  3.0000 "
      ]
     },
     "metadata": {},
     "output_type": "display_data"
    },
    {
     "name": "stdout",
     "output_type": "stream",
     "text": [
      "[1] \"Q9\"\n"
     ]
    },
    {
     "data": {
      "text/plain": [
       "   Min. 1st Qu.  Median    Mean 3rd Qu.    Max. \n",
       "1.00000 3.00000 5.00000 4.59953 6.00000 7.00000 "
      ]
     },
     "metadata": {},
     "output_type": "display_data"
    },
    {
     "name": "stdout",
     "output_type": "stream",
     "text": [
      "[1] \"Q12\"\n"
     ]
    },
    {
     "data": {
      "text/plain": [
       "   Min. 1st Qu.  Median    Mean 3rd Qu.    Max. \n",
       "1.00000 4.00000 5.00000 4.35545 5.00000 6.00000 "
      ]
     },
     "metadata": {},
     "output_type": "display_data"
    },
    {
     "name": "stdout",
     "output_type": "stream",
     "text": [
      "[1] \"VGPO\"\n"
     ]
    },
    {
     "data": {
      "text/plain": [
       "    Min.  1st Qu.   Median     Mean  3rd Qu.     Max. \n",
       " 1.00000  4.00000  6.00000  6.77962 10.00000 13.00000 "
      ]
     },
     "metadata": {},
     "output_type": "display_data"
    },
    {
     "name": "stdout",
     "output_type": "stream",
     "text": [
      "[1] \"VGPR_HL\"\n"
     ]
    },
    {
     "data": {
      "text/plain": [
       "    Min.  1st Qu.   Median     Mean  3rd Qu.     Max. \n",
       "0.000000 0.000000 1.000000 0.597156 1.000000 1.000000 "
      ]
     },
     "metadata": {},
     "output_type": "display_data"
    }
   ],
   "source": [
    "#                                      Cell 1\n",
    "# 1    2     3   4  5  6  7  8    9    10  \n",
    "#TT, T4_54, T5, Q3,Q6,Q8,Q9,Q12,VGPO,VGPR\n",
    "\n",
    "\n",
    "print('TT')\n",
    "summary(TT)\n",
    "\n",
    "print('T4_54')\n",
    "summary(T4_54)\n",
    "\n",
    "print('T5')\n",
    "summary(T5)\n",
    "\n",
    "print('Q3')\n",
    "summary(Q3nm)\n",
    "\n",
    "print('Q6')\n",
    "summary(Q6nm)\n",
    "\n",
    "print('Q8')\n",
    "summary(Q8nm)\n",
    "\n",
    "print('Q9')\n",
    "summary(Q9nm)\n",
    "\n",
    "print('Q12')\n",
    "summary(Q12nm)\n",
    "\n",
    "print('VGPO')\n",
    "summary(VGPO)\n",
    "\n",
    "print('VGPR_HL')\n",
    "summary(VGPR_HL)\n",
    "\n"
   ]
  },
  {
   "cell_type": "code",
   "execution_count": 141,
   "metadata": {},
   "outputs": [
    {
     "data": {
      "text/plain": [
       "       TT           T4_54            T5             Q3             Q6     \n",
       " Min.   :4.79   Min.   :2.48   Min.   :3.04   Min.   :1.00   Min.   :1.0  \n",
       " 1st Qu.:5.23   1st Qu.:3.58   1st Qu.:4.03   1st Qu.:3.00   1st Qu.:1.0  \n",
       " Median :5.46   Median :3.88   Median :4.23   Median :3.00   Median :4.5  \n",
       " Mean   :5.59   Mean   :3.88   Mean   :4.30   Mean   :3.31   Mean   :4.0  \n",
       " 3rd Qu.:5.74   3rd Qu.:4.17   3rd Qu.:4.49   3rd Qu.:4.00   3rd Qu.:6.0  \n",
       " Max.   :9.93   Max.   :7.22   Max.   :7.22   Max.   :5.00   Max.   :6.0  \n",
       "       Q8             Q9           Q12            VGPO          VGPR_HL     \n",
       " Min.   :1.00   Min.   :1.0   Min.   :1.00   Min.   : 1.00   Min.   :0.000  \n",
       " 1st Qu.:1.00   1st Qu.:3.0   1st Qu.:4.00   1st Qu.: 4.00   1st Qu.:0.000  \n",
       " Median :1.00   Median :5.0   Median :5.00   Median : 6.00   Median :1.000  \n",
       " Mean   :1.55   Mean   :4.6   Mean   :4.36   Mean   : 6.78   Mean   :0.597  \n",
       " 3rd Qu.:2.00   3rd Qu.:6.0   3rd Qu.:5.00   3rd Qu.:10.00   3rd Qu.:1.000  \n",
       " Max.   :3.00   Max.   :7.0   Max.   :6.00   Max.   :13.00   Max.   :1.000  "
      ]
     },
     "metadata": {},
     "output_type": "display_data"
    },
    {
     "name": "stdout",
     "output_type": "stream",
     "text": [
      "'data.frame':\t422 obs. of  10 variables:\n",
      " $ TT     : num  5.6 5 4.88 5.22 5.18 ...\n",
      " $ T4_54  : num  3.5 3.14 3.74 3.3 3.71 ...\n",
      " $ T5     : num  4.39 3.97 4.01 3.58 4.22 ...\n",
      " $ Q3     : num  3 3 3 4 3 3 3 4 4 3 ...\n",
      " $ Q6     : num  1 3 6 4 6 4 4 1 6 6 ...\n",
      " $ Q8     : num  2 2 1 2 1 1 2 2 2 1 ...\n",
      " $ Q9     : num  6 4 4 6 6 6 6 5 7 1 ...\n",
      " $ Q12    : num  2 3 4 6 4 4 5 6 4 5 ...\n",
      " $ VGPO   : num  4 3 9 8 4 2 2 13 8 13 ...\n",
      " $ VGPR_HL: num  1 0 1 0 1 1 1 0 1 1 ...\n"
     ]
    }
   ],
   "source": [
    "#                                                Cell 2\n",
    "\n",
    "# 1    2     3   4  5  6  7  8    9    10  \n",
    "#TT, T4_54, T5, Q3,Q6,Q8,Q9,Q12,VGPO,VGPR_HL\n",
    "\n",
    "#vars <- cbind(log(TT), log(T4_54), log(T5), Q3,Q6,Q8,Q9,Q12,VGPO,(VGPR_HL))\n",
    "vars <- cbind(log(TT), log(T4_54), log(T5), Q3nm,Q6nm,Q8nm,Q9nm,Q12nm,VGPO,VGPR_HL)\n",
    "my_df <- data.frame(vars)\n",
    "\n",
    "dimnames(my_df)[[2]]<-c('TT','T4_54','T5','Q3','Q6','Q8','Q9','Q12','VGPO','VGPR_HL')\n",
    "#my_df\n",
    "summary(my_df)\n",
    "str(my_df)"
   ]
  },
  {
   "cell_type": "code",
   "execution_count": 142,
   "metadata": {},
   "outputs": [
    {
     "data": {
      "text/html": [
       "<table>\n",
       "<thead><tr><th></th><th scope=col>TT</th><th scope=col>T4_54</th><th scope=col>T5</th><th scope=col>Q3</th><th scope=col>Q6</th><th scope=col>Q8</th><th scope=col>Q9</th><th scope=col>Q12</th><th scope=col>VGPO</th><th scope=col>VGPR_HL</th></tr></thead>\n",
       "<tbody>\n",
       "\t<tr><th scope=row>TT</th><td> 1.000000 </td><td> 0.4426217</td><td> 0.615667 </td><td> 0.1353182</td><td>-0.043663 </td><td> 0.1002074</td><td>-0.054181 </td><td> 0.039377 </td><td> 0.067886 </td><td> 0.0146547</td></tr>\n",
       "\t<tr><th scope=row>T4_54</th><td> 0.442622 </td><td> 1.0000000</td><td> 0.693759 </td><td> 0.0660359</td><td> 0.022395 </td><td>-0.0017442</td><td>-0.027222 </td><td>-0.066542 </td><td> 0.628397 </td><td>-0.0015271</td></tr>\n",
       "\t<tr><th scope=row>T5</th><td> 0.615667 </td><td> 0.6937592</td><td> 1.000000 </td><td> 0.0807847</td><td>-0.011492 </td><td> 0.0541179</td><td>-0.041763 </td><td>-0.026730 </td><td> 0.156719 </td><td> 0.0432345</td></tr>\n",
       "\t<tr><th scope=row>Q3</th><td> 0.135318 </td><td> 0.0660359</td><td> 0.080785 </td><td> 1.0000000</td><td>-0.035597 </td><td> 0.1105730</td><td>-0.077934 </td><td>-0.038004 </td><td> 0.040806 </td><td>-0.0059209</td></tr>\n",
       "\t<tr><th scope=row>Q6</th><td>-0.043663 </td><td> 0.0223946</td><td>-0.011492 </td><td>-0.0355972</td><td> 1.000000 </td><td>-0.1164689</td><td> 0.217759 </td><td> 0.071617 </td><td> 0.011352 </td><td> 0.1456933</td></tr>\n",
       "\t<tr><th scope=row>Q8</th><td> 0.100207 </td><td>-0.0017442</td><td> 0.054118 </td><td> 0.1105730</td><td>-0.116469 </td><td> 1.0000000</td><td>-0.145174 </td><td>-0.023552 </td><td>-0.011615 </td><td>-0.0130508</td></tr>\n",
       "\t<tr><th scope=row>Q9</th><td>-0.054181 </td><td>-0.0272222</td><td>-0.041763 </td><td>-0.0779342</td><td> 0.217759 </td><td>-0.1451742</td><td> 1.000000 </td><td> 0.084758 </td><td>-0.019044 </td><td> 0.0492474</td></tr>\n",
       "\t<tr><th scope=row>Q12</th><td> 0.039377 </td><td>-0.0665416</td><td>-0.026730 </td><td>-0.0380038</td><td> 0.071617 </td><td>-0.0235522</td><td> 0.084758 </td><td> 1.000000 </td><td> 0.017469 </td><td> 0.0186282</td></tr>\n",
       "\t<tr><th scope=row>VGPO</th><td> 0.067886 </td><td> 0.6283968</td><td> 0.156719 </td><td> 0.0408061</td><td> 0.011352 </td><td>-0.0116152</td><td>-0.019044 </td><td> 0.017469 </td><td> 1.000000 </td><td>-0.1698596</td></tr>\n",
       "\t<tr><th scope=row>VGPR_HL</th><td> 0.014655 </td><td>-0.0015271</td><td> 0.043235 </td><td>-0.0059209</td><td> 0.145693 </td><td>-0.0130508</td><td> 0.049247 </td><td> 0.018628 </td><td>-0.169860 </td><td> 1.0000000</td></tr>\n",
       "</tbody>\n",
       "</table>\n"
      ],
      "text/latex": [
       "\\begin{tabular}{r|llllllllll}\n",
       "  & TT & T4\\_54 & T5 & Q3 & Q6 & Q8 & Q9 & Q12 & VGPO & VGPR\\_HL\\\\\n",
       "\\hline\n",
       "\tTT &  1.000000  &  0.4426217 &  0.615667  &  0.1353182 & -0.043663  &  0.1002074 & -0.054181  &  0.039377  &  0.067886  &  0.0146547\\\\\n",
       "\tT4\\_54 &  0.442622  &  1.0000000 &  0.693759  &  0.0660359 &  0.022395  & -0.0017442 & -0.027222  & -0.066542  &  0.628397  & -0.0015271\\\\\n",
       "\tT5 &  0.615667  &  0.6937592 &  1.000000  &  0.0807847 & -0.011492  &  0.0541179 & -0.041763  & -0.026730  &  0.156719  &  0.0432345\\\\\n",
       "\tQ3 &  0.135318  &  0.0660359 &  0.080785  &  1.0000000 & -0.035597  &  0.1105730 & -0.077934  & -0.038004  &  0.040806  & -0.0059209\\\\\n",
       "\tQ6 & -0.043663  &  0.0223946 & -0.011492  & -0.0355972 &  1.000000  & -0.1164689 &  0.217759  &  0.071617  &  0.011352  &  0.1456933\\\\\n",
       "\tQ8 &  0.100207  & -0.0017442 &  0.054118  &  0.1105730 & -0.116469  &  1.0000000 & -0.145174  & -0.023552  & -0.011615  & -0.0130508\\\\\n",
       "\tQ9 & -0.054181  & -0.0272222 & -0.041763  & -0.0779342 &  0.217759  & -0.1451742 &  1.000000  &  0.084758  & -0.019044  &  0.0492474\\\\\n",
       "\tQ12 &  0.039377  & -0.0665416 & -0.026730  & -0.0380038 &  0.071617  & -0.0235522 &  0.084758  &  1.000000  &  0.017469  &  0.0186282\\\\\n",
       "\tVGPO &  0.067886  &  0.6283968 &  0.156719  &  0.0408061 &  0.011352  & -0.0116152 & -0.019044  &  0.017469  &  1.000000  & -0.1698596\\\\\n",
       "\tVGPR\\_HL &  0.014655  & -0.0015271 &  0.043235  & -0.0059209 &  0.145693  & -0.0130508 &  0.049247  &  0.018628  & -0.169860  &  1.0000000\\\\\n",
       "\\end{tabular}\n"
      ],
      "text/markdown": [
       "\n",
       "| <!--/--> | TT | T4_54 | T5 | Q3 | Q6 | Q8 | Q9 | Q12 | VGPO | VGPR_HL | \n",
       "|---|---|---|---|---|---|---|---|---|---|\n",
       "| TT |  1.000000  |  0.4426217 |  0.615667  |  0.1353182 | -0.043663  |  0.1002074 | -0.054181  |  0.039377  |  0.067886  |  0.0146547 | \n",
       "| T4_54 |  0.442622  |  1.0000000 |  0.693759  |  0.0660359 |  0.022395  | -0.0017442 | -0.027222  | -0.066542  |  0.628397  | -0.0015271 | \n",
       "| T5 |  0.615667  |  0.6937592 |  1.000000  |  0.0807847 | -0.011492  |  0.0541179 | -0.041763  | -0.026730  |  0.156719  |  0.0432345 | \n",
       "| Q3 |  0.135318  |  0.0660359 |  0.080785  |  1.0000000 | -0.035597  |  0.1105730 | -0.077934  | -0.038004  |  0.040806  | -0.0059209 | \n",
       "| Q6 | -0.043663  |  0.0223946 | -0.011492  | -0.0355972 |  1.000000  | -0.1164689 |  0.217759  |  0.071617  |  0.011352  |  0.1456933 | \n",
       "| Q8 |  0.100207  | -0.0017442 |  0.054118  |  0.1105730 | -0.116469  |  1.0000000 | -0.145174  | -0.023552  | -0.011615  | -0.0130508 | \n",
       "| Q9 | -0.054181  | -0.0272222 | -0.041763  | -0.0779342 |  0.217759  | -0.1451742 |  1.000000  |  0.084758  | -0.019044  |  0.0492474 | \n",
       "| Q12 |  0.039377  | -0.0665416 | -0.026730  | -0.0380038 |  0.071617  | -0.0235522 |  0.084758  |  1.000000  |  0.017469  |  0.0186282 | \n",
       "| VGPO |  0.067886  |  0.6283968 |  0.156719  |  0.0408061 |  0.011352  | -0.0116152 | -0.019044  |  0.017469  |  1.000000  | -0.1698596 | \n",
       "| VGPR_HL |  0.014655  | -0.0015271 |  0.043235  | -0.0059209 |  0.145693  | -0.0130508 |  0.049247  |  0.018628  | -0.169860  |  1.0000000 | \n",
       "\n",
       "\n"
      ],
      "text/plain": [
       "        TT        T4_54      T5        Q3         Q6        Q8        \n",
       "TT       1.000000  0.4426217  0.615667  0.1353182 -0.043663  0.1002074\n",
       "T4_54    0.442622  1.0000000  0.693759  0.0660359  0.022395 -0.0017442\n",
       "T5       0.615667  0.6937592  1.000000  0.0807847 -0.011492  0.0541179\n",
       "Q3       0.135318  0.0660359  0.080785  1.0000000 -0.035597  0.1105730\n",
       "Q6      -0.043663  0.0223946 -0.011492 -0.0355972  1.000000 -0.1164689\n",
       "Q8       0.100207 -0.0017442  0.054118  0.1105730 -0.116469  1.0000000\n",
       "Q9      -0.054181 -0.0272222 -0.041763 -0.0779342  0.217759 -0.1451742\n",
       "Q12      0.039377 -0.0665416 -0.026730 -0.0380038  0.071617 -0.0235522\n",
       "VGPO     0.067886  0.6283968  0.156719  0.0408061  0.011352 -0.0116152\n",
       "VGPR_HL  0.014655 -0.0015271  0.043235 -0.0059209  0.145693 -0.0130508\n",
       "        Q9        Q12       VGPO      VGPR_HL   \n",
       "TT      -0.054181  0.039377  0.067886  0.0146547\n",
       "T4_54   -0.027222 -0.066542  0.628397 -0.0015271\n",
       "T5      -0.041763 -0.026730  0.156719  0.0432345\n",
       "Q3      -0.077934 -0.038004  0.040806 -0.0059209\n",
       "Q6       0.217759  0.071617  0.011352  0.1456933\n",
       "Q8      -0.145174 -0.023552 -0.011615 -0.0130508\n",
       "Q9       1.000000  0.084758 -0.019044  0.0492474\n",
       "Q12      0.084758  1.000000  0.017469  0.0186282\n",
       "VGPO    -0.019044  0.017469  1.000000 -0.1698596\n",
       "VGPR_HL  0.049247  0.018628 -0.169860  1.0000000"
      ]
     },
     "metadata": {},
     "output_type": "display_data"
    },
    {
     "data": {
      "text/html": [
       "<table>\n",
       "<thead><tr><th></th><th scope=col>TT</th><th scope=col>T4_54</th><th scope=col>T5</th><th scope=col>VGPO</th></tr></thead>\n",
       "<tbody>\n",
       "\t<tr><th scope=row>TT</th><td>1.000000</td><td>0.44262 </td><td>0.61567 </td><td>0.067886</td></tr>\n",
       "\t<tr><th scope=row>T4_54</th><td>0.442622</td><td>1.00000 </td><td>0.69376 </td><td>0.628397</td></tr>\n",
       "\t<tr><th scope=row>T5</th><td>0.615667</td><td>0.69376 </td><td>1.00000 </td><td>0.156719</td></tr>\n",
       "\t<tr><th scope=row>VGPO</th><td>0.067886</td><td>0.62840 </td><td>0.15672 </td><td>1.000000</td></tr>\n",
       "</tbody>\n",
       "</table>\n"
      ],
      "text/latex": [
       "\\begin{tabular}{r|llll}\n",
       "  & TT & T4\\_54 & T5 & VGPO\\\\\n",
       "\\hline\n",
       "\tTT & 1.000000 & 0.44262  & 0.61567  & 0.067886\\\\\n",
       "\tT4\\_54 & 0.442622 & 1.00000  & 0.69376  & 0.628397\\\\\n",
       "\tT5 & 0.615667 & 0.69376  & 1.00000  & 0.156719\\\\\n",
       "\tVGPO & 0.067886 & 0.62840  & 0.15672  & 1.000000\\\\\n",
       "\\end{tabular}\n"
      ],
      "text/markdown": [
       "\n",
       "| <!--/--> | TT | T4_54 | T5 | VGPO | \n",
       "|---|---|---|---|\n",
       "| TT | 1.000000 | 0.44262  | 0.61567  | 0.067886 | \n",
       "| T4_54 | 0.442622 | 1.00000  | 0.69376  | 0.628397 | \n",
       "| T5 | 0.615667 | 0.69376  | 1.00000  | 0.156719 | \n",
       "| VGPO | 0.067886 | 0.62840  | 0.15672  | 1.000000 | \n",
       "\n",
       "\n"
      ],
      "text/plain": [
       "      TT       T4_54   T5      VGPO    \n",
       "TT    1.000000 0.44262 0.61567 0.067886\n",
       "T4_54 0.442622 1.00000 0.69376 0.628397\n",
       "T5    0.615667 0.69376 1.00000 0.156719\n",
       "VGPO  0.067886 0.62840 0.15672 1.000000"
      ]
     },
     "metadata": {},
     "output_type": "display_data"
    }
   ],
   "source": [
    "#                                        Cell 3\n",
    "\n",
    "\n",
    "# Lets do some correlation analysis on my original pridictors \n",
    "\n",
    "# 1    2     3   4  5  6  7  8    9    10  \n",
    "#TT, T4_54, T5, Q3,Q6,Q8,Q9,Q12,VGPO,VGPR_HL\n",
    "\n",
    "options(digits = 5)\n",
    "\n",
    "cor(my_df,method=\"spearman\");\n",
    "#cor(my_df);\n",
    "\n",
    "# Define a function\n",
    "hiCor <- function(x, level){\n",
    "  res <- cor(x,method=\"spearman\");\n",
    "  res1 <- res; res1[res<0] <- -res[res < 0];\n",
    "  for (i in 1:dim(x)[2]){\n",
    "    res1[i,i] <- 0;\n",
    "  }\n",
    "  sel <- apply(res1,1,max) > level;\n",
    "  res[sel,sel];\n",
    "}\n",
    "hiCor(my_df,.6)"
   ]
  },
  {
   "cell_type": "code",
   "execution_count": 105,
   "metadata": {},
   "outputs": [
    {
     "name": "stdout",
     "output_type": "stream",
     "text": [
      "[1] \"VGPO avg correlation\"\n"
     ]
    },
    {
     "data": {
      "text/html": [
       "0.284333968033333"
      ],
      "text/latex": [
       "0.284333968033333"
      ],
      "text/markdown": [
       "0.284333968033333"
      ],
      "text/plain": [
       "[1] 0.284334"
      ]
     },
     "metadata": {},
     "output_type": "display_data"
    },
    {
     "name": "stdout",
     "output_type": "stream",
     "text": [
      "[1] \"TT avg correlation\"\n"
     ]
    },
    {
     "data": {
      "text/html": [
       "0.3753913927"
      ],
      "text/latex": [
       "0.3753913927"
      ],
      "text/markdown": [
       "0.3753913927"
      ],
      "text/plain": [
       "[1] 0.375391"
      ]
     },
     "metadata": {},
     "output_type": "display_data"
    },
    {
     "name": "stdout",
     "output_type": "stream",
     "text": [
      "[1] \"T4_54 avg correlation\"\n"
     ]
    },
    {
     "data": {
      "text/html": [
       "0.588259258733333"
      ],
      "text/latex": [
       "0.588259258733333"
      ],
      "text/markdown": [
       "0.588259258733333"
      ],
      "text/plain": [
       "[1] 0.588259"
      ]
     },
     "metadata": {},
     "output_type": "display_data"
    },
    {
     "name": "stdout",
     "output_type": "stream",
     "text": [
      "[1] \"T5 avg correlation\"\n"
     ]
    },
    {
     "data": {
      "text/html": [
       "0.4887150807"
      ],
      "text/latex": [
       "0.4887150807"
      ],
      "text/markdown": [
       "0.4887150807"
      ],
      "text/plain": [
       "[1] 0.488715"
      ]
     },
     "metadata": {},
     "output_type": "display_data"
    },
    {
     "data": {
      "text/html": [
       "422"
      ],
      "text/latex": [
       "422"
      ],
      "text/markdown": [
       "422"
      ],
      "text/plain": [
       "[1] 422"
      ]
     },
     "metadata": {},
     "output_type": "display_data"
    }
   ],
   "source": [
    "#                                     Cell 4\n",
    "\n",
    "# correlation analysis\n",
    "\n",
    "\n",
    "# * Both TT and VGPO only have higher correlation(> .6) with  only one other predictor.\n",
    "\n",
    "# * TT with T5 which makes sense as The time the user takes on Question 5 goes up the Total survey time goes up\n",
    "#   TT has a little correlation with T4_54 which makes sense in a similiar way\n",
    "\n",
    "# * VGPO with T4_54 which also makes sense because as the order number of you choice goes up the time it took to \n",
    "#   choose it will go up\n",
    "\n",
    "# * T4_54 has high correlation with T5 and VGPO which both make sense. As you spend more time making a choice on response\n",
    "#   four on question 5 the time spent on question 5 will go up and vice versa, and as VGPO or the order number of choice 4\n",
    "#   goes up time spent choosing choice 4 will also go up and vice versa\n",
    "\n",
    "\n",
    "\n",
    "# * T5 has high correlation with TT and T4_54 which both make sense as T% goes up TT will go up and vice versa, and \n",
    "#   as The time spent makeing a seletion on question 5 goes up the total time spent on question 5 will go up and vice\n",
    "#    versa\n",
    "#VGPO avg\n",
    "print('VGPO avg correlation')\n",
    "mean(c(0.0678857741,0.628396827,0.156719303))\n",
    "\n",
    "#TT avg\n",
    "print('TT avg correlation')\n",
    "mean(c(0.442621707,0.615666697,0.0678857741))\n",
    "\n",
    "#T4_54\n",
    "print('T4_54 avg correlation')\n",
    "mean(c(0.4426217073,0.693759242,0.6283968269))\n",
    "\n",
    "#T5\n",
    "print('T5 avg correlation')\n",
    "mean(c(0.6156666967,0.693759242,0.1567193034))\n",
    "\n",
    "#length(VGPO)"
   ]
  },
  {
   "cell_type": "code",
   "execution_count": null,
   "metadata": {},
   "outputs": [],
   "source": [
    "#                                          Cell 5\n",
    "\n",
    "\n",
    "#    From above might need to drop T4_54 and T5 \n",
    "#    and VGPO seems the most stable of those with some higher correlation"
   ]
  },
  {
   "cell_type": "code",
   "execution_count": 143,
   "metadata": {},
   "outputs": [
    {
     "name": "stdout",
     "output_type": "stream",
     "text": [
      "          TT   T4_54       T5     VGPO\n",
      "PC1 -0.38841 -0.6096 -0.55991 -0.36401\n",
      "         Q6       Q8      Q9     Q12\n",
      "PC2 0.53362 -0.43941 0.56466 0.30157\n",
      "          TT    VGPO  VGPR_HL\n",
      "PC3 -0.32227 0.50918 -0.65451\n",
      "         Q3     Q12\n",
      "PC4 0.37796 0.80655\n",
      "         Q3     Q6    VGPO\n",
      "PC5 0.72726 0.3877 0.38803\n",
      "         Q3       Q8      Q12\n",
      "PC6 0.41909 -0.76654 -0.34273\n",
      "         Q8     Q9  VGPR_HL\n",
      "PC7 0.34772 0.5759 -0.56669\n",
      "          Q6      Q9 VGPR_HL\n",
      "PC8 -0.66313 0.57821 0.33184\n",
      "         TT       T5    VGPO\n",
      "PC9 0.63563 -0.51218 0.44264\n",
      "        T4_54      T5 VGPO\n",
      "PC10 -0.72443 0.57632 0.37\n"
     ]
    },
    {
     "data": {
      "image/png": "[encoded data removed]",
      "text/plain": [
       "plot without title"
      ]
     },
     "metadata": {},
     "output_type": "display_data"
    }
   ],
   "source": [
    "#                                          Cell 6\n",
    "\n",
    "#    Now look at some PCA to do further investigation\n",
    "\n",
    "plot(1:10,cumsum(prcomp(my_df, retx=F,scale=T)$sdev^2)/sum(prcomp(my_df, retx=F,scale=T)$sdev^2),ylim=c(0,1),xlab=\"Number of coponents\",ylab=\"Fraction of variance\");\n",
    "res<-prcomp(my_df, retx=F,scale=T)$rotation[,1:10];\n",
    "resAbs <- res;\n",
    "resAbs[res<0] <- -res[res<0];\n",
    "for (i in 1:10)\n",
    "  print(t(res[resAbs[,i]>.3,i,drop=FALSE]));\n",
    "\n",
    "\n"
   ]
  },
  {
   "cell_type": "code",
   "execution_count": 144,
   "metadata": {},
   "outputs": [
    {
     "data": {
      "text/plain": [
       "Importance of components:\n",
       "                       Comp.1 Comp.2 Comp.3 Comp.4 Comp.5 Comp.6 Comp.7 Comp.8\n",
       "Standard deviation        1.5    1.2    1.1    1.0    1.0   0.93   0.92   0.85\n",
       "Proportion of Variance    0.2    0.1    0.1    0.1    0.1   0.09   0.08   0.07\n",
       "Cumulative Proportion     0.2    0.4    0.5    0.6    0.7   0.78   0.86   0.93\n",
       "                       Comp.9 Comp.10\n",
       "Standard deviation       0.75    0.34\n",
       "Proportion of Variance   0.06    0.01\n",
       "Cumulative Proportion    0.99    1.00"
      ]
     },
     "metadata": {},
     "output_type": "display_data"
    },
    {
     "data": {
      "image/png": "[encoded data removed]",
      "text/plain": [
       "Plot with title \"pc\""
      ]
     },
     "metadata": {},
     "output_type": "display_data"
    },
    {
     "data": {
      "image/png": "[encoded data removed]",
      "text/plain": [
       "Plot with title \"pc\""
      ]
     },
     "metadata": {},
     "output_type": "display_data"
    },
    {
     "data": {
      "image/png": "[encoded data removed]",
      "text/plain": [
       "plot without title"
      ]
     },
     "metadata": {},
     "output_type": "display_data"
    }
   ],
   "source": [
    "#                                          Cell 7\n",
    "\n",
    "options(digits = 1)\n",
    "pc <- princomp(my_df, cor=TRUE, scores = TRUE)\n",
    "summary(pc)\n",
    "\n",
    "plot(pc)\n",
    "plot(pc, type = 'l')\n",
    "biplot(pc)"
   ]
  },
  {
   "cell_type": "code",
   "execution_count": null,
   "metadata": {},
   "outputs": [],
   "source": [
    "'                                     Cell 8\n",
    "\n",
    "The above two PCA analysis  results suggests that we need about 5 PC\\'s to account for  > 70% of variance  \n",
    "              TT        T4_54           T5        VGPO\n",
    "PC1 -0.388412052 -0.609600219 -0.559914403 -0.36401177\n",
    "            Q6          Q8          Q9         Q12\n",
    "PC2 0.53361551 -0.43941101 0.564655945 0.301571683\n",
    "              TT        VGPO      VGPR_HL\n",
    "PC3 -0.322269478 0.509181472 -0.654506873\n",
    "             Q3         Q12\n",
    "PC4 0.377960811 0.806545069\n",
    "             Q3          Q6        VGPO\n",
    "PC5 0.727261743 0.387696431 0.388028265\n",
    "\n",
    "'"
   ]
  },
  {
   "cell_type": "code",
   "execution_count": 93,
   "metadata": {},
   "outputs": [
    {
     "data": {
      "text/html": [
       "<table>\n",
       "<tbody>\n",
       "\t<tr><th scope=row>T4_54</th><td> 2  </td><td>0.79</td></tr>\n",
       "\t<tr><th scope=row>T5</th><td> 3  </td><td>0.70</td></tr>\n",
       "\t<tr><th scope=row>VGPO</th><td> 9  </td><td>0.52</td></tr>\n",
       "\t<tr><th scope=row>Q6</th><td> 5  </td><td>0.09</td></tr>\n",
       "\t<tr><th scope=row>Q9</th><td> 7  </td><td>0.09</td></tr>\n",
       "\t<tr><th scope=row>VGPR_HL</th><td>10  </td><td>0.06</td></tr>\n",
       "\t<tr><th scope=row>Q8</th><td> 6  </td><td>0.05</td></tr>\n",
       "\t<tr><th scope=row>Q12</th><td> 8  </td><td>0.04</td></tr>\n",
       "\t<tr><th scope=row>Q3</th><td> 4  </td><td>0.02</td></tr>\n",
       "</tbody>\n",
       "</table>\n"
      ],
      "text/latex": [
       "\\begin{tabular}{r|ll}\n",
       "\tT4\\_54 &  2   & 0.79\\\\\n",
       "\tT5 &  3   & 0.70\\\\\n",
       "\tVGPO &  9   & 0.52\\\\\n",
       "\tQ6 &  5   & 0.09\\\\\n",
       "\tQ9 &  7   & 0.09\\\\\n",
       "\tVGPR\\_HL & 10   & 0.06\\\\\n",
       "\tQ8 &  6   & 0.05\\\\\n",
       "\tQ12 &  8   & 0.04\\\\\n",
       "\tQ3 &  4   & 0.02\\\\\n",
       "\\end{tabular}\n"
      ],
      "text/markdown": [
       "\n",
       "| T4_54 |  2   | 0.79 | \n",
       "| T5 |  3   | 0.70 | \n",
       "| VGPO |  9   | 0.52 | \n",
       "| Q6 |  5   | 0.09 | \n",
       "| Q9 |  7   | 0.09 | \n",
       "| VGPR_HL | 10   | 0.06 | \n",
       "| Q8 |  6   | 0.05 | \n",
       "| Q12 |  8   | 0.04 | \n",
       "| Q3 |  4   | 0.02 | \n",
       "\n",
       "\n"
      ],
      "text/plain": [
       "        [,1] [,2]\n",
       "T4_54    2   0.79\n",
       "T5       3   0.70\n",
       "VGPO     9   0.52\n",
       "Q6       5   0.09\n",
       "Q9       7   0.09\n",
       "VGPR_HL 10   0.06\n",
       "Q8       6   0.05\n",
       "Q12      8   0.04\n",
       "Q3       4   0.02"
      ]
     },
     "metadata": {},
     "output_type": "display_data"
    }
   ],
   "source": [
    "'                                      Cell 9            '\n",
    "\n",
    "res <- c();\n",
    "vnam <- names(my_df);\n",
    "for (i in 2:dim(my_df)[2]){\n",
    "  fmla <- as.formula(paste(vnam[i],paste(vnam[-c(1,i)],collapse=\"+\"),sep=\"~\"));\n",
    "  res <- rbind(res,c(i,round(summary(lm(fmla,data=my_df[-10]))$r.squared,2)));\n",
    "}\n",
    "row.names(res) <- vnam[res[,1]];\n",
    "res[order(-res[,2]),];"
   ]
  },
  {
   "cell_type": "code",
   "execution_count": null,
   "metadata": {},
   "outputs": [],
   "source": [
    "'                                                Cell 10\n",
    "                                    Variables\n",
    "\n",
    "Correlation: VGPO as most stable should probably remove T4_54, and T5\n",
    "\n",
    "PCA: TT, T4_54, T5, Q3, Q6, Q8, Q9, A12\n",
    "\n",
    "Regression analysis: Remove: T4_54, T5 (keep VPG0 as most stable)\n",
    "                     Keep: Q3, Q6, Q8, Q9, Q12\n",
    "\n",
    "                   1   4   5   6   7    8    9   \n",
    "So from analysis: TT, Q3, Q6, Q8, Q9,, Q12, VGPO \n",
    "\n",
    "'"
   ]
  },
  {
   "cell_type": "code",
   "execution_count": 113,
   "metadata": {},
   "outputs": [
    {
     "data": {
      "text/html": [
       "<table>\n",
       "<thead><tr><th scope=col>TT</th><th scope=col>Q3</th><th scope=col>Q6</th><th scope=col>Q8</th><th scope=col>Q9</th><th scope=col>Q12</th><th scope=col>VGPO</th><th scope=col>VGPR_HL</th></tr></thead>\n",
       "<tbody>\n",
       "\t<tr><td>5.59842</td><td>3      </td><td>1      </td><td>2      </td><td>6      </td><td>2      </td><td> 4     </td><td>1      </td></tr>\n",
       "\t<tr><td>5.00395</td><td>3      </td><td>3      </td><td>2      </td><td>4      </td><td>3      </td><td> 3     </td><td>0      </td></tr>\n",
       "\t<tr><td>4.88280</td><td>3      </td><td>6      </td><td>1      </td><td>4      </td><td>4      </td><td> 9     </td><td>1      </td></tr>\n",
       "\t<tr><td>5.22036</td><td>4      </td><td>4      </td><td>2      </td><td>6      </td><td>6      </td><td> 8     </td><td>0      </td></tr>\n",
       "\t<tr><td>5.18178</td><td>3      </td><td>6      </td><td>1      </td><td>6      </td><td>4      </td><td> 4     </td><td>1      </td></tr>\n",
       "\t<tr><td>5.46806</td><td>3      </td><td>4      </td><td>1      </td><td>6      </td><td>4      </td><td> 2     </td><td>1      </td></tr>\n",
       "\t<tr><td>5.16479</td><td>3      </td><td>4      </td><td>2      </td><td>6      </td><td>5      </td><td> 2     </td><td>1      </td></tr>\n",
       "\t<tr><td>5.92426</td><td>4      </td><td>1      </td><td>2      </td><td>5      </td><td>6      </td><td>13     </td><td>0      </td></tr>\n",
       "\t<tr><td>7.02019</td><td>4      </td><td>6      </td><td>2      </td><td>7      </td><td>4      </td><td> 8     </td><td>1      </td></tr>\n",
       "\t<tr><td>6.03787</td><td>3      </td><td>6      </td><td>1      </td><td>1      </td><td>5      </td><td>13     </td><td>1      </td></tr>\n",
       "\t<tr><td>5.39816</td><td>5      </td><td>1      </td><td>1      </td><td>2      </td><td>4      </td><td> 4     </td><td>0      </td></tr>\n",
       "\t<tr><td>5.66988</td><td>3      </td><td>6      </td><td>2      </td><td>6      </td><td>5      </td><td> 3     </td><td>1      </td></tr>\n",
       "\t<tr><td>6.84482</td><td>3      </td><td>6      </td><td>1      </td><td>6      </td><td>4      </td><td>13     </td><td>0      </td></tr>\n",
       "\t<tr><td>5.17615</td><td>2      </td><td>6      </td><td>1      </td><td>7      </td><td>5      </td><td> 7     </td><td>0      </td></tr>\n",
       "\t<tr><td>5.03044</td><td>3      </td><td>1      </td><td>1      </td><td>5      </td><td>5      </td><td> 8     </td><td>0      </td></tr>\n",
       "\t<tr><td>5.72359</td><td>4      </td><td>6      </td><td>2      </td><td>5      </td><td>5      </td><td> 9     </td><td>1      </td></tr>\n",
       "\t<tr><td>5.03044</td><td>5      </td><td>6      </td><td>3      </td><td>6      </td><td>4      </td><td> 3     </td><td>1      </td></tr>\n",
       "\t<tr><td>5.35186</td><td>4      </td><td>6      </td><td>2      </td><td>6      </td><td>4      </td><td>10     </td><td>0      </td></tr>\n",
       "\t<tr><td>5.58725</td><td>3      </td><td>1      </td><td>2      </td><td>1      </td><td>6      </td><td>10     </td><td>1      </td></tr>\n",
       "\t<tr><td>5.30330</td><td>2      </td><td>6      </td><td>1      </td><td>4      </td><td>5      </td><td> 7     </td><td>1      </td></tr>\n",
       "\t<tr><td>5.24702</td><td>3      </td><td>4      </td><td>1      </td><td>7      </td><td>4      </td><td> 5     </td><td>0      </td></tr>\n",
       "\t<tr><td>5.73657</td><td>3      </td><td>6      </td><td>1      </td><td>5      </td><td>4      </td><td> 9     </td><td>0      </td></tr>\n",
       "\t<tr><td>5.20401</td><td>4      </td><td>6      </td><td>1      </td><td>5      </td><td>5      </td><td> 3     </td><td>1      </td></tr>\n",
       "\t<tr><td>5.20949</td><td>3      </td><td>6      </td><td>2      </td><td>5      </td><td>4      </td><td> 2     </td><td>1      </td></tr>\n",
       "\t<tr><td>6.06843</td><td>4      </td><td>1      </td><td>2      </td><td>7      </td><td>4      </td><td>13     </td><td>1      </td></tr>\n",
       "\t<tr><td>5.41165</td><td>3      </td><td>3      </td><td>2      </td><td>7      </td><td>4      </td><td> 3     </td><td>1      </td></tr>\n",
       "\t<tr><td>5.33272</td><td>1      </td><td>1      </td><td>1      </td><td>6      </td><td>5      </td><td> 2     </td><td>0      </td></tr>\n",
       "\t<tr><td>5.72685</td><td>3      </td><td>1      </td><td>1      </td><td>5      </td><td>6      </td><td>13     </td><td>0      </td></tr>\n",
       "\t<tr><td>5.56452</td><td>4      </td><td>6      </td><td>2      </td><td>1      </td><td>5      </td><td> 3     </td><td>1      </td></tr>\n",
       "\t<tr><td>5.39816</td><td>3      </td><td>2      </td><td>2      </td><td>2      </td><td>4      </td><td>10     </td><td>0      </td></tr>\n",
       "\t<tr><td>...</td><td>...</td><td>...</td><td>...</td><td>...</td><td>...</td><td>...</td><td>...</td></tr>\n",
       "\t<tr><td>5.78690</td><td>5      </td><td>2      </td><td>3      </td><td>2      </td><td>2      </td><td> 2     </td><td>1      </td></tr>\n",
       "\t<tr><td>5.55296</td><td>3      </td><td>6      </td><td>2      </td><td>7      </td><td>5      </td><td>10     </td><td>1      </td></tr>\n",
       "\t<tr><td>5.27811</td><td>5      </td><td>1      </td><td>2      </td><td>2      </td><td>4      </td><td> 3     </td><td>1      </td></tr>\n",
       "\t<tr><td>5.65948</td><td>2      </td><td>6      </td><td>2      </td><td>4      </td><td>5      </td><td>13     </td><td>0      </td></tr>\n",
       "\t<tr><td>5.72359</td><td>4      </td><td>1      </td><td>1      </td><td>4      </td><td>5      </td><td> 9     </td><td>1      </td></tr>\n",
       "\t<tr><td>5.94542</td><td>4      </td><td>6      </td><td>2      </td><td>6      </td><td>5      </td><td> 6     </td><td>1      </td></tr>\n",
       "\t<tr><td>5.38907</td><td>2      </td><td>6      </td><td>2      </td><td>5      </td><td>3      </td><td> 5     </td><td>1      </td></tr>\n",
       "\t<tr><td>5.37064</td><td>3      </td><td>6      </td><td>1      </td><td>6      </td><td>5      </td><td> 6     </td><td>0      </td></tr>\n",
       "\t<tr><td>5.58350</td><td>3      </td><td>6      </td><td>1      </td><td>5      </td><td>4      </td><td> 6     </td><td>1      </td></tr>\n",
       "\t<tr><td>6.08222</td><td>3      </td><td>6      </td><td>1      </td><td>4      </td><td>5      </td><td> 4     </td><td>0      </td></tr>\n",
       "\t<tr><td>6.07304</td><td>5      </td><td>1      </td><td>2      </td><td>5      </td><td>6      </td><td>11     </td><td>1      </td></tr>\n",
       "\t<tr><td>5.29330</td><td>3      </td><td>1      </td><td>1      </td><td>7      </td><td>2      </td><td>10     </td><td>0      </td></tr>\n",
       "\t<tr><td>4.99721</td><td>2      </td><td>1      </td><td>1      </td><td>6      </td><td>5      </td><td> 7     </td><td>1      </td></tr>\n",
       "\t<tr><td>5.81711</td><td>5      </td><td>4      </td><td>3      </td><td>7      </td><td>3      </td><td> 2     </td><td>1      </td></tr>\n",
       "\t<tr><td>5.51745</td><td>4      </td><td>4      </td><td>2      </td><td>6      </td><td>5      </td><td>12     </td><td>0      </td></tr>\n",
       "\t<tr><td>7.25064</td><td>3      </td><td>1      </td><td>2      </td><td>6      </td><td>5      </td><td> 5     </td><td>1      </td></tr>\n",
       "\t<tr><td>5.36129</td><td>4      </td><td>2      </td><td>1      </td><td>2      </td><td>3      </td><td>12     </td><td>0      </td></tr>\n",
       "\t<tr><td>5.66643</td><td>3      </td><td>1      </td><td>1      </td><td>6      </td><td>5      </td><td> 7     </td><td>1      </td></tr>\n",
       "\t<tr><td>5.75890</td><td>3      </td><td>1      </td><td>2      </td><td>1      </td><td>5      </td><td> 9     </td><td>1      </td></tr>\n",
       "\t<tr><td>6.55962</td><td>5      </td><td>6      </td><td>1      </td><td>5      </td><td>4      </td><td> 8     </td><td>1      </td></tr>\n",
       "\t<tr><td>5.72031</td><td>4      </td><td>5      </td><td>2      </td><td>7      </td><td>5      </td><td> 5     </td><td>1      </td></tr>\n",
       "\t<tr><td>5.78074</td><td>3      </td><td>4      </td><td>1      </td><td>6      </td><td>5      </td><td> 5     </td><td>0      </td></tr>\n",
       "\t<tr><td>5.31812</td><td>4      </td><td>4      </td><td>2      </td><td>6      </td><td>5      </td><td> 9     </td><td>0      </td></tr>\n",
       "\t<tr><td>5.58350</td><td>4      </td><td>6      </td><td>1      </td><td>3      </td><td>5      </td><td> 9     </td><td>1      </td></tr>\n",
       "\t<tr><td>5.15906</td><td>5      </td><td>2      </td><td>1      </td><td>2      </td><td>2      </td><td> 4     </td><td>1      </td></tr>\n",
       "\t<tr><td>5.19850</td><td>4      </td><td>6      </td><td>1      </td><td>6      </td><td>3      </td><td> 9     </td><td>0      </td></tr>\n",
       "\t<tr><td>5.88053</td><td>5      </td><td>1      </td><td>2      </td><td>1      </td><td>2      </td><td> 3     </td><td>0      </td></tr>\n",
       "\t<tr><td>6.89061</td><td>3      </td><td>1      </td><td>1      </td><td>6      </td><td>4      </td><td>11     </td><td>0      </td></tr>\n",
       "\t<tr><td>5.06890</td><td>5      </td><td>1      </td><td>2      </td><td>5      </td><td>6      </td><td>13     </td><td>0      </td></tr>\n",
       "\t<tr><td>5.68698</td><td>2      </td><td>6      </td><td>2      </td><td>5      </td><td>5      </td><td>12     </td><td>1      </td></tr>\n",
       "</tbody>\n",
       "</table>\n"
      ],
      "text/latex": [
       "\\begin{tabular}{r|llllllll}\n",
       " TT & Q3 & Q6 & Q8 & Q9 & Q12 & VGPO & VGPR\\_HL\\\\\n",
       "\\hline\n",
       "\t 5.59842 & 3       & 1       & 2       & 6       & 2       &  4      & 1      \\\\\n",
       "\t 5.00395 & 3       & 3       & 2       & 4       & 3       &  3      & 0      \\\\\n",
       "\t 4.88280 & 3       & 6       & 1       & 4       & 4       &  9      & 1      \\\\\n",
       "\t 5.22036 & 4       & 4       & 2       & 6       & 6       &  8      & 0      \\\\\n",
       "\t 5.18178 & 3       & 6       & 1       & 6       & 4       &  4      & 1      \\\\\n",
       "\t 5.46806 & 3       & 4       & 1       & 6       & 4       &  2      & 1      \\\\\n",
       "\t 5.16479 & 3       & 4       & 2       & 6       & 5       &  2      & 1      \\\\\n",
       "\t 5.92426 & 4       & 1       & 2       & 5       & 6       & 13      & 0      \\\\\n",
       "\t 7.02019 & 4       & 6       & 2       & 7       & 4       &  8      & 1      \\\\\n",
       "\t 6.03787 & 3       & 6       & 1       & 1       & 5       & 13      & 1      \\\\\n",
       "\t 5.39816 & 5       & 1       & 1       & 2       & 4       &  4      & 0      \\\\\n",
       "\t 5.66988 & 3       & 6       & 2       & 6       & 5       &  3      & 1      \\\\\n",
       "\t 6.84482 & 3       & 6       & 1       & 6       & 4       & 13      & 0      \\\\\n",
       "\t 5.17615 & 2       & 6       & 1       & 7       & 5       &  7      & 0      \\\\\n",
       "\t 5.03044 & 3       & 1       & 1       & 5       & 5       &  8      & 0      \\\\\n",
       "\t 5.72359 & 4       & 6       & 2       & 5       & 5       &  9      & 1      \\\\\n",
       "\t 5.03044 & 5       & 6       & 3       & 6       & 4       &  3      & 1      \\\\\n",
       "\t 5.35186 & 4       & 6       & 2       & 6       & 4       & 10      & 0      \\\\\n",
       "\t 5.58725 & 3       & 1       & 2       & 1       & 6       & 10      & 1      \\\\\n",
       "\t 5.30330 & 2       & 6       & 1       & 4       & 5       &  7      & 1      \\\\\n",
       "\t 5.24702 & 3       & 4       & 1       & 7       & 4       &  5      & 0      \\\\\n",
       "\t 5.73657 & 3       & 6       & 1       & 5       & 4       &  9      & 0      \\\\\n",
       "\t 5.20401 & 4       & 6       & 1       & 5       & 5       &  3      & 1      \\\\\n",
       "\t 5.20949 & 3       & 6       & 2       & 5       & 4       &  2      & 1      \\\\\n",
       "\t 6.06843 & 4       & 1       & 2       & 7       & 4       & 13      & 1      \\\\\n",
       "\t 5.41165 & 3       & 3       & 2       & 7       & 4       &  3      & 1      \\\\\n",
       "\t 5.33272 & 1       & 1       & 1       & 6       & 5       &  2      & 0      \\\\\n",
       "\t 5.72685 & 3       & 1       & 1       & 5       & 6       & 13      & 0      \\\\\n",
       "\t 5.56452 & 4       & 6       & 2       & 1       & 5       &  3      & 1      \\\\\n",
       "\t 5.39816 & 3       & 2       & 2       & 2       & 4       & 10      & 0      \\\\\n",
       "\t ... & ... & ... & ... & ... & ... & ... & ...\\\\\n",
       "\t 5.78690 & 5       & 2       & 3       & 2       & 2       &  2      & 1      \\\\\n",
       "\t 5.55296 & 3       & 6       & 2       & 7       & 5       & 10      & 1      \\\\\n",
       "\t 5.27811 & 5       & 1       & 2       & 2       & 4       &  3      & 1      \\\\\n",
       "\t 5.65948 & 2       & 6       & 2       & 4       & 5       & 13      & 0      \\\\\n",
       "\t 5.72359 & 4       & 1       & 1       & 4       & 5       &  9      & 1      \\\\\n",
       "\t 5.94542 & 4       & 6       & 2       & 6       & 5       &  6      & 1      \\\\\n",
       "\t 5.38907 & 2       & 6       & 2       & 5       & 3       &  5      & 1      \\\\\n",
       "\t 5.37064 & 3       & 6       & 1       & 6       & 5       &  6      & 0      \\\\\n",
       "\t 5.58350 & 3       & 6       & 1       & 5       & 4       &  6      & 1      \\\\\n",
       "\t 6.08222 & 3       & 6       & 1       & 4       & 5       &  4      & 0      \\\\\n",
       "\t 6.07304 & 5       & 1       & 2       & 5       & 6       & 11      & 1      \\\\\n",
       "\t 5.29330 & 3       & 1       & 1       & 7       & 2       & 10      & 0      \\\\\n",
       "\t 4.99721 & 2       & 1       & 1       & 6       & 5       &  7      & 1      \\\\\n",
       "\t 5.81711 & 5       & 4       & 3       & 7       & 3       &  2      & 1      \\\\\n",
       "\t 5.51745 & 4       & 4       & 2       & 6       & 5       & 12      & 0      \\\\\n",
       "\t 7.25064 & 3       & 1       & 2       & 6       & 5       &  5      & 1      \\\\\n",
       "\t 5.36129 & 4       & 2       & 1       & 2       & 3       & 12      & 0      \\\\\n",
       "\t 5.66643 & 3       & 1       & 1       & 6       & 5       &  7      & 1      \\\\\n",
       "\t 5.75890 & 3       & 1       & 2       & 1       & 5       &  9      & 1      \\\\\n",
       "\t 6.55962 & 5       & 6       & 1       & 5       & 4       &  8      & 1      \\\\\n",
       "\t 5.72031 & 4       & 5       & 2       & 7       & 5       &  5      & 1      \\\\\n",
       "\t 5.78074 & 3       & 4       & 1       & 6       & 5       &  5      & 0      \\\\\n",
       "\t 5.31812 & 4       & 4       & 2       & 6       & 5       &  9      & 0      \\\\\n",
       "\t 5.58350 & 4       & 6       & 1       & 3       & 5       &  9      & 1      \\\\\n",
       "\t 5.15906 & 5       & 2       & 1       & 2       & 2       &  4      & 1      \\\\\n",
       "\t 5.19850 & 4       & 6       & 1       & 6       & 3       &  9      & 0      \\\\\n",
       "\t 5.88053 & 5       & 1       & 2       & 1       & 2       &  3      & 0      \\\\\n",
       "\t 6.89061 & 3       & 1       & 1       & 6       & 4       & 11      & 0      \\\\\n",
       "\t 5.06890 & 5       & 1       & 2       & 5       & 6       & 13      & 0      \\\\\n",
       "\t 5.68698 & 2       & 6       & 2       & 5       & 5       & 12      & 1      \\\\\n",
       "\\end{tabular}\n"
      ],
      "text/markdown": [
       "\n",
       "TT | Q3 | Q6 | Q8 | Q9 | Q12 | VGPO | VGPR_HL | \n",
       "|---|---|---|---|---|---|---|---|---|---|---|---|---|---|---|---|---|---|---|---|---|---|---|---|---|---|---|---|---|---|---|---|---|---|---|---|---|---|---|---|---|---|---|---|---|---|---|---|---|---|---|---|---|---|---|---|---|---|---|---|---|\n",
       "| 5.59842 | 3       | 1       | 2       | 6       | 2       |  4      | 1       | \n",
       "| 5.00395 | 3       | 3       | 2       | 4       | 3       |  3      | 0       | \n",
       "| 4.88280 | 3       | 6       | 1       | 4       | 4       |  9      | 1       | \n",
       "| 5.22036 | 4       | 4       | 2       | 6       | 6       |  8      | 0       | \n",
       "| 5.18178 | 3       | 6       | 1       | 6       | 4       |  4      | 1       | \n",
       "| 5.46806 | 3       | 4       | 1       | 6       | 4       |  2      | 1       | \n",
       "| 5.16479 | 3       | 4       | 2       | 6       | 5       |  2      | 1       | \n",
       "| 5.92426 | 4       | 1       | 2       | 5       | 6       | 13      | 0       | \n",
       "| 7.02019 | 4       | 6       | 2       | 7       | 4       |  8      | 1       | \n",
       "| 6.03787 | 3       | 6       | 1       | 1       | 5       | 13      | 1       | \n",
       "| 5.39816 | 5       | 1       | 1       | 2       | 4       |  4      | 0       | \n",
       "| 5.66988 | 3       | 6       | 2       | 6       | 5       |  3      | 1       | \n",
       "| 6.84482 | 3       | 6       | 1       | 6       | 4       | 13      | 0       | \n",
       "| 5.17615 | 2       | 6       | 1       | 7       | 5       |  7      | 0       | \n",
       "| 5.03044 | 3       | 1       | 1       | 5       | 5       |  8      | 0       | \n",
       "| 5.72359 | 4       | 6       | 2       | 5       | 5       |  9      | 1       | \n",
       "| 5.03044 | 5       | 6       | 3       | 6       | 4       |  3      | 1       | \n",
       "| 5.35186 | 4       | 6       | 2       | 6       | 4       | 10      | 0       | \n",
       "| 5.58725 | 3       | 1       | 2       | 1       | 6       | 10      | 1       | \n",
       "| 5.30330 | 2       | 6       | 1       | 4       | 5       |  7      | 1       | \n",
       "| 5.24702 | 3       | 4       | 1       | 7       | 4       |  5      | 0       | \n",
       "| 5.73657 | 3       | 6       | 1       | 5       | 4       |  9      | 0       | \n",
       "| 5.20401 | 4       | 6       | 1       | 5       | 5       |  3      | 1       | \n",
       "| 5.20949 | 3       | 6       | 2       | 5       | 4       |  2      | 1       | \n",
       "| 6.06843 | 4       | 1       | 2       | 7       | 4       | 13      | 1       | \n",
       "| 5.41165 | 3       | 3       | 2       | 7       | 4       |  3      | 1       | \n",
       "| 5.33272 | 1       | 1       | 1       | 6       | 5       |  2      | 0       | \n",
       "| 5.72685 | 3       | 1       | 1       | 5       | 6       | 13      | 0       | \n",
       "| 5.56452 | 4       | 6       | 2       | 1       | 5       |  3      | 1       | \n",
       "| 5.39816 | 3       | 2       | 2       | 2       | 4       | 10      | 0       | \n",
       "| ... | ... | ... | ... | ... | ... | ... | ... | \n",
       "| 5.78690 | 5       | 2       | 3       | 2       | 2       |  2      | 1       | \n",
       "| 5.55296 | 3       | 6       | 2       | 7       | 5       | 10      | 1       | \n",
       "| 5.27811 | 5       | 1       | 2       | 2       | 4       |  3      | 1       | \n",
       "| 5.65948 | 2       | 6       | 2       | 4       | 5       | 13      | 0       | \n",
       "| 5.72359 | 4       | 1       | 1       | 4       | 5       |  9      | 1       | \n",
       "| 5.94542 | 4       | 6       | 2       | 6       | 5       |  6      | 1       | \n",
       "| 5.38907 | 2       | 6       | 2       | 5       | 3       |  5      | 1       | \n",
       "| 5.37064 | 3       | 6       | 1       | 6       | 5       |  6      | 0       | \n",
       "| 5.58350 | 3       | 6       | 1       | 5       | 4       |  6      | 1       | \n",
       "| 6.08222 | 3       | 6       | 1       | 4       | 5       |  4      | 0       | \n",
       "| 6.07304 | 5       | 1       | 2       | 5       | 6       | 11      | 1       | \n",
       "| 5.29330 | 3       | 1       | 1       | 7       | 2       | 10      | 0       | \n",
       "| 4.99721 | 2       | 1       | 1       | 6       | 5       |  7      | 1       | \n",
       "| 5.81711 | 5       | 4       | 3       | 7       | 3       |  2      | 1       | \n",
       "| 5.51745 | 4       | 4       | 2       | 6       | 5       | 12      | 0       | \n",
       "| 7.25064 | 3       | 1       | 2       | 6       | 5       |  5      | 1       | \n",
       "| 5.36129 | 4       | 2       | 1       | 2       | 3       | 12      | 0       | \n",
       "| 5.66643 | 3       | 1       | 1       | 6       | 5       |  7      | 1       | \n",
       "| 5.75890 | 3       | 1       | 2       | 1       | 5       |  9      | 1       | \n",
       "| 6.55962 | 5       | 6       | 1       | 5       | 4       |  8      | 1       | \n",
       "| 5.72031 | 4       | 5       | 2       | 7       | 5       |  5      | 1       | \n",
       "| 5.78074 | 3       | 4       | 1       | 6       | 5       |  5      | 0       | \n",
       "| 5.31812 | 4       | 4       | 2       | 6       | 5       |  9      | 0       | \n",
       "| 5.58350 | 4       | 6       | 1       | 3       | 5       |  9      | 1       | \n",
       "| 5.15906 | 5       | 2       | 1       | 2       | 2       |  4      | 1       | \n",
       "| 5.19850 | 4       | 6       | 1       | 6       | 3       |  9      | 0       | \n",
       "| 5.88053 | 5       | 1       | 2       | 1       | 2       |  3      | 0       | \n",
       "| 6.89061 | 3       | 1       | 1       | 6       | 4       | 11      | 0       | \n",
       "| 5.06890 | 5       | 1       | 2       | 5       | 6       | 13      | 0       | \n",
       "| 5.68698 | 2       | 6       | 2       | 5       | 5       | 12      | 1       | \n",
       "\n",
       "\n"
      ],
      "text/plain": [
       "    TT      Q3  Q6  Q8  Q9  Q12 VGPO VGPR_HL\n",
       "1   5.59842 3   1   2   6   2    4   1      \n",
       "2   5.00395 3   3   2   4   3    3   0      \n",
       "3   4.88280 3   6   1   4   4    9   1      \n",
       "4   5.22036 4   4   2   6   6    8   0      \n",
       "5   5.18178 3   6   1   6   4    4   1      \n",
       "6   5.46806 3   4   1   6   4    2   1      \n",
       "7   5.16479 3   4   2   6   5    2   1      \n",
       "8   5.92426 4   1   2   5   6   13   0      \n",
       "9   7.02019 4   6   2   7   4    8   1      \n",
       "10  6.03787 3   6   1   1   5   13   1      \n",
       "11  5.39816 5   1   1   2   4    4   0      \n",
       "12  5.66988 3   6   2   6   5    3   1      \n",
       "13  6.84482 3   6   1   6   4   13   0      \n",
       "14  5.17615 2   6   1   7   5    7   0      \n",
       "15  5.03044 3   1   1   5   5    8   0      \n",
       "16  5.72359 4   6   2   5   5    9   1      \n",
       "17  5.03044 5   6   3   6   4    3   1      \n",
       "18  5.35186 4   6   2   6   4   10   0      \n",
       "19  5.58725 3   1   2   1   6   10   1      \n",
       "20  5.30330 2   6   1   4   5    7   1      \n",
       "21  5.24702 3   4   1   7   4    5   0      \n",
       "22  5.73657 3   6   1   5   4    9   0      \n",
       "23  5.20401 4   6   1   5   5    3   1      \n",
       "24  5.20949 3   6   2   5   4    2   1      \n",
       "25  6.06843 4   1   2   7   4   13   1      \n",
       "26  5.41165 3   3   2   7   4    3   1      \n",
       "27  5.33272 1   1   1   6   5    2   0      \n",
       "28  5.72685 3   1   1   5   6   13   0      \n",
       "29  5.56452 4   6   2   1   5    3   1      \n",
       "30  5.39816 3   2   2   2   4   10   0      \n",
       "... ...     ... ... ... ... ... ...  ...    \n",
       "393 5.78690 5   2   3   2   2    2   1      \n",
       "394 5.55296 3   6   2   7   5   10   1      \n",
       "395 5.27811 5   1   2   2   4    3   1      \n",
       "396 5.65948 2   6   2   4   5   13   0      \n",
       "397 5.72359 4   1   1   4   5    9   1      \n",
       "398 5.94542 4   6   2   6   5    6   1      \n",
       "399 5.38907 2   6   2   5   3    5   1      \n",
       "400 5.37064 3   6   1   6   5    6   0      \n",
       "401 5.58350 3   6   1   5   4    6   1      \n",
       "402 6.08222 3   6   1   4   5    4   0      \n",
       "403 6.07304 5   1   2   5   6   11   1      \n",
       "404 5.29330 3   1   1   7   2   10   0      \n",
       "405 4.99721 2   1   1   6   5    7   1      \n",
       "406 5.81711 5   4   3   7   3    2   1      \n",
       "407 5.51745 4   4   2   6   5   12   0      \n",
       "408 7.25064 3   1   2   6   5    5   1      \n",
       "409 5.36129 4   2   1   2   3   12   0      \n",
       "410 5.66643 3   1   1   6   5    7   1      \n",
       "411 5.75890 3   1   2   1   5    9   1      \n",
       "412 6.55962 5   6   1   5   4    8   1      \n",
       "413 5.72031 4   5   2   7   5    5   1      \n",
       "414 5.78074 3   4   1   6   5    5   0      \n",
       "415 5.31812 4   4   2   6   5    9   0      \n",
       "416 5.58350 4   6   1   3   5    9   1      \n",
       "417 5.15906 5   2   1   2   2    4   1      \n",
       "418 5.19850 4   6   1   6   3    9   0      \n",
       "419 5.88053 5   1   2   1   2    3   0      \n",
       "420 6.89061 3   1   1   6   4   11   0      \n",
       "421 5.06890 5   1   2   5   6   13   0      \n",
       "422 5.68698 2   6   2   5   5   12   1      "
      ]
     },
     "metadata": {},
     "output_type": "display_data"
    }
   ],
   "source": [
    "'                                                 Cell 11                                    '\n",
    "\n",
    "VGPRHL <- (VGPR_HL)\n",
    "\n",
    "TTL <- log(TT)\n",
    "\n",
    "var_B <- cbind(TTL,Q3nm,Q6nm, Q8nm, Q9nm, Q12nm, VGPO, VGPR_HL)\n",
    "\n",
    "dim_r <- data.frame(var_B)\n",
    "\n",
    "dimnames(dim_r)[[2]]<-c('TT','Q3','Q6','Q8','Q9','Q12','VGPO','VGPR_HL')\n",
    "\n",
    "#dim_r\n",
    "str(dim_r)"
   ]
  },
  {
   "cell_type": "code",
   "execution_count": 61,
   "metadata": {},
   "outputs": [
    {
     "name": "stdout",
     "output_type": "stream",
     "text": [
      "'data.frame':\t422 obs. of  8 variables:\n",
      " $ TT     : num  5.6 5 4.88 5.22 5.18 ...\n",
      " $ Q3     : num  3 3 3 4 3 3 3 4 4 3 ...\n",
      " $ Q6     : num  1 3 6 4 6 4 4 1 6 6 ...\n",
      " $ Q8     : num  2 2 1 2 1 1 2 2 2 1 ...\n",
      " $ Q9     : num  6 4 4 6 6 6 6 5 7 1 ...\n",
      " $ Q12    : num  2 3 4 6 4 4 5 6 4 5 ...\n",
      " $ VGPO   : num  4 3 9 8 4 2 2 13 8 13 ...\n",
      " $ VGPR_HL: num  1 0 1 0 1 1 1 0 1 1 ...\n"
     ]
    }
   ],
   "source": []
  },
  {
   "cell_type": "code",
   "execution_count": 114,
   "metadata": {},
   "outputs": [
    {
     "data": {
      "text/html": [
       "334"
      ],
      "text/latex": [
       "334"
      ],
      "text/markdown": [
       "334"
      ],
      "text/plain": [
       "[1] 334"
      ]
     },
     "metadata": {},
     "output_type": "display_data"
    },
    {
     "data": {
      "text/html": [
       "88"
      ],
      "text/latex": [
       "88"
      ],
      "text/markdown": [
       "88"
      ],
      "text/plain": [
       "[1] 88"
      ]
     },
     "metadata": {},
     "output_type": "display_data"
    },
    {
     "data": {
      "text/html": [
       "422"
      ],
      "text/latex": [
       "422"
      ],
      "text/markdown": [
       "422"
      ],
      "text/plain": [
       "[1] 422"
      ]
     },
     "metadata": {},
     "output_type": "display_data"
    }
   ],
   "source": [
    "#\n",
    "\n",
    "\n",
    "################################################ create randomized training and test sets\n",
    "options(digits = .1)\n",
    "set.seed(102)\n",
    "\n",
    "#                                Do a 80/20 split\n",
    "id <- sample(2, nrow(dim_r),  prob= c(.8, .2), replace = T)\n",
    "#id = sav1\n",
    "d_train = dim_r[id==1,]\n",
    "d_test = dim_r[id==2,]\n",
    "\n",
    "\n",
    "#VGPRtr = (VGPR_HL[id==1] - 1)\n",
    "#TTtr = TT[id==1]\n",
    "\n",
    "#TTtr\n",
    "#VGPRtr\n",
    "length(d_train[,1])\n",
    "length(d_test[,1])\n",
    "334+88"
   ]
  },
  {
   "cell_type": "code",
   "execution_count": 119,
   "metadata": {},
   "outputs": [
    {
     "data": {
      "text/plain": [
       "\n",
       "Call:\n",
       "glm(formula = VGPR_HL[1:334] ~ TT[1:334] + Q3nm[1:334] + Q6nm[1:334] + \n",
       "    Q8nm[1:334] + Q9nm[1:334] + Q12nm[1:334] + VGPO[1:334], family = binomial, \n",
       "    data = d_train)\n",
       "\n",
       "Deviance Residuals: \n",
       "   Min      1Q  Median      3Q     Max  \n",
       "-1.709  -1.204   0.802   1.011   1.591  \n",
       "\n",
       "Coefficients:\n",
       "             Estimate Std. Error z value Pr(>|z|)   \n",
       "(Intercept)   -0.4628     1.2508   -0.37    0.711   \n",
       "TT[1:334]      0.1888     0.1884    1.00    0.316   \n",
       "Q3nm[1:334]   -0.0607     0.1168   -0.52    0.603   \n",
       "Q6nm[1:334]    0.0181     0.0572    0.32    0.751   \n",
       "Q8nm[1:334]   -0.1714     0.1933   -0.89    0.375   \n",
       "Q9nm[1:334]    0.1317     0.0613    2.15    0.032 * \n",
       "Q12nm[1:334]   0.0346     0.1268    0.27    0.785   \n",
       "VGPO[1:334]   -0.0950     0.0307   -3.09    0.002 **\n",
       "---\n",
       "Signif. codes:  0 '***' 0 '**' 0 '*' 0 '.' 0 ' ' 1\n",
       "\n",
       "(Dispersion parameter for binomial family taken to be 1)\n",
       "\n",
       "    Null deviance: 455.51  on 333  degrees of freedom\n",
       "Residual deviance: 435.90  on 326  degrees of freedom\n",
       "AIC: 451.9\n",
       "\n",
       "Number of Fisher Scoring iterations: 4\n"
      ]
     },
     "metadata": {},
     "output_type": "display_data"
    }
   ],
   "source": [
    "mod <- glm(VGPR_HL[1:334]~TT[1:334]+Q3nm[1:334]+Q6nm[1:334]+Q8nm[1:334]+Q9nm[1:334]+Q12nm[1:334]+VGPO[1:334],\n",
    "           family=binomial,data=d_train);\n",
    "\n",
    "\n",
    "#mod <- glm(VGPR_HL~TTL+Q3nm+Q6nm+Q8nm+Q9nm+Q12nm+VGPO,\n",
    "#           family=binomial,data=d_train);\n",
    "\n",
    "#mod <- glm(VGPRtr~,family=binomial,data=d_train);\n",
    "\n",
    "summary(mod);"
   ]
  },
  {
   "cell_type": "code",
   "execution_count": 488,
   "metadata": {},
   "outputs": [
    {
     "name": "stdout",
     "output_type": "stream",
     "text": [
      "[1] \"Deviance explained\"\n",
      "[1] 0.01443\n"
     ]
    }
   ],
   "source": [
    "options(digits = 5)\n",
    "print('Deviance explained')\n",
    "print((449.08 - 442.60)/449.08)"
   ]
  },
  {
   "cell_type": "code",
   "execution_count": null,
   "metadata": {},
   "outputs": [],
   "source": [
    "'From coefficients:\n",
    "    *as Q3(Why you chose package) goes from compatability, to added implicitly, to recommended, to functionality\n",
    "        to to other the priority of of visiblible growth goes down\n",
    "    *as Q6() raise the likely hood of having a low priority of growth in visibility  \n",
    " and as TT, Q8, Q9, Q12, and VGP go up the priority goes toward  \n",
    "\n",
    " From Pr(>|z|) Q6(Experience) is the actually statistically significant\n",
    " and Q8(job at the time) is least significant, but all others are not statistically significant\n",
    "\n",
    "\n",
    " AIC: 451.9\n",
    "\n",
    "'"
   ]
  },
  {
   "cell_type": "code",
   "execution_count": 101,
   "metadata": {},
   "outputs": [
    {
     "data": {
      "text/html": [
       "<table>\n",
       "<thead><tr><th></th><th scope=col>Df</th><th scope=col>Deviance</th><th scope=col>Resid. Df</th><th scope=col>Resid. Dev</th><th scope=col>Pr(&gt;Chi)</th></tr></thead>\n",
       "<tbody>\n",
       "\t<tr><th scope=row>NULL</th><td>NA        </td><td>      NA  </td><td>333       </td><td>455.509   </td><td>        NA</td></tr>\n",
       "\t<tr><th scope=row>TT[1:334]</th><td> 1        </td><td>1.016947  </td><td>332       </td><td>454.492   </td><td>0.31324440</td></tr>\n",
       "\t<tr><th scope=row>Q3nm[1:334]</th><td> 1        </td><td>0.715298  </td><td>331       </td><td>453.777   </td><td>0.39769058</td></tr>\n",
       "\t<tr><th scope=row>Q6nm[1:334]</th><td> 1        </td><td>0.642132  </td><td>330       </td><td>453.135   </td><td>0.42293987</td></tr>\n",
       "\t<tr><th scope=row>Q8nm[1:334]</th><td> 1        </td><td>1.078549  </td><td>329       </td><td>452.056   </td><td>0.29902249</td></tr>\n",
       "\t<tr><th scope=row>Q9nm[1:334]</th><td> 1        </td><td>6.350199  </td><td>328       </td><td>445.706   </td><td>0.01173681</td></tr>\n",
       "\t<tr><th scope=row>Q12nm[1:334]</th><td> 1        </td><td>0.027680  </td><td>327       </td><td>445.678   </td><td>0.86786344</td></tr>\n",
       "\t<tr><th scope=row>VGPO[1:334]</th><td> 1        </td><td>9.782287  </td><td>326       </td><td>435.896   </td><td>0.00176201</td></tr>\n",
       "</tbody>\n",
       "</table>\n"
      ],
      "text/latex": [
       "\\begin{tabular}{r|lllll}\n",
       "  & Df & Deviance & Resid. Df & Resid. Dev & Pr(>Chi)\\\\\n",
       "\\hline\n",
       "\tNULL & NA         &       NA   & 333        & 455.509    &         NA\\\\\n",
       "\tTT{[}1:334{]} &  1         & 1.016947   & 332        & 454.492    & 0.31324440\\\\\n",
       "\tQ3nm{[}1:334{]} &  1         & 0.715298   & 331        & 453.777    & 0.39769058\\\\\n",
       "\tQ6nm{[}1:334{]} &  1         & 0.642132   & 330        & 453.135    & 0.42293987\\\\\n",
       "\tQ8nm{[}1:334{]} &  1         & 1.078549   & 329        & 452.056    & 0.29902249\\\\\n",
       "\tQ9nm{[}1:334{]} &  1         & 6.350199   & 328        & 445.706    & 0.01173681\\\\\n",
       "\tQ12nm{[}1:334{]} &  1         & 0.027680   & 327        & 445.678    & 0.86786344\\\\\n",
       "\tVGPO{[}1:334{]} &  1         & 9.782287   & 326        & 435.896    & 0.00176201\\\\\n",
       "\\end{tabular}\n"
      ],
      "text/markdown": [
       "\n",
       "| <!--/--> | Df | Deviance | Resid. Df | Resid. Dev | Pr(>Chi) | \n",
       "|---|---|---|---|---|---|---|---|\n",
       "| NULL | NA         |       NA   | 333        | 455.509    |         NA | \n",
       "| TT[1:334] |  1         | 1.016947   | 332        | 454.492    | 0.31324440 | \n",
       "| Q3nm[1:334] |  1         | 0.715298   | 331        | 453.777    | 0.39769058 | \n",
       "| Q6nm[1:334] |  1         | 0.642132   | 330        | 453.135    | 0.42293987 | \n",
       "| Q8nm[1:334] |  1         | 1.078549   | 329        | 452.056    | 0.29902249 | \n",
       "| Q9nm[1:334] |  1         | 6.350199   | 328        | 445.706    | 0.01173681 | \n",
       "| Q12nm[1:334] |  1         | 0.027680   | 327        | 445.678    | 0.86786344 | \n",
       "| VGPO[1:334] |  1         | 9.782287   | 326        | 435.896    | 0.00176201 | \n",
       "\n",
       "\n"
      ],
      "text/plain": [
       "             Df Deviance Resid. Df Resid. Dev Pr(>Chi)  \n",
       "NULL         NA       NA 333       455.509            NA\n",
       "TT[1:334]     1 1.016947 332       454.492    0.31324440\n",
       "Q3nm[1:334]   1 0.715298 331       453.777    0.39769058\n",
       "Q6nm[1:334]   1 0.642132 330       453.135    0.42293987\n",
       "Q8nm[1:334]   1 1.078549 329       452.056    0.29902249\n",
       "Q9nm[1:334]   1 6.350199 328       445.706    0.01173681\n",
       "Q12nm[1:334]  1 0.027680 327       445.678    0.86786344\n",
       "VGPO[1:334]   1 9.782287 326       435.896    0.00176201"
      ]
     },
     "metadata": {},
     "output_type": "display_data"
    }
   ],
   "source": [
    "options(digits = 6)\n",
    "\n",
    "anova(mod, test=\"Chi\");"
   ]
  },
  {
   "cell_type": "code",
   "execution_count": null,
   "metadata": {},
   "outputs": [],
   "source": [
    "'Similiar results Q6 is most significant, Q3 explains the least and all not statisticaly significant\n",
    "  \n",
    " in order of seeming significants:\n",
    "                                Q6\n",
    "                                Q12\n",
    "                                VGPO\n",
    "                                TT\n",
    "                                Q9\n",
    "                                Q8\n",
    "                                Q3\n",
    "\n",
    "'"
   ]
  },
  {
   "cell_type": "code",
   "execution_count": 102,
   "metadata": {},
   "outputs": [
    {
     "data": {
      "text/html": [
       "<table>\n",
       "<thead><tr><th></th><th scope=col>Df</th><th scope=col>Deviance</th><th scope=col>AIC</th><th scope=col>LRT</th><th scope=col>Pr(&gt;Chi)</th></tr></thead>\n",
       "<tbody>\n",
       "\t<tr><th scope=row>&lt;none&gt;</th><td>NA        </td><td>435.896   </td><td>451.896   </td><td>       NA </td><td>        NA</td></tr>\n",
       "\t<tr><th scope=row>TT[1:334]</th><td> 1        </td><td>436.947   </td><td>450.947   </td><td>1.0506419 </td><td>0.30535931</td></tr>\n",
       "\t<tr><th scope=row>Q3nm[1:334]</th><td> 1        </td><td>436.166   </td><td>450.166   </td><td>0.2704714 </td><td>0.60301575</td></tr>\n",
       "\t<tr><th scope=row>Q6nm[1:334]</th><td> 1        </td><td>435.996   </td><td>449.996   </td><td>0.1002528 </td><td>0.75152649</td></tr>\n",
       "\t<tr><th scope=row>Q8nm[1:334]</th><td> 1        </td><td>436.683   </td><td>450.683   </td><td>0.7865513 </td><td>0.37514498</td></tr>\n",
       "\t<tr><th scope=row>Q9nm[1:334]</th><td> 1        </td><td>440.561   </td><td>454.561   </td><td>4.6645710 </td><td>0.03079111</td></tr>\n",
       "\t<tr><th scope=row>Q12nm[1:334]</th><td> 1        </td><td>435.970   </td><td>449.970   </td><td>0.0742804 </td><td>0.78520359</td></tr>\n",
       "\t<tr><th scope=row>VGPO[1:334]</th><td> 1        </td><td>445.678   </td><td>459.678   </td><td>9.7822874 </td><td>0.00176201</td></tr>\n",
       "</tbody>\n",
       "</table>\n"
      ],
      "text/latex": [
       "\\begin{tabular}{r|lllll}\n",
       "  & Df & Deviance & AIC & LRT & Pr(>Chi)\\\\\n",
       "\\hline\n",
       "\t<none> & NA         & 435.896    & 451.896    &        NA  &         NA\\\\\n",
       "\tTT{[}1:334{]} &  1         & 436.947    & 450.947    & 1.0506419  & 0.30535931\\\\\n",
       "\tQ3nm{[}1:334{]} &  1         & 436.166    & 450.166    & 0.2704714  & 0.60301575\\\\\n",
       "\tQ6nm{[}1:334{]} &  1         & 435.996    & 449.996    & 0.1002528  & 0.75152649\\\\\n",
       "\tQ8nm{[}1:334{]} &  1         & 436.683    & 450.683    & 0.7865513  & 0.37514498\\\\\n",
       "\tQ9nm{[}1:334{]} &  1         & 440.561    & 454.561    & 4.6645710  & 0.03079111\\\\\n",
       "\tQ12nm{[}1:334{]} &  1         & 435.970    & 449.970    & 0.0742804  & 0.78520359\\\\\n",
       "\tVGPO{[}1:334{]} &  1         & 445.678    & 459.678    & 9.7822874  & 0.00176201\\\\\n",
       "\\end{tabular}\n"
      ],
      "text/markdown": [
       "\n",
       "| <!--/--> | Df | Deviance | AIC | LRT | Pr(>Chi) | \n",
       "|---|---|---|---|---|---|---|---|\n",
       "| <none> | NA         | 435.896    | 451.896    |        NA  |         NA | \n",
       "| TT[1:334] |  1         | 436.947    | 450.947    | 1.0506419  | 0.30535931 | \n",
       "| Q3nm[1:334] |  1         | 436.166    | 450.166    | 0.2704714  | 0.60301575 | \n",
       "| Q6nm[1:334] |  1         | 435.996    | 449.996    | 0.1002528  | 0.75152649 | \n",
       "| Q8nm[1:334] |  1         | 436.683    | 450.683    | 0.7865513  | 0.37514498 | \n",
       "| Q9nm[1:334] |  1         | 440.561    | 454.561    | 4.6645710  | 0.03079111 | \n",
       "| Q12nm[1:334] |  1         | 435.970    | 449.970    | 0.0742804  | 0.78520359 | \n",
       "| VGPO[1:334] |  1         | 445.678    | 459.678    | 9.7822874  | 0.00176201 | \n",
       "\n",
       "\n"
      ],
      "text/plain": [
       "             Df Deviance AIC     LRT       Pr(>Chi)  \n",
       "<none>       NA 435.896  451.896        NA         NA\n",
       "TT[1:334]     1 436.947  450.947 1.0506419 0.30535931\n",
       "Q3nm[1:334]   1 436.166  450.166 0.2704714 0.60301575\n",
       "Q6nm[1:334]   1 435.996  449.996 0.1002528 0.75152649\n",
       "Q8nm[1:334]   1 436.683  450.683 0.7865513 0.37514498\n",
       "Q9nm[1:334]   1 440.561  454.561 4.6645710 0.03079111\n",
       "Q12nm[1:334]  1 435.970  449.970 0.0742804 0.78520359\n",
       "VGPO[1:334]   1 445.678  459.678 9.7822874 0.00176201"
      ]
     },
     "metadata": {},
     "output_type": "display_data"
    }
   ],
   "source": [
    "drop1(mod, test=\"Chi\");"
   ]
  },
  {
   "cell_type": "code",
   "execution_count": 120,
   "metadata": {},
   "outputs": [
    {
     "data": {
      "text/html": [
       "<table>\n",
       "<thead><tr><th scope=col>Q6nm</th><th scope=col>Q12nm</th><th scope=col>VGPO</th><th scope=col>TTL</th><th scope=col>Q9nm</th><th scope=col>Q8nm</th><th scope=col>VGPR_HL</th></tr></thead>\n",
       "<tbody>\n",
       "\t<tr><td>1 </td><td>2 </td><td> 4</td><td>6 </td><td>6 </td><td>2 </td><td>1 </td></tr>\n",
       "\t<tr><td>3 </td><td>3 </td><td> 3</td><td>5 </td><td>4 </td><td>2 </td><td>0 </td></tr>\n",
       "\t<tr><td>6 </td><td>4 </td><td> 9</td><td>5 </td><td>4 </td><td>1 </td><td>1 </td></tr>\n",
       "\t<tr><td>4 </td><td>6 </td><td> 8</td><td>5 </td><td>6 </td><td>2 </td><td>0 </td></tr>\n",
       "\t<tr><td>6 </td><td>4 </td><td> 4</td><td>5 </td><td>6 </td><td>1 </td><td>1 </td></tr>\n",
       "\t<tr><td>4 </td><td>4 </td><td> 2</td><td>5 </td><td>6 </td><td>1 </td><td>1 </td></tr>\n",
       "\t<tr><td>4 </td><td>5 </td><td> 2</td><td>5 </td><td>6 </td><td>2 </td><td>1 </td></tr>\n",
       "\t<tr><td>1 </td><td>6 </td><td>13</td><td>6 </td><td>5 </td><td>2 </td><td>0 </td></tr>\n",
       "\t<tr><td>6 </td><td>4 </td><td> 8</td><td>7 </td><td>7 </td><td>2 </td><td>1 </td></tr>\n",
       "\t<tr><td>6 </td><td>5 </td><td>13</td><td>6 </td><td>1 </td><td>1 </td><td>1 </td></tr>\n",
       "\t<tr><td>1 </td><td>4 </td><td> 4</td><td>5 </td><td>2 </td><td>1 </td><td>0 </td></tr>\n",
       "\t<tr><td>6 </td><td>5 </td><td> 3</td><td>6 </td><td>6 </td><td>2 </td><td>1 </td></tr>\n",
       "\t<tr><td>6 </td><td>4 </td><td>13</td><td>7 </td><td>6 </td><td>1 </td><td>0 </td></tr>\n",
       "\t<tr><td>6 </td><td>5 </td><td> 7</td><td>5 </td><td>7 </td><td>1 </td><td>0 </td></tr>\n",
       "\t<tr><td>1 </td><td>5 </td><td> 8</td><td>5 </td><td>5 </td><td>1 </td><td>0 </td></tr>\n",
       "\t<tr><td>6 </td><td>5 </td><td> 9</td><td>6 </td><td>5 </td><td>2 </td><td>1 </td></tr>\n",
       "\t<tr><td>6 </td><td>4 </td><td> 3</td><td>5 </td><td>6 </td><td>3 </td><td>1 </td></tr>\n",
       "\t<tr><td>6 </td><td>4 </td><td>10</td><td>5 </td><td>6 </td><td>2 </td><td>0 </td></tr>\n",
       "\t<tr><td>1 </td><td>6 </td><td>10</td><td>6 </td><td>1 </td><td>2 </td><td>1 </td></tr>\n",
       "\t<tr><td>6 </td><td>5 </td><td> 7</td><td>5 </td><td>4 </td><td>1 </td><td>1 </td></tr>\n",
       "\t<tr><td>4 </td><td>4 </td><td> 5</td><td>5 </td><td>7 </td><td>1 </td><td>0 </td></tr>\n",
       "\t<tr><td>6 </td><td>4 </td><td> 9</td><td>6 </td><td>5 </td><td>1 </td><td>0 </td></tr>\n",
       "\t<tr><td>6 </td><td>5 </td><td> 3</td><td>5 </td><td>5 </td><td>1 </td><td>1 </td></tr>\n",
       "\t<tr><td>6 </td><td>4 </td><td> 2</td><td>5 </td><td>5 </td><td>2 </td><td>1 </td></tr>\n",
       "\t<tr><td>1 </td><td>4 </td><td>13</td><td>6 </td><td>7 </td><td>2 </td><td>1 </td></tr>\n",
       "\t<tr><td>3 </td><td>4 </td><td> 3</td><td>5 </td><td>7 </td><td>2 </td><td>1 </td></tr>\n",
       "\t<tr><td>1 </td><td>5 </td><td> 2</td><td>5 </td><td>6 </td><td>1 </td><td>0 </td></tr>\n",
       "\t<tr><td>1 </td><td>6 </td><td>13</td><td>6 </td><td>5 </td><td>1 </td><td>0 </td></tr>\n",
       "\t<tr><td>6 </td><td>5 </td><td> 3</td><td>6 </td><td>1 </td><td>2 </td><td>1 </td></tr>\n",
       "\t<tr><td>2 </td><td>4 </td><td>10</td><td>5 </td><td>2 </td><td>2 </td><td>0 </td></tr>\n",
       "\t<tr><td>...</td><td>...</td><td>...</td><td>...</td><td>...</td><td>...</td><td>...</td></tr>\n",
       "\t<tr><td>2 </td><td>2 </td><td> 2</td><td>6 </td><td>2 </td><td>3 </td><td>1 </td></tr>\n",
       "\t<tr><td>6 </td><td>5 </td><td>10</td><td>6 </td><td>7 </td><td>2 </td><td>1 </td></tr>\n",
       "\t<tr><td>1 </td><td>4 </td><td> 3</td><td>5 </td><td>2 </td><td>2 </td><td>1 </td></tr>\n",
       "\t<tr><td>6 </td><td>5 </td><td>13</td><td>6 </td><td>4 </td><td>2 </td><td>0 </td></tr>\n",
       "\t<tr><td>1 </td><td>5 </td><td> 9</td><td>6 </td><td>4 </td><td>1 </td><td>1 </td></tr>\n",
       "\t<tr><td>6 </td><td>5 </td><td> 6</td><td>6 </td><td>6 </td><td>2 </td><td>1 </td></tr>\n",
       "\t<tr><td>6 </td><td>3 </td><td> 5</td><td>5 </td><td>5 </td><td>2 </td><td>1 </td></tr>\n",
       "\t<tr><td>6 </td><td>5 </td><td> 6</td><td>5 </td><td>6 </td><td>1 </td><td>0 </td></tr>\n",
       "\t<tr><td>6 </td><td>4 </td><td> 6</td><td>6 </td><td>5 </td><td>1 </td><td>1 </td></tr>\n",
       "\t<tr><td>6 </td><td>5 </td><td> 4</td><td>6 </td><td>4 </td><td>1 </td><td>0 </td></tr>\n",
       "\t<tr><td>1 </td><td>6 </td><td>11</td><td>6 </td><td>5 </td><td>2 </td><td>1 </td></tr>\n",
       "\t<tr><td>1 </td><td>2 </td><td>10</td><td>5 </td><td>7 </td><td>1 </td><td>0 </td></tr>\n",
       "\t<tr><td>1 </td><td>5 </td><td> 7</td><td>5 </td><td>6 </td><td>1 </td><td>1 </td></tr>\n",
       "\t<tr><td>4 </td><td>3 </td><td> 2</td><td>6 </td><td>7 </td><td>3 </td><td>1 </td></tr>\n",
       "\t<tr><td>4 </td><td>5 </td><td>12</td><td>6 </td><td>6 </td><td>2 </td><td>0 </td></tr>\n",
       "\t<tr><td>1 </td><td>5 </td><td> 5</td><td>7 </td><td>6 </td><td>2 </td><td>1 </td></tr>\n",
       "\t<tr><td>2 </td><td>3 </td><td>12</td><td>5 </td><td>2 </td><td>1 </td><td>0 </td></tr>\n",
       "\t<tr><td>1 </td><td>5 </td><td> 7</td><td>6 </td><td>6 </td><td>1 </td><td>1 </td></tr>\n",
       "\t<tr><td>1 </td><td>5 </td><td> 9</td><td>6 </td><td>1 </td><td>2 </td><td>1 </td></tr>\n",
       "\t<tr><td>6 </td><td>4 </td><td> 8</td><td>7 </td><td>5 </td><td>1 </td><td>1 </td></tr>\n",
       "\t<tr><td>5 </td><td>5 </td><td> 5</td><td>6 </td><td>7 </td><td>2 </td><td>1 </td></tr>\n",
       "\t<tr><td>4 </td><td>5 </td><td> 5</td><td>6 </td><td>6 </td><td>1 </td><td>0 </td></tr>\n",
       "\t<tr><td>4 </td><td>5 </td><td> 9</td><td>5 </td><td>6 </td><td>2 </td><td>0 </td></tr>\n",
       "\t<tr><td>6 </td><td>5 </td><td> 9</td><td>6 </td><td>3 </td><td>1 </td><td>1 </td></tr>\n",
       "\t<tr><td>2 </td><td>2 </td><td> 4</td><td>5 </td><td>2 </td><td>1 </td><td>1 </td></tr>\n",
       "\t<tr><td>6 </td><td>3 </td><td> 9</td><td>5 </td><td>6 </td><td>1 </td><td>0 </td></tr>\n",
       "\t<tr><td>1 </td><td>2 </td><td> 3</td><td>6 </td><td>1 </td><td>2 </td><td>0 </td></tr>\n",
       "\t<tr><td>1 </td><td>4 </td><td>11</td><td>7 </td><td>6 </td><td>1 </td><td>0 </td></tr>\n",
       "\t<tr><td>1 </td><td>6 </td><td>13</td><td>5 </td><td>5 </td><td>2 </td><td>0 </td></tr>\n",
       "\t<tr><td>6 </td><td>5 </td><td>12</td><td>6 </td><td>5 </td><td>2 </td><td>1 </td></tr>\n",
       "</tbody>\n",
       "</table>\n"
      ],
      "text/latex": [
       "\\begin{tabular}{r|lllllll}\n",
       " Q6nm & Q12nm & VGPO & TTL & Q9nm & Q8nm & VGPR\\_HL\\\\\n",
       "\\hline\n",
       "\t 1  & 2  &  4 & 6  & 6  & 2  & 1 \\\\\n",
       "\t 3  & 3  &  3 & 5  & 4  & 2  & 0 \\\\\n",
       "\t 6  & 4  &  9 & 5  & 4  & 1  & 1 \\\\\n",
       "\t 4  & 6  &  8 & 5  & 6  & 2  & 0 \\\\\n",
       "\t 6  & 4  &  4 & 5  & 6  & 1  & 1 \\\\\n",
       "\t 4  & 4  &  2 & 5  & 6  & 1  & 1 \\\\\n",
       "\t 4  & 5  &  2 & 5  & 6  & 2  & 1 \\\\\n",
       "\t 1  & 6  & 13 & 6  & 5  & 2  & 0 \\\\\n",
       "\t 6  & 4  &  8 & 7  & 7  & 2  & 1 \\\\\n",
       "\t 6  & 5  & 13 & 6  & 1  & 1  & 1 \\\\\n",
       "\t 1  & 4  &  4 & 5  & 2  & 1  & 0 \\\\\n",
       "\t 6  & 5  &  3 & 6  & 6  & 2  & 1 \\\\\n",
       "\t 6  & 4  & 13 & 7  & 6  & 1  & 0 \\\\\n",
       "\t 6  & 5  &  7 & 5  & 7  & 1  & 0 \\\\\n",
       "\t 1  & 5  &  8 & 5  & 5  & 1  & 0 \\\\\n",
       "\t 6  & 5  &  9 & 6  & 5  & 2  & 1 \\\\\n",
       "\t 6  & 4  &  3 & 5  & 6  & 3  & 1 \\\\\n",
       "\t 6  & 4  & 10 & 5  & 6  & 2  & 0 \\\\\n",
       "\t 1  & 6  & 10 & 6  & 1  & 2  & 1 \\\\\n",
       "\t 6  & 5  &  7 & 5  & 4  & 1  & 1 \\\\\n",
       "\t 4  & 4  &  5 & 5  & 7  & 1  & 0 \\\\\n",
       "\t 6  & 4  &  9 & 6  & 5  & 1  & 0 \\\\\n",
       "\t 6  & 5  &  3 & 5  & 5  & 1  & 1 \\\\\n",
       "\t 6  & 4  &  2 & 5  & 5  & 2  & 1 \\\\\n",
       "\t 1  & 4  & 13 & 6  & 7  & 2  & 1 \\\\\n",
       "\t 3  & 4  &  3 & 5  & 7  & 2  & 1 \\\\\n",
       "\t 1  & 5  &  2 & 5  & 6  & 1  & 0 \\\\\n",
       "\t 1  & 6  & 13 & 6  & 5  & 1  & 0 \\\\\n",
       "\t 6  & 5  &  3 & 6  & 1  & 2  & 1 \\\\\n",
       "\t 2  & 4  & 10 & 5  & 2  & 2  & 0 \\\\\n",
       "\t ... & ... & ... & ... & ... & ... & ...\\\\\n",
       "\t 2  & 2  &  2 & 6  & 2  & 3  & 1 \\\\\n",
       "\t 6  & 5  & 10 & 6  & 7  & 2  & 1 \\\\\n",
       "\t 1  & 4  &  3 & 5  & 2  & 2  & 1 \\\\\n",
       "\t 6  & 5  & 13 & 6  & 4  & 2  & 0 \\\\\n",
       "\t 1  & 5  &  9 & 6  & 4  & 1  & 1 \\\\\n",
       "\t 6  & 5  &  6 & 6  & 6  & 2  & 1 \\\\\n",
       "\t 6  & 3  &  5 & 5  & 5  & 2  & 1 \\\\\n",
       "\t 6  & 5  &  6 & 5  & 6  & 1  & 0 \\\\\n",
       "\t 6  & 4  &  6 & 6  & 5  & 1  & 1 \\\\\n",
       "\t 6  & 5  &  4 & 6  & 4  & 1  & 0 \\\\\n",
       "\t 1  & 6  & 11 & 6  & 5  & 2  & 1 \\\\\n",
       "\t 1  & 2  & 10 & 5  & 7  & 1  & 0 \\\\\n",
       "\t 1  & 5  &  7 & 5  & 6  & 1  & 1 \\\\\n",
       "\t 4  & 3  &  2 & 6  & 7  & 3  & 1 \\\\\n",
       "\t 4  & 5  & 12 & 6  & 6  & 2  & 0 \\\\\n",
       "\t 1  & 5  &  5 & 7  & 6  & 2  & 1 \\\\\n",
       "\t 2  & 3  & 12 & 5  & 2  & 1  & 0 \\\\\n",
       "\t 1  & 5  &  7 & 6  & 6  & 1  & 1 \\\\\n",
       "\t 1  & 5  &  9 & 6  & 1  & 2  & 1 \\\\\n",
       "\t 6  & 4  &  8 & 7  & 5  & 1  & 1 \\\\\n",
       "\t 5  & 5  &  5 & 6  & 7  & 2  & 1 \\\\\n",
       "\t 4  & 5  &  5 & 6  & 6  & 1  & 0 \\\\\n",
       "\t 4  & 5  &  9 & 5  & 6  & 2  & 0 \\\\\n",
       "\t 6  & 5  &  9 & 6  & 3  & 1  & 1 \\\\\n",
       "\t 2  & 2  &  4 & 5  & 2  & 1  & 1 \\\\\n",
       "\t 6  & 3  &  9 & 5  & 6  & 1  & 0 \\\\\n",
       "\t 1  & 2  &  3 & 6  & 1  & 2  & 0 \\\\\n",
       "\t 1  & 4  & 11 & 7  & 6  & 1  & 0 \\\\\n",
       "\t 1  & 6  & 13 & 5  & 5  & 2  & 0 \\\\\n",
       "\t 6  & 5  & 12 & 6  & 5  & 2  & 1 \\\\\n",
       "\\end{tabular}\n"
      ],
      "text/markdown": [
       "\n",
       "Q6nm | Q12nm | VGPO | TTL | Q9nm | Q8nm | VGPR_HL | \n",
       "|---|---|---|---|---|---|---|---|---|---|---|---|---|---|---|---|---|---|---|---|---|---|---|---|---|---|---|---|---|---|---|---|---|---|---|---|---|---|---|---|---|---|---|---|---|---|---|---|---|---|---|---|---|---|---|---|---|---|---|---|---|\n",
       "| 1  | 2  |  4 | 6  | 6  | 2  | 1  | \n",
       "| 3  | 3  |  3 | 5  | 4  | 2  | 0  | \n",
       "| 6  | 4  |  9 | 5  | 4  | 1  | 1  | \n",
       "| 4  | 6  |  8 | 5  | 6  | 2  | 0  | \n",
       "| 6  | 4  |  4 | 5  | 6  | 1  | 1  | \n",
       "| 4  | 4  |  2 | 5  | 6  | 1  | 1  | \n",
       "| 4  | 5  |  2 | 5  | 6  | 2  | 1  | \n",
       "| 1  | 6  | 13 | 6  | 5  | 2  | 0  | \n",
       "| 6  | 4  |  8 | 7  | 7  | 2  | 1  | \n",
       "| 6  | 5  | 13 | 6  | 1  | 1  | 1  | \n",
       "| 1  | 4  |  4 | 5  | 2  | 1  | 0  | \n",
       "| 6  | 5  |  3 | 6  | 6  | 2  | 1  | \n",
       "| 6  | 4  | 13 | 7  | 6  | 1  | 0  | \n",
       "| 6  | 5  |  7 | 5  | 7  | 1  | 0  | \n",
       "| 1  | 5  |  8 | 5  | 5  | 1  | 0  | \n",
       "| 6  | 5  |  9 | 6  | 5  | 2  | 1  | \n",
       "| 6  | 4  |  3 | 5  | 6  | 3  | 1  | \n",
       "| 6  | 4  | 10 | 5  | 6  | 2  | 0  | \n",
       "| 1  | 6  | 10 | 6  | 1  | 2  | 1  | \n",
       "| 6  | 5  |  7 | 5  | 4  | 1  | 1  | \n",
       "| 4  | 4  |  5 | 5  | 7  | 1  | 0  | \n",
       "| 6  | 4  |  9 | 6  | 5  | 1  | 0  | \n",
       "| 6  | 5  |  3 | 5  | 5  | 1  | 1  | \n",
       "| 6  | 4  |  2 | 5  | 5  | 2  | 1  | \n",
       "| 1  | 4  | 13 | 6  | 7  | 2  | 1  | \n",
       "| 3  | 4  |  3 | 5  | 7  | 2  | 1  | \n",
       "| 1  | 5  |  2 | 5  | 6  | 1  | 0  | \n",
       "| 1  | 6  | 13 | 6  | 5  | 1  | 0  | \n",
       "| 6  | 5  |  3 | 6  | 1  | 2  | 1  | \n",
       "| 2  | 4  | 10 | 5  | 2  | 2  | 0  | \n",
       "| ... | ... | ... | ... | ... | ... | ... | \n",
       "| 2  | 2  |  2 | 6  | 2  | 3  | 1  | \n",
       "| 6  | 5  | 10 | 6  | 7  | 2  | 1  | \n",
       "| 1  | 4  |  3 | 5  | 2  | 2  | 1  | \n",
       "| 6  | 5  | 13 | 6  | 4  | 2  | 0  | \n",
       "| 1  | 5  |  9 | 6  | 4  | 1  | 1  | \n",
       "| 6  | 5  |  6 | 6  | 6  | 2  | 1  | \n",
       "| 6  | 3  |  5 | 5  | 5  | 2  | 1  | \n",
       "| 6  | 5  |  6 | 5  | 6  | 1  | 0  | \n",
       "| 6  | 4  |  6 | 6  | 5  | 1  | 1  | \n",
       "| 6  | 5  |  4 | 6  | 4  | 1  | 0  | \n",
       "| 1  | 6  | 11 | 6  | 5  | 2  | 1  | \n",
       "| 1  | 2  | 10 | 5  | 7  | 1  | 0  | \n",
       "| 1  | 5  |  7 | 5  | 6  | 1  | 1  | \n",
       "| 4  | 3  |  2 | 6  | 7  | 3  | 1  | \n",
       "| 4  | 5  | 12 | 6  | 6  | 2  | 0  | \n",
       "| 1  | 5  |  5 | 7  | 6  | 2  | 1  | \n",
       "| 2  | 3  | 12 | 5  | 2  | 1  | 0  | \n",
       "| 1  | 5  |  7 | 6  | 6  | 1  | 1  | \n",
       "| 1  | 5  |  9 | 6  | 1  | 2  | 1  | \n",
       "| 6  | 4  |  8 | 7  | 5  | 1  | 1  | \n",
       "| 5  | 5  |  5 | 6  | 7  | 2  | 1  | \n",
       "| 4  | 5  |  5 | 6  | 6  | 1  | 0  | \n",
       "| 4  | 5  |  9 | 5  | 6  | 2  | 0  | \n",
       "| 6  | 5  |  9 | 6  | 3  | 1  | 1  | \n",
       "| 2  | 2  |  4 | 5  | 2  | 1  | 1  | \n",
       "| 6  | 3  |  9 | 5  | 6  | 1  | 0  | \n",
       "| 1  | 2  |  3 | 6  | 1  | 2  | 0  | \n",
       "| 1  | 4  | 11 | 7  | 6  | 1  | 0  | \n",
       "| 1  | 6  | 13 | 5  | 5  | 2  | 0  | \n",
       "| 6  | 5  | 12 | 6  | 5  | 2  | 1  | \n",
       "\n",
       "\n"
      ],
      "text/plain": [
       "    Q6nm Q12nm VGPO TTL Q9nm Q8nm VGPR_HL\n",
       "1   1    2      4   6   6    2    1      \n",
       "2   3    3      3   5   4    2    0      \n",
       "3   6    4      9   5   4    1    1      \n",
       "4   4    6      8   5   6    2    0      \n",
       "5   6    4      4   5   6    1    1      \n",
       "6   4    4      2   5   6    1    1      \n",
       "7   4    5      2   5   6    2    1      \n",
       "8   1    6     13   6   5    2    0      \n",
       "9   6    4      8   7   7    2    1      \n",
       "10  6    5     13   6   1    1    1      \n",
       "11  1    4      4   5   2    1    0      \n",
       "12  6    5      3   6   6    2    1      \n",
       "13  6    4     13   7   6    1    0      \n",
       "14  6    5      7   5   7    1    0      \n",
       "15  1    5      8   5   5    1    0      \n",
       "16  6    5      9   6   5    2    1      \n",
       "17  6    4      3   5   6    3    1      \n",
       "18  6    4     10   5   6    2    0      \n",
       "19  1    6     10   6   1    2    1      \n",
       "20  6    5      7   5   4    1    1      \n",
       "21  4    4      5   5   7    1    0      \n",
       "22  6    4      9   6   5    1    0      \n",
       "23  6    5      3   5   5    1    1      \n",
       "24  6    4      2   5   5    2    1      \n",
       "25  1    4     13   6   7    2    1      \n",
       "26  3    4      3   5   7    2    1      \n",
       "27  1    5      2   5   6    1    0      \n",
       "28  1    6     13   6   5    1    0      \n",
       "29  6    5      3   6   1    2    1      \n",
       "30  2    4     10   5   2    2    0      \n",
       "... ...  ...   ...  ... ...  ...  ...    \n",
       "393 2    2      2   6   2    3    1      \n",
       "394 6    5     10   6   7    2    1      \n",
       "395 1    4      3   5   2    2    1      \n",
       "396 6    5     13   6   4    2    0      \n",
       "397 1    5      9   6   4    1    1      \n",
       "398 6    5      6   6   6    2    1      \n",
       "399 6    3      5   5   5    2    1      \n",
       "400 6    5      6   5   6    1    0      \n",
       "401 6    4      6   6   5    1    1      \n",
       "402 6    5      4   6   4    1    0      \n",
       "403 1    6     11   6   5    2    1      \n",
       "404 1    2     10   5   7    1    0      \n",
       "405 1    5      7   5   6    1    1      \n",
       "406 4    3      2   6   7    3    1      \n",
       "407 4    5     12   6   6    2    0      \n",
       "408 1    5      5   7   6    2    1      \n",
       "409 2    3     12   5   2    1    0      \n",
       "410 1    5      7   6   6    1    1      \n",
       "411 1    5      9   6   1    2    1      \n",
       "412 6    4      8   7   5    1    1      \n",
       "413 5    5      5   6   7    2    1      \n",
       "414 4    5      5   6   6    1    0      \n",
       "415 4    5      9   5   6    2    0      \n",
       "416 6    5      9   6   3    1    1      \n",
       "417 2    2      4   5   2    1    1      \n",
       "418 6    3      9   5   6    1    0      \n",
       "419 1    2      3   6   1    2    0      \n",
       "420 1    4     11   7   6    1    0      \n",
       "421 1    6     13   5   5    2    0      \n",
       "422 6    5     12   6   5    2    1      "
      ]
     },
     "metadata": {},
     "output_type": "display_data"
    }
   ],
   "source": [
    "# Lets see how well it does if use all but Q3\n",
    "TTL = log(TT)\n",
    "\n",
    "var_C <- cbind(Q6nm,Q12nm,VGPO,TTL,Q9nm,Q8nm, VGPR_HL)\n",
    "\n",
    "dim_rC <- data.frame(var_C)\n",
    "dim_rC"
   ]
  },
  {
   "cell_type": "code",
   "execution_count": 121,
   "metadata": {},
   "outputs": [
    {
     "data": {
      "text/html": [
       "<table>\n",
       "<thead><tr><th></th><th scope=col>Q6nm</th><th scope=col>Q12nm</th><th scope=col>VGPO</th><th scope=col>TTL</th><th scope=col>Q9nm</th><th scope=col>Q8nm</th></tr></thead>\n",
       "<tbody>\n",
       "\t<tr><th scope=row>1</th><td>1 </td><td>2 </td><td> 4</td><td>6 </td><td>6 </td><td>2 </td></tr>\n",
       "\t<tr><th scope=row>2</th><td>3 </td><td>3 </td><td> 3</td><td>5 </td><td>4 </td><td>2 </td></tr>\n",
       "\t<tr><th scope=row>3</th><td>6 </td><td>4 </td><td> 9</td><td>5 </td><td>4 </td><td>1 </td></tr>\n",
       "\t<tr><th scope=row>4</th><td>4 </td><td>6 </td><td> 8</td><td>5 </td><td>6 </td><td>2 </td></tr>\n",
       "\t<tr><th scope=row>5</th><td>6 </td><td>4 </td><td> 4</td><td>5 </td><td>6 </td><td>1 </td></tr>\n",
       "\t<tr><th scope=row>6</th><td>4 </td><td>4 </td><td> 2</td><td>5 </td><td>6 </td><td>1 </td></tr>\n",
       "\t<tr><th scope=row>8</th><td>1 </td><td>6 </td><td>13</td><td>6 </td><td>5 </td><td>2 </td></tr>\n",
       "\t<tr><th scope=row>10</th><td>6 </td><td>5 </td><td>13</td><td>6 </td><td>1 </td><td>1 </td></tr>\n",
       "\t<tr><th scope=row>12</th><td>6 </td><td>5 </td><td> 3</td><td>6 </td><td>6 </td><td>2 </td></tr>\n",
       "\t<tr><th scope=row>14</th><td>6 </td><td>5 </td><td> 7</td><td>5 </td><td>7 </td><td>1 </td></tr>\n",
       "\t<tr><th scope=row>15</th><td>1 </td><td>5 </td><td> 8</td><td>5 </td><td>5 </td><td>1 </td></tr>\n",
       "\t<tr><th scope=row>17</th><td>6 </td><td>4 </td><td> 3</td><td>5 </td><td>6 </td><td>3 </td></tr>\n",
       "\t<tr><th scope=row>18</th><td>6 </td><td>4 </td><td>10</td><td>5 </td><td>6 </td><td>2 </td></tr>\n",
       "\t<tr><th scope=row>22</th><td>6 </td><td>4 </td><td> 9</td><td>6 </td><td>5 </td><td>1 </td></tr>\n",
       "\t<tr><th scope=row>23</th><td>6 </td><td>5 </td><td> 3</td><td>5 </td><td>5 </td><td>1 </td></tr>\n",
       "\t<tr><th scope=row>24</th><td>6 </td><td>4 </td><td> 2</td><td>5 </td><td>5 </td><td>2 </td></tr>\n",
       "\t<tr><th scope=row>25</th><td>1 </td><td>4 </td><td>13</td><td>6 </td><td>7 </td><td>2 </td></tr>\n",
       "\t<tr><th scope=row>26</th><td>3 </td><td>4 </td><td> 3</td><td>5 </td><td>7 </td><td>2 </td></tr>\n",
       "\t<tr><th scope=row>27</th><td>1 </td><td>5 </td><td> 2</td><td>5 </td><td>6 </td><td>1 </td></tr>\n",
       "\t<tr><th scope=row>28</th><td>1 </td><td>6 </td><td>13</td><td>6 </td><td>5 </td><td>1 </td></tr>\n",
       "\t<tr><th scope=row>29</th><td>6 </td><td>5 </td><td> 3</td><td>6 </td><td>1 </td><td>2 </td></tr>\n",
       "\t<tr><th scope=row>30</th><td>2 </td><td>4 </td><td>10</td><td>5 </td><td>2 </td><td>2 </td></tr>\n",
       "\t<tr><th scope=row>31</th><td>6 </td><td>5 </td><td>13</td><td>5 </td><td>5 </td><td>2 </td></tr>\n",
       "\t<tr><th scope=row>33</th><td>6 </td><td>5 </td><td> 5</td><td>5 </td><td>6 </td><td>2 </td></tr>\n",
       "\t<tr><th scope=row>36</th><td>4 </td><td>5 </td><td> 2</td><td>7 </td><td>6 </td><td>1 </td></tr>\n",
       "\t<tr><th scope=row>37</th><td>1 </td><td>6 </td><td> 8</td><td>6 </td><td>1 </td><td>1 </td></tr>\n",
       "\t<tr><th scope=row>39</th><td>6 </td><td>4 </td><td> 4</td><td>5 </td><td>7 </td><td>1 </td></tr>\n",
       "\t<tr><th scope=row>40</th><td>6 </td><td>5 </td><td> 6</td><td>5 </td><td>6 </td><td>2 </td></tr>\n",
       "\t<tr><th scope=row>41</th><td>6 </td><td>5 </td><td> 9</td><td>6 </td><td>6 </td><td>2 </td></tr>\n",
       "\t<tr><th scope=row>42</th><td>3 </td><td>4 </td><td> 8</td><td>5 </td><td>4 </td><td>3 </td></tr>\n",
       "\t<tr><th scope=row>...</th><td>...</td><td>...</td><td>...</td><td>...</td><td>...</td><td>...</td></tr>\n",
       "\t<tr><th scope=row>386</th><td>3 </td><td>3 </td><td> 4</td><td>6 </td><td>2 </td><td>1 </td></tr>\n",
       "\t<tr><th scope=row>387</th><td>6 </td><td>4 </td><td>13</td><td>6 </td><td>7 </td><td>2 </td></tr>\n",
       "\t<tr><th scope=row>388</th><td>3 </td><td>3 </td><td> 6</td><td>6 </td><td>2 </td><td>2 </td></tr>\n",
       "\t<tr><th scope=row>390</th><td>4 </td><td>2 </td><td> 7</td><td>5 </td><td>7 </td><td>1 </td></tr>\n",
       "\t<tr><th scope=row>391</th><td>6 </td><td>4 </td><td> 2</td><td>6 </td><td>5 </td><td>2 </td></tr>\n",
       "\t<tr><th scope=row>392</th><td>6 </td><td>4 </td><td> 7</td><td>7 </td><td>5 </td><td>2 </td></tr>\n",
       "\t<tr><th scope=row>395</th><td>1 </td><td>4 </td><td> 3</td><td>5 </td><td>2 </td><td>2 </td></tr>\n",
       "\t<tr><th scope=row>397</th><td>1 </td><td>5 </td><td> 9</td><td>6 </td><td>4 </td><td>1 </td></tr>\n",
       "\t<tr><th scope=row>398</th><td>6 </td><td>5 </td><td> 6</td><td>6 </td><td>6 </td><td>2 </td></tr>\n",
       "\t<tr><th scope=row>399</th><td>6 </td><td>3 </td><td> 5</td><td>5 </td><td>5 </td><td>2 </td></tr>\n",
       "\t<tr><th scope=row>400</th><td>6 </td><td>5 </td><td> 6</td><td>5 </td><td>6 </td><td>1 </td></tr>\n",
       "\t<tr><th scope=row>401</th><td>6 </td><td>4 </td><td> 6</td><td>6 </td><td>5 </td><td>1 </td></tr>\n",
       "\t<tr><th scope=row>402</th><td>6 </td><td>5 </td><td> 4</td><td>6 </td><td>4 </td><td>1 </td></tr>\n",
       "\t<tr><th scope=row>403</th><td>1 </td><td>6 </td><td>11</td><td>6 </td><td>5 </td><td>2 </td></tr>\n",
       "\t<tr><th scope=row>406</th><td>4 </td><td>3 </td><td> 2</td><td>6 </td><td>7 </td><td>3 </td></tr>\n",
       "\t<tr><th scope=row>407</th><td>4 </td><td>5 </td><td>12</td><td>6 </td><td>6 </td><td>2 </td></tr>\n",
       "\t<tr><th scope=row>408</th><td>1 </td><td>5 </td><td> 5</td><td>7 </td><td>6 </td><td>2 </td></tr>\n",
       "\t<tr><th scope=row>409</th><td>2 </td><td>3 </td><td>12</td><td>5 </td><td>2 </td><td>1 </td></tr>\n",
       "\t<tr><th scope=row>410</th><td>1 </td><td>5 </td><td> 7</td><td>6 </td><td>6 </td><td>1 </td></tr>\n",
       "\t<tr><th scope=row>411</th><td>1 </td><td>5 </td><td> 9</td><td>6 </td><td>1 </td><td>2 </td></tr>\n",
       "\t<tr><th scope=row>412</th><td>6 </td><td>4 </td><td> 8</td><td>7 </td><td>5 </td><td>1 </td></tr>\n",
       "\t<tr><th scope=row>413</th><td>5 </td><td>5 </td><td> 5</td><td>6 </td><td>7 </td><td>2 </td></tr>\n",
       "\t<tr><th scope=row>414</th><td>4 </td><td>5 </td><td> 5</td><td>6 </td><td>6 </td><td>1 </td></tr>\n",
       "\t<tr><th scope=row>415</th><td>4 </td><td>5 </td><td> 9</td><td>5 </td><td>6 </td><td>2 </td></tr>\n",
       "\t<tr><th scope=row>416</th><td>6 </td><td>5 </td><td> 9</td><td>6 </td><td>3 </td><td>1 </td></tr>\n",
       "\t<tr><th scope=row>418</th><td>6 </td><td>3 </td><td> 9</td><td>5 </td><td>6 </td><td>1 </td></tr>\n",
       "\t<tr><th scope=row>419</th><td>1 </td><td>2 </td><td> 3</td><td>6 </td><td>1 </td><td>2 </td></tr>\n",
       "\t<tr><th scope=row>420</th><td>1 </td><td>4 </td><td>11</td><td>7 </td><td>6 </td><td>1 </td></tr>\n",
       "\t<tr><th scope=row>421</th><td>1 </td><td>6 </td><td>13</td><td>5 </td><td>5 </td><td>2 </td></tr>\n",
       "\t<tr><th scope=row>422</th><td>6 </td><td>5 </td><td>12</td><td>6 </td><td>5 </td><td>2 </td></tr>\n",
       "</tbody>\n",
       "</table>\n"
      ],
      "text/latex": [
       "\\begin{tabular}{r|llllll}\n",
       "  & Q6nm & Q12nm & VGPO & TTL & Q9nm & Q8nm\\\\\n",
       "\\hline\n",
       "\t1 & 1  & 2  &  4 & 6  & 6  & 2 \\\\\n",
       "\t2 & 3  & 3  &  3 & 5  & 4  & 2 \\\\\n",
       "\t3 & 6  & 4  &  9 & 5  & 4  & 1 \\\\\n",
       "\t4 & 4  & 6  &  8 & 5  & 6  & 2 \\\\\n",
       "\t5 & 6  & 4  &  4 & 5  & 6  & 1 \\\\\n",
       "\t6 & 4  & 4  &  2 & 5  & 6  & 1 \\\\\n",
       "\t8 & 1  & 6  & 13 & 6  & 5  & 2 \\\\\n",
       "\t10 & 6  & 5  & 13 & 6  & 1  & 1 \\\\\n",
       "\t12 & 6  & 5  &  3 & 6  & 6  & 2 \\\\\n",
       "\t14 & 6  & 5  &  7 & 5  & 7  & 1 \\\\\n",
       "\t15 & 1  & 5  &  8 & 5  & 5  & 1 \\\\\n",
       "\t17 & 6  & 4  &  3 & 5  & 6  & 3 \\\\\n",
       "\t18 & 6  & 4  & 10 & 5  & 6  & 2 \\\\\n",
       "\t22 & 6  & 4  &  9 & 6  & 5  & 1 \\\\\n",
       "\t23 & 6  & 5  &  3 & 5  & 5  & 1 \\\\\n",
       "\t24 & 6  & 4  &  2 & 5  & 5  & 2 \\\\\n",
       "\t25 & 1  & 4  & 13 & 6  & 7  & 2 \\\\\n",
       "\t26 & 3  & 4  &  3 & 5  & 7  & 2 \\\\\n",
       "\t27 & 1  & 5  &  2 & 5  & 6  & 1 \\\\\n",
       "\t28 & 1  & 6  & 13 & 6  & 5  & 1 \\\\\n",
       "\t29 & 6  & 5  &  3 & 6  & 1  & 2 \\\\\n",
       "\t30 & 2  & 4  & 10 & 5  & 2  & 2 \\\\\n",
       "\t31 & 6  & 5  & 13 & 5  & 5  & 2 \\\\\n",
       "\t33 & 6  & 5  &  5 & 5  & 6  & 2 \\\\\n",
       "\t36 & 4  & 5  &  2 & 7  & 6  & 1 \\\\\n",
       "\t37 & 1  & 6  &  8 & 6  & 1  & 1 \\\\\n",
       "\t39 & 6  & 4  &  4 & 5  & 7  & 1 \\\\\n",
       "\t40 & 6  & 5  &  6 & 5  & 6  & 2 \\\\\n",
       "\t41 & 6  & 5  &  9 & 6  & 6  & 2 \\\\\n",
       "\t42 & 3  & 4  &  8 & 5  & 4  & 3 \\\\\n",
       "\t... & ... & ... & ... & ... & ... & ...\\\\\n",
       "\t386 & 3  & 3  &  4 & 6  & 2  & 1 \\\\\n",
       "\t387 & 6  & 4  & 13 & 6  & 7  & 2 \\\\\n",
       "\t388 & 3  & 3  &  6 & 6  & 2  & 2 \\\\\n",
       "\t390 & 4  & 2  &  7 & 5  & 7  & 1 \\\\\n",
       "\t391 & 6  & 4  &  2 & 6  & 5  & 2 \\\\\n",
       "\t392 & 6  & 4  &  7 & 7  & 5  & 2 \\\\\n",
       "\t395 & 1  & 4  &  3 & 5  & 2  & 2 \\\\\n",
       "\t397 & 1  & 5  &  9 & 6  & 4  & 1 \\\\\n",
       "\t398 & 6  & 5  &  6 & 6  & 6  & 2 \\\\\n",
       "\t399 & 6  & 3  &  5 & 5  & 5  & 2 \\\\\n",
       "\t400 & 6  & 5  &  6 & 5  & 6  & 1 \\\\\n",
       "\t401 & 6  & 4  &  6 & 6  & 5  & 1 \\\\\n",
       "\t402 & 6  & 5  &  4 & 6  & 4  & 1 \\\\\n",
       "\t403 & 1  & 6  & 11 & 6  & 5  & 2 \\\\\n",
       "\t406 & 4  & 3  &  2 & 6  & 7  & 3 \\\\\n",
       "\t407 & 4  & 5  & 12 & 6  & 6  & 2 \\\\\n",
       "\t408 & 1  & 5  &  5 & 7  & 6  & 2 \\\\\n",
       "\t409 & 2  & 3  & 12 & 5  & 2  & 1 \\\\\n",
       "\t410 & 1  & 5  &  7 & 6  & 6  & 1 \\\\\n",
       "\t411 & 1  & 5  &  9 & 6  & 1  & 2 \\\\\n",
       "\t412 & 6  & 4  &  8 & 7  & 5  & 1 \\\\\n",
       "\t413 & 5  & 5  &  5 & 6  & 7  & 2 \\\\\n",
       "\t414 & 4  & 5  &  5 & 6  & 6  & 1 \\\\\n",
       "\t415 & 4  & 5  &  9 & 5  & 6  & 2 \\\\\n",
       "\t416 & 6  & 5  &  9 & 6  & 3  & 1 \\\\\n",
       "\t418 & 6  & 3  &  9 & 5  & 6  & 1 \\\\\n",
       "\t419 & 1  & 2  &  3 & 6  & 1  & 2 \\\\\n",
       "\t420 & 1  & 4  & 11 & 7  & 6  & 1 \\\\\n",
       "\t421 & 1  & 6  & 13 & 5  & 5  & 2 \\\\\n",
       "\t422 & 6  & 5  & 12 & 6  & 5  & 2 \\\\\n",
       "\\end{tabular}\n"
      ],
      "text/markdown": [
       "\n",
       "| <!--/--> | Q6nm | Q12nm | VGPO | TTL | Q9nm | Q8nm | \n",
       "|---|---|---|---|---|---|---|---|---|---|---|---|---|---|---|---|---|---|---|---|---|---|---|---|---|---|---|---|---|---|---|---|---|---|---|---|---|---|---|---|---|---|---|---|---|---|---|---|---|---|---|---|---|---|---|---|---|---|---|---|---|\n",
       "| 1 | 1  | 2  |  4 | 6  | 6  | 2  | \n",
       "| 2 | 3  | 3  |  3 | 5  | 4  | 2  | \n",
       "| 3 | 6  | 4  |  9 | 5  | 4  | 1  | \n",
       "| 4 | 4  | 6  |  8 | 5  | 6  | 2  | \n",
       "| 5 | 6  | 4  |  4 | 5  | 6  | 1  | \n",
       "| 6 | 4  | 4  |  2 | 5  | 6  | 1  | \n",
       "| 8 | 1  | 6  | 13 | 6  | 5  | 2  | \n",
       "| 10 | 6  | 5  | 13 | 6  | 1  | 1  | \n",
       "| 12 | 6  | 5  |  3 | 6  | 6  | 2  | \n",
       "| 14 | 6  | 5  |  7 | 5  | 7  | 1  | \n",
       "| 15 | 1  | 5  |  8 | 5  | 5  | 1  | \n",
       "| 17 | 6  | 4  |  3 | 5  | 6  | 3  | \n",
       "| 18 | 6  | 4  | 10 | 5  | 6  | 2  | \n",
       "| 22 | 6  | 4  |  9 | 6  | 5  | 1  | \n",
       "| 23 | 6  | 5  |  3 | 5  | 5  | 1  | \n",
       "| 24 | 6  | 4  |  2 | 5  | 5  | 2  | \n",
       "| 25 | 1  | 4  | 13 | 6  | 7  | 2  | \n",
       "| 26 | 3  | 4  |  3 | 5  | 7  | 2  | \n",
       "| 27 | 1  | 5  |  2 | 5  | 6  | 1  | \n",
       "| 28 | 1  | 6  | 13 | 6  | 5  | 1  | \n",
       "| 29 | 6  | 5  |  3 | 6  | 1  | 2  | \n",
       "| 30 | 2  | 4  | 10 | 5  | 2  | 2  | \n",
       "| 31 | 6  | 5  | 13 | 5  | 5  | 2  | \n",
       "| 33 | 6  | 5  |  5 | 5  | 6  | 2  | \n",
       "| 36 | 4  | 5  |  2 | 7  | 6  | 1  | \n",
       "| 37 | 1  | 6  |  8 | 6  | 1  | 1  | \n",
       "| 39 | 6  | 4  |  4 | 5  | 7  | 1  | \n",
       "| 40 | 6  | 5  |  6 | 5  | 6  | 2  | \n",
       "| 41 | 6  | 5  |  9 | 6  | 6  | 2  | \n",
       "| 42 | 3  | 4  |  8 | 5  | 4  | 3  | \n",
       "| ... | ... | ... | ... | ... | ... | ... | \n",
       "| 386 | 3  | 3  |  4 | 6  | 2  | 1  | \n",
       "| 387 | 6  | 4  | 13 | 6  | 7  | 2  | \n",
       "| 388 | 3  | 3  |  6 | 6  | 2  | 2  | \n",
       "| 390 | 4  | 2  |  7 | 5  | 7  | 1  | \n",
       "| 391 | 6  | 4  |  2 | 6  | 5  | 2  | \n",
       "| 392 | 6  | 4  |  7 | 7  | 5  | 2  | \n",
       "| 395 | 1  | 4  |  3 | 5  | 2  | 2  | \n",
       "| 397 | 1  | 5  |  9 | 6  | 4  | 1  | \n",
       "| 398 | 6  | 5  |  6 | 6  | 6  | 2  | \n",
       "| 399 | 6  | 3  |  5 | 5  | 5  | 2  | \n",
       "| 400 | 6  | 5  |  6 | 5  | 6  | 1  | \n",
       "| 401 | 6  | 4  |  6 | 6  | 5  | 1  | \n",
       "| 402 | 6  | 5  |  4 | 6  | 4  | 1  | \n",
       "| 403 | 1  | 6  | 11 | 6  | 5  | 2  | \n",
       "| 406 | 4  | 3  |  2 | 6  | 7  | 3  | \n",
       "| 407 | 4  | 5  | 12 | 6  | 6  | 2  | \n",
       "| 408 | 1  | 5  |  5 | 7  | 6  | 2  | \n",
       "| 409 | 2  | 3  | 12 | 5  | 2  | 1  | \n",
       "| 410 | 1  | 5  |  7 | 6  | 6  | 1  | \n",
       "| 411 | 1  | 5  |  9 | 6  | 1  | 2  | \n",
       "| 412 | 6  | 4  |  8 | 7  | 5  | 1  | \n",
       "| 413 | 5  | 5  |  5 | 6  | 7  | 2  | \n",
       "| 414 | 4  | 5  |  5 | 6  | 6  | 1  | \n",
       "| 415 | 4  | 5  |  9 | 5  | 6  | 2  | \n",
       "| 416 | 6  | 5  |  9 | 6  | 3  | 1  | \n",
       "| 418 | 6  | 3  |  9 | 5  | 6  | 1  | \n",
       "| 419 | 1  | 2  |  3 | 6  | 1  | 2  | \n",
       "| 420 | 1  | 4  | 11 | 7  | 6  | 1  | \n",
       "| 421 | 1  | 6  | 13 | 5  | 5  | 2  | \n",
       "| 422 | 6  | 5  | 12 | 6  | 5  | 2  | \n",
       "\n",
       "\n"
      ],
      "text/plain": [
       "    Q6nm Q12nm VGPO TTL Q9nm Q8nm\n",
       "1   1    2      4   6   6    2   \n",
       "2   3    3      3   5   4    2   \n",
       "3   6    4      9   5   4    1   \n",
       "4   4    6      8   5   6    2   \n",
       "5   6    4      4   5   6    1   \n",
       "6   4    4      2   5   6    1   \n",
       "8   1    6     13   6   5    2   \n",
       "10  6    5     13   6   1    1   \n",
       "12  6    5      3   6   6    2   \n",
       "14  6    5      7   5   7    1   \n",
       "15  1    5      8   5   5    1   \n",
       "17  6    4      3   5   6    3   \n",
       "18  6    4     10   5   6    2   \n",
       "22  6    4      9   6   5    1   \n",
       "23  6    5      3   5   5    1   \n",
       "24  6    4      2   5   5    2   \n",
       "25  1    4     13   6   7    2   \n",
       "26  3    4      3   5   7    2   \n",
       "27  1    5      2   5   6    1   \n",
       "28  1    6     13   6   5    1   \n",
       "29  6    5      3   6   1    2   \n",
       "30  2    4     10   5   2    2   \n",
       "31  6    5     13   5   5    2   \n",
       "33  6    5      5   5   6    2   \n",
       "36  4    5      2   7   6    1   \n",
       "37  1    6      8   6   1    1   \n",
       "39  6    4      4   5   7    1   \n",
       "40  6    5      6   5   6    2   \n",
       "41  6    5      9   6   6    2   \n",
       "42  3    4      8   5   4    3   \n",
       "... ...  ...   ...  ... ...  ... \n",
       "386 3    3      4   6   2    1   \n",
       "387 6    4     13   6   7    2   \n",
       "388 3    3      6   6   2    2   \n",
       "390 4    2      7   5   7    1   \n",
       "391 6    4      2   6   5    2   \n",
       "392 6    4      7   7   5    2   \n",
       "395 1    4      3   5   2    2   \n",
       "397 1    5      9   6   4    1   \n",
       "398 6    5      6   6   6    2   \n",
       "399 6    3      5   5   5    2   \n",
       "400 6    5      6   5   6    1   \n",
       "401 6    4      6   6   5    1   \n",
       "402 6    5      4   6   4    1   \n",
       "403 1    6     11   6   5    2   \n",
       "406 4    3      2   6   7    3   \n",
       "407 4    5     12   6   6    2   \n",
       "408 1    5      5   7   6    2   \n",
       "409 2    3     12   5   2    1   \n",
       "410 1    5      7   6   6    1   \n",
       "411 1    5      9   6   1    2   \n",
       "412 6    4      8   7   5    1   \n",
       "413 5    5      5   6   7    2   \n",
       "414 4    5      5   6   6    1   \n",
       "415 4    5      9   5   6    2   \n",
       "416 6    5      9   6   3    1   \n",
       "418 6    3      9   5   6    1   \n",
       "419 1    2      3   6   1    2   \n",
       "420 1    4     11   7   6    1   \n",
       "421 1    6     13   5   5    2   \n",
       "422 6    5     12   6   5    2   "
      ]
     },
     "metadata": {},
     "output_type": "display_data"
    },
    {
     "data": {
      "text/html": [
       "<table>\n",
       "<thead><tr><th></th><th scope=col>VGPO</th></tr></thead>\n",
       "<tbody>\n",
       "\t<tr><th scope=row>1</th><td> 4</td></tr>\n",
       "\t<tr><th scope=row>2</th><td> 3</td></tr>\n",
       "\t<tr><th scope=row>3</th><td> 9</td></tr>\n",
       "\t<tr><th scope=row>4</th><td> 8</td></tr>\n",
       "\t<tr><th scope=row>5</th><td> 4</td></tr>\n",
       "\t<tr><th scope=row>6</th><td> 2</td></tr>\n",
       "\t<tr><th scope=row>8</th><td>13</td></tr>\n",
       "\t<tr><th scope=row>10</th><td>13</td></tr>\n",
       "\t<tr><th scope=row>12</th><td> 3</td></tr>\n",
       "\t<tr><th scope=row>14</th><td> 7</td></tr>\n",
       "\t<tr><th scope=row>15</th><td> 8</td></tr>\n",
       "\t<tr><th scope=row>17</th><td> 3</td></tr>\n",
       "\t<tr><th scope=row>18</th><td>10</td></tr>\n",
       "\t<tr><th scope=row>22</th><td> 9</td></tr>\n",
       "\t<tr><th scope=row>23</th><td> 3</td></tr>\n",
       "\t<tr><th scope=row>24</th><td> 2</td></tr>\n",
       "\t<tr><th scope=row>25</th><td>13</td></tr>\n",
       "\t<tr><th scope=row>26</th><td> 3</td></tr>\n",
       "\t<tr><th scope=row>27</th><td> 2</td></tr>\n",
       "\t<tr><th scope=row>28</th><td>13</td></tr>\n",
       "\t<tr><th scope=row>29</th><td> 3</td></tr>\n",
       "\t<tr><th scope=row>30</th><td>10</td></tr>\n",
       "\t<tr><th scope=row>31</th><td>13</td></tr>\n",
       "\t<tr><th scope=row>33</th><td> 5</td></tr>\n",
       "\t<tr><th scope=row>36</th><td> 2</td></tr>\n",
       "\t<tr><th scope=row>37</th><td> 8</td></tr>\n",
       "\t<tr><th scope=row>39</th><td> 4</td></tr>\n",
       "\t<tr><th scope=row>40</th><td> 6</td></tr>\n",
       "\t<tr><th scope=row>41</th><td> 9</td></tr>\n",
       "\t<tr><th scope=row>42</th><td> 8</td></tr>\n",
       "\t<tr><th scope=row>...</th><td>...</td></tr>\n",
       "\t<tr><th scope=row>386</th><td> 4</td></tr>\n",
       "\t<tr><th scope=row>387</th><td>13</td></tr>\n",
       "\t<tr><th scope=row>388</th><td> 6</td></tr>\n",
       "\t<tr><th scope=row>390</th><td> 7</td></tr>\n",
       "\t<tr><th scope=row>391</th><td> 2</td></tr>\n",
       "\t<tr><th scope=row>392</th><td> 7</td></tr>\n",
       "\t<tr><th scope=row>395</th><td> 3</td></tr>\n",
       "\t<tr><th scope=row>397</th><td> 9</td></tr>\n",
       "\t<tr><th scope=row>398</th><td> 6</td></tr>\n",
       "\t<tr><th scope=row>399</th><td> 5</td></tr>\n",
       "\t<tr><th scope=row>400</th><td> 6</td></tr>\n",
       "\t<tr><th scope=row>401</th><td> 6</td></tr>\n",
       "\t<tr><th scope=row>402</th><td> 4</td></tr>\n",
       "\t<tr><th scope=row>403</th><td>11</td></tr>\n",
       "\t<tr><th scope=row>406</th><td> 2</td></tr>\n",
       "\t<tr><th scope=row>407</th><td>12</td></tr>\n",
       "\t<tr><th scope=row>408</th><td> 5</td></tr>\n",
       "\t<tr><th scope=row>409</th><td>12</td></tr>\n",
       "\t<tr><th scope=row>410</th><td> 7</td></tr>\n",
       "\t<tr><th scope=row>411</th><td> 9</td></tr>\n",
       "\t<tr><th scope=row>412</th><td> 8</td></tr>\n",
       "\t<tr><th scope=row>413</th><td> 5</td></tr>\n",
       "\t<tr><th scope=row>414</th><td> 5</td></tr>\n",
       "\t<tr><th scope=row>415</th><td> 9</td></tr>\n",
       "\t<tr><th scope=row>416</th><td> 9</td></tr>\n",
       "\t<tr><th scope=row>418</th><td> 9</td></tr>\n",
       "\t<tr><th scope=row>419</th><td> 3</td></tr>\n",
       "\t<tr><th scope=row>420</th><td>11</td></tr>\n",
       "\t<tr><th scope=row>421</th><td>13</td></tr>\n",
       "\t<tr><th scope=row>422</th><td>12</td></tr>\n",
       "</tbody>\n",
       "</table>\n"
      ],
      "text/latex": [
       "\\begin{tabular}{r|l}\n",
       "  & VGPO\\\\\n",
       "\\hline\n",
       "\t1 &  4\\\\\n",
       "\t2 &  3\\\\\n",
       "\t3 &  9\\\\\n",
       "\t4 &  8\\\\\n",
       "\t5 &  4\\\\\n",
       "\t6 &  2\\\\\n",
       "\t8 & 13\\\\\n",
       "\t10 & 13\\\\\n",
       "\t12 &  3\\\\\n",
       "\t14 &  7\\\\\n",
       "\t15 &  8\\\\\n",
       "\t17 &  3\\\\\n",
       "\t18 & 10\\\\\n",
       "\t22 &  9\\\\\n",
       "\t23 &  3\\\\\n",
       "\t24 &  2\\\\\n",
       "\t25 & 13\\\\\n",
       "\t26 &  3\\\\\n",
       "\t27 &  2\\\\\n",
       "\t28 & 13\\\\\n",
       "\t29 &  3\\\\\n",
       "\t30 & 10\\\\\n",
       "\t31 & 13\\\\\n",
       "\t33 &  5\\\\\n",
       "\t36 &  2\\\\\n",
       "\t37 &  8\\\\\n",
       "\t39 &  4\\\\\n",
       "\t40 &  6\\\\\n",
       "\t41 &  9\\\\\n",
       "\t42 &  8\\\\\n",
       "\t... & ...\\\\\n",
       "\t386 &  4\\\\\n",
       "\t387 & 13\\\\\n",
       "\t388 &  6\\\\\n",
       "\t390 &  7\\\\\n",
       "\t391 &  2\\\\\n",
       "\t392 &  7\\\\\n",
       "\t395 &  3\\\\\n",
       "\t397 &  9\\\\\n",
       "\t398 &  6\\\\\n",
       "\t399 &  5\\\\\n",
       "\t400 &  6\\\\\n",
       "\t401 &  6\\\\\n",
       "\t402 &  4\\\\\n",
       "\t403 & 11\\\\\n",
       "\t406 &  2\\\\\n",
       "\t407 & 12\\\\\n",
       "\t408 &  5\\\\\n",
       "\t409 & 12\\\\\n",
       "\t410 &  7\\\\\n",
       "\t411 &  9\\\\\n",
       "\t412 &  8\\\\\n",
       "\t413 &  5\\\\\n",
       "\t414 &  5\\\\\n",
       "\t415 &  9\\\\\n",
       "\t416 &  9\\\\\n",
       "\t418 &  9\\\\\n",
       "\t419 &  3\\\\\n",
       "\t420 & 11\\\\\n",
       "\t421 & 13\\\\\n",
       "\t422 & 12\\\\\n",
       "\\end{tabular}\n"
      ],
      "text/markdown": [
       "\n",
       "| <!--/--> | VGPO | \n",
       "|---|---|---|---|---|---|---|---|---|---|---|---|---|---|---|---|---|---|---|---|---|---|---|---|---|---|---|---|---|---|---|---|---|---|---|---|---|---|---|---|---|---|---|---|---|---|---|---|---|---|---|---|---|---|---|---|---|---|---|---|---|\n",
       "| 1 |  4 | \n",
       "| 2 |  3 | \n",
       "| 3 |  9 | \n",
       "| 4 |  8 | \n",
       "| 5 |  4 | \n",
       "| 6 |  2 | \n",
       "| 8 | 13 | \n",
       "| 10 | 13 | \n",
       "| 12 |  3 | \n",
       "| 14 |  7 | \n",
       "| 15 |  8 | \n",
       "| 17 |  3 | \n",
       "| 18 | 10 | \n",
       "| 22 |  9 | \n",
       "| 23 |  3 | \n",
       "| 24 |  2 | \n",
       "| 25 | 13 | \n",
       "| 26 |  3 | \n",
       "| 27 |  2 | \n",
       "| 28 | 13 | \n",
       "| 29 |  3 | \n",
       "| 30 | 10 | \n",
       "| 31 | 13 | \n",
       "| 33 |  5 | \n",
       "| 36 |  2 | \n",
       "| 37 |  8 | \n",
       "| 39 |  4 | \n",
       "| 40 |  6 | \n",
       "| 41 |  9 | \n",
       "| 42 |  8 | \n",
       "| ... | ... | \n",
       "| 386 |  4 | \n",
       "| 387 | 13 | \n",
       "| 388 |  6 | \n",
       "| 390 |  7 | \n",
       "| 391 |  2 | \n",
       "| 392 |  7 | \n",
       "| 395 |  3 | \n",
       "| 397 |  9 | \n",
       "| 398 |  6 | \n",
       "| 399 |  5 | \n",
       "| 400 |  6 | \n",
       "| 401 |  6 | \n",
       "| 402 |  4 | \n",
       "| 403 | 11 | \n",
       "| 406 |  2 | \n",
       "| 407 | 12 | \n",
       "| 408 |  5 | \n",
       "| 409 | 12 | \n",
       "| 410 |  7 | \n",
       "| 411 |  9 | \n",
       "| 412 |  8 | \n",
       "| 413 |  5 | \n",
       "| 414 |  5 | \n",
       "| 415 |  9 | \n",
       "| 416 |  9 | \n",
       "| 418 |  9 | \n",
       "| 419 |  3 | \n",
       "| 420 | 11 | \n",
       "| 421 | 13 | \n",
       "| 422 | 12 | \n",
       "\n",
       "\n"
      ],
      "text/plain": [
       "    VGPO\n",
       "1    4  \n",
       "2    3  \n",
       "3    9  \n",
       "4    8  \n",
       "5    4  \n",
       "6    2  \n",
       "8   13  \n",
       "10  13  \n",
       "12   3  \n",
       "14   7  \n",
       "15   8  \n",
       "17   3  \n",
       "18  10  \n",
       "22   9  \n",
       "23   3  \n",
       "24   2  \n",
       "25  13  \n",
       "26   3  \n",
       "27   2  \n",
       "28  13  \n",
       "29   3  \n",
       "30  10  \n",
       "31  13  \n",
       "33   5  \n",
       "36   2  \n",
       "37   8  \n",
       "39   4  \n",
       "40   6  \n",
       "41   9  \n",
       "42   8  \n",
       "... ... \n",
       "386  4  \n",
       "387 13  \n",
       "388  6  \n",
       "390  7  \n",
       "391  2  \n",
       "392  7  \n",
       "395  3  \n",
       "397  9  \n",
       "398  6  \n",
       "399  5  \n",
       "400  6  \n",
       "401  6  \n",
       "402  4  \n",
       "403 11  \n",
       "406  2  \n",
       "407 12  \n",
       "408  5  \n",
       "409 12  \n",
       "410  7  \n",
       "411  9  \n",
       "412  8  \n",
       "413  5  \n",
       "414  5  \n",
       "415  9  \n",
       "416  9  \n",
       "418  9  \n",
       "419  3  \n",
       "420 11  \n",
       "421 13  \n",
       "422 12  "
      ]
     },
     "metadata": {},
     "output_type": "display_data"
    }
   ],
   "source": [
    "################################################ create randomized training and test sets\n",
    "options(digits = .1)\n",
    "set.seed(102)\n",
    "\n",
    "#                                Do a 80/20 split\n",
    "id <- sample(2, nrow(dim_rC),  prob= c(.8, .2), replace = T)\n",
    "#id = sav1\n",
    "d_trainC = dim_rC[id==1,]\n",
    "d_testC = dim_rC[id==2,]\n",
    "\n",
    "x_dataC = d_trainC[1:6]\n",
    "x_dataC\n",
    "#VGPRtrC = VGPRHL[id==1]\n",
    "#TTtrC = TT[id==1]\n",
    "y_dataC = d_train[7]\n",
    "y_dataC\n",
    "#TTtr\n",
    "#VGPRtr\n",
    "#length(d_train[,1])\n",
    "#length(d_test[,1])\n",
    "#334+88"
   ]
  },
  {
   "cell_type": "code",
   "execution_count": 122,
   "metadata": {},
   "outputs": [
    {
     "data": {
      "text/html": [
       "422"
      ],
      "text/latex": [
       "422"
      ],
      "text/markdown": [
       "422"
      ],
      "text/plain": [
       "[1] 422"
      ]
     },
     "metadata": {},
     "output_type": "display_data"
    },
    {
     "data": {
      "text/html": [
       "422"
      ],
      "text/latex": [
       "422"
      ],
      "text/markdown": [
       "422"
      ],
      "text/plain": [
       "[1] 422"
      ]
     },
     "metadata": {},
     "output_type": "display_data"
    },
    {
     "data": {
      "text/html": [
       "422"
      ],
      "text/latex": [
       "422"
      ],
      "text/markdown": [
       "422"
      ],
      "text/plain": [
       "[1] 422"
      ]
     },
     "metadata": {},
     "output_type": "display_data"
    },
    {
     "data": {
      "text/plain": [
       "\n",
       "Call:\n",
       "glm(formula = VGPR_HL ~ Q6nm + Q12nm + VGPO + TTL + Q9nm + Q8nm, \n",
       "    family = binomial, data = d_trainC)\n",
       "\n",
       "Deviance Residuals: \n",
       "   Min      1Q  Median      3Q     Max  \n",
       "-1.883  -1.194   0.787   1.021   1.506  \n",
       "\n",
       "Coefficients:\n",
       "            Estimate Std. Error z value Pr(>|z|)   \n",
       "(Intercept)  -1.2102     1.2848   -0.94   0.3463   \n",
       "Q6nm          0.1649     0.0572    2.88   0.0040 **\n",
       "Q12nm         0.0558     0.1328    0.42   0.6743   \n",
       "VGPO         -0.0980     0.0307   -3.19   0.0014 **\n",
       "TTL           0.2335     0.1901    1.23   0.2193   \n",
       "Q9nm          0.0122     0.0613    0.20   0.8421   \n",
       "Q8nm         -0.0604     0.2005   -0.30   0.7630   \n",
       "---\n",
       "Signif. codes:  0 '***' 0 '**' 0 '*' 0 '.' 0 ' ' 1\n",
       "\n",
       "(Dispersion parameter for binomial family taken to be 1)\n",
       "\n",
       "    Null deviance: 455.51  on 333  degrees of freedom\n",
       "Residual deviance: 433.85  on 327  degrees of freedom\n",
       "AIC: 447.9\n",
       "\n",
       "Number of Fisher Scoring iterations: 4\n"
      ]
     },
     "metadata": {},
     "output_type": "display_data"
    }
   ],
   "source": [
    "#modC <- glm((VGPR_HL[1:334]-1)~TT[1:334]+Q3[1:334]+Q6[1:334]+Q8[1:334]+Q9[1:334]+Q12[1:334]+VGPO[1:334],\n",
    "#           family=binomial,data=d_train);\n",
    "\n",
    "\n",
    "#modC <- glm(VGPRHL[1:334]~Q6[1:334]+Q12[1:334]+VGPO[1:334]+TT[1:334]+Q9[1:334]+Q8[1:334],\n",
    "#           family=binomial,data=d_trainC);\n",
    "length(VGPRHL)\n",
    "length(VGPO)\n",
    "length(Q6nm)\n",
    "modC <- glm(VGPR_HL~Q6nm+Q12nm+VGPO+TTL+Q9nm+Q8nm,\n",
    "           family=binomial,data=d_trainC);\n",
    "\n",
    "\n",
    "#mod <- glm(VGPRtr~,family=binomial,data=d_train);\n",
    "\n",
    "summary(modC);"
   ]
  },
  {
   "cell_type": "code",
   "execution_count": null,
   "metadata": {},
   "outputs": [],
   "source": [
    "'From coefficients:\n",
    "    *TT as the total time spent on the quiz goes up it tends toward a higher priority of \n",
    "     visible growth in popularity\n",
    "     \n",
    "    *as Q6, Q8, Q9, Q12, VGPO, go up the priority goes toward a lower priority of visible growth in popularity  \n",
    "\n",
    "From Pr(>|z|): VGPO(order in which response variable was submitted) is the the most  statistically significant variable\n",
    "               Q6(Experience) is still statistically significant\n",
    "               and Q12(age) is least significant, but all others(Q8, Q9, TT) are also not statistically significant\n",
    "\n",
    "\n",
    " AIC: 447.9 slightly less than before and the model is simpilier so yay!!!\n",
    "\n",
    "'"
   ]
  },
  {
   "cell_type": "code",
   "execution_count": 123,
   "metadata": {},
   "outputs": [
    {
     "data": {
      "text/html": [
       "<table>\n",
       "<thead><tr><th></th><th scope=col>Df</th><th scope=col>Deviance</th><th scope=col>Resid. Df</th><th scope=col>Resid. Dev</th><th scope=col>Pr(&gt;Chi)</th></tr></thead>\n",
       "<tbody>\n",
       "\t<tr><th scope=row>NULL</th><td>NA       </td><td>       NA</td><td>333      </td><td>455.51   </td><td>      NA </td></tr>\n",
       "\t<tr><th scope=row>Q6nm</th><td> 1       </td><td> 9.492580</td><td>332      </td><td>446.02   </td><td>0.002063 </td></tr>\n",
       "\t<tr><th scope=row>Q12nm</th><td> 1       </td><td> 0.140425</td><td>331      </td><td>445.88   </td><td>0.707859 </td></tr>\n",
       "\t<tr><th scope=row>VGPO</th><td> 1       </td><td>10.305961</td><td>330      </td><td>435.57   </td><td>0.001326 </td></tr>\n",
       "\t<tr><th scope=row>TTL</th><td> 1       </td><td> 1.569504</td><td>329      </td><td>434.00   </td><td>0.210279 </td></tr>\n",
       "\t<tr><th scope=row>Q9nm</th><td> 1       </td><td> 0.055185</td><td>328      </td><td>433.95   </td><td>0.814275 </td></tr>\n",
       "\t<tr><th scope=row>Q8nm</th><td> 1       </td><td> 0.090792</td><td>327      </td><td>433.85   </td><td>0.763173 </td></tr>\n",
       "</tbody>\n",
       "</table>\n"
      ],
      "text/latex": [
       "\\begin{tabular}{r|lllll}\n",
       "  & Df & Deviance & Resid. Df & Resid. Dev & Pr(>Chi)\\\\\n",
       "\\hline\n",
       "\tNULL & NA        &        NA & 333       & 455.51    &       NA \\\\\n",
       "\tQ6nm &  1        &  9.492580 & 332       & 446.02    & 0.002063 \\\\\n",
       "\tQ12nm &  1        &  0.140425 & 331       & 445.88    & 0.707859 \\\\\n",
       "\tVGPO &  1        & 10.305961 & 330       & 435.57    & 0.001326 \\\\\n",
       "\tTTL &  1        &  1.569504 & 329       & 434.00    & 0.210279 \\\\\n",
       "\tQ9nm &  1        &  0.055185 & 328       & 433.95    & 0.814275 \\\\\n",
       "\tQ8nm &  1        &  0.090792 & 327       & 433.85    & 0.763173 \\\\\n",
       "\\end{tabular}\n"
      ],
      "text/markdown": [
       "\n",
       "| <!--/--> | Df | Deviance | Resid. Df | Resid. Dev | Pr(>Chi) | \n",
       "|---|---|---|---|---|---|---|\n",
       "| NULL | NA        |        NA | 333       | 455.51    |       NA  | \n",
       "| Q6nm |  1        |  9.492580 | 332       | 446.02    | 0.002063  | \n",
       "| Q12nm |  1        |  0.140425 | 331       | 445.88    | 0.707859  | \n",
       "| VGPO |  1        | 10.305961 | 330       | 435.57    | 0.001326  | \n",
       "| TTL |  1        |  1.569504 | 329       | 434.00    | 0.210279  | \n",
       "| Q9nm |  1        |  0.055185 | 328       | 433.95    | 0.814275  | \n",
       "| Q8nm |  1        |  0.090792 | 327       | 433.85    | 0.763173  | \n",
       "\n",
       "\n"
      ],
      "text/plain": [
       "      Df Deviance  Resid. Df Resid. Dev Pr(>Chi)\n",
       "NULL  NA        NA 333       455.51           NA\n",
       "Q6nm   1  9.492580 332       446.02     0.002063\n",
       "Q12nm  1  0.140425 331       445.88     0.707859\n",
       "VGPO   1 10.305961 330       435.57     0.001326\n",
       "TTL    1  1.569504 329       434.00     0.210279\n",
       "Q9nm   1  0.055185 328       433.95     0.814275\n",
       "Q8nm   1  0.090792 327       433.85     0.763173"
      ]
     },
     "metadata": {},
     "output_type": "display_data"
    }
   ],
   "source": [
    "options(digits = 5)\n",
    "anova(modC, test=\"Chi\");"
   ]
  },
  {
   "cell_type": "code",
   "execution_count": null,
   "metadata": {},
   "outputs": [],
   "source": [
    "# Again we see similiar results VGPO is the most significant, and Q6 is significant as well but not as much"
   ]
  },
  {
   "cell_type": "code",
   "execution_count": 125,
   "metadata": {},
   "outputs": [
    {
     "data": {
      "text/html": [
       "<table>\n",
       "<thead><tr><th></th><th scope=col>Df</th><th scope=col>Deviance</th><th scope=col>AIC</th><th scope=col>LRT</th><th scope=col>Pr(&gt;Chi)</th></tr></thead>\n",
       "<tbody>\n",
       "\t<tr><th scope=row>&lt;none&gt;</th><td>NA       </td><td>433.85   </td><td>447.85   </td><td>       NA</td><td>       NA</td></tr>\n",
       "\t<tr><th scope=row>Q6nm</th><td> 1       </td><td>442.27   </td><td>454.27   </td><td> 8.419268</td><td>0.0037127</td></tr>\n",
       "\t<tr><th scope=row>Q12nm</th><td> 1       </td><td>434.03   </td><td>446.03   </td><td> 0.176485</td><td>0.6744112</td></tr>\n",
       "\t<tr><th scope=row>VGPO</th><td> 1       </td><td>444.31   </td><td>456.31   </td><td>10.458941</td><td>0.0012206</td></tr>\n",
       "\t<tr><th scope=row>TTL</th><td> 1       </td><td>435.45   </td><td>447.45   </td><td> 1.598059</td><td>0.2061785</td></tr>\n",
       "\t<tr><th scope=row>Q9nm</th><td> 1       </td><td>433.89   </td><td>445.89   </td><td> 0.039669</td><td>0.8421294</td></tr>\n",
       "\t<tr><th scope=row>Q8nm</th><td> 1       </td><td>433.95   </td><td>445.95   </td><td> 0.090792</td><td>0.7631728</td></tr>\n",
       "</tbody>\n",
       "</table>\n"
      ],
      "text/latex": [
       "\\begin{tabular}{r|lllll}\n",
       "  & Df & Deviance & AIC & LRT & Pr(>Chi)\\\\\n",
       "\\hline\n",
       "\t<none> & NA        & 433.85    & 447.85    &        NA &        NA\\\\\n",
       "\tQ6nm &  1        & 442.27    & 454.27    &  8.419268 & 0.0037127\\\\\n",
       "\tQ12nm &  1        & 434.03    & 446.03    &  0.176485 & 0.6744112\\\\\n",
       "\tVGPO &  1        & 444.31    & 456.31    & 10.458941 & 0.0012206\\\\\n",
       "\tTTL &  1        & 435.45    & 447.45    &  1.598059 & 0.2061785\\\\\n",
       "\tQ9nm &  1        & 433.89    & 445.89    &  0.039669 & 0.8421294\\\\\n",
       "\tQ8nm &  1        & 433.95    & 445.95    &  0.090792 & 0.7631728\\\\\n",
       "\\end{tabular}\n"
      ],
      "text/markdown": [
       "\n",
       "| <!--/--> | Df | Deviance | AIC | LRT | Pr(>Chi) | \n",
       "|---|---|---|---|---|---|---|\n",
       "| <none> | NA        | 433.85    | 447.85    |        NA |        NA | \n",
       "| Q6nm |  1        | 442.27    | 454.27    |  8.419268 | 0.0037127 | \n",
       "| Q12nm |  1        | 434.03    | 446.03    |  0.176485 | 0.6744112 | \n",
       "| VGPO |  1        | 444.31    | 456.31    | 10.458941 | 0.0012206 | \n",
       "| TTL |  1        | 435.45    | 447.45    |  1.598059 | 0.2061785 | \n",
       "| Q9nm |  1        | 433.89    | 445.89    |  0.039669 | 0.8421294 | \n",
       "| Q8nm |  1        | 433.95    | 445.95    |  0.090792 | 0.7631728 | \n",
       "\n",
       "\n"
      ],
      "text/plain": [
       "       Df Deviance AIC    LRT       Pr(>Chi) \n",
       "<none> NA 433.85   447.85        NA        NA\n",
       "Q6nm    1 442.27   454.27  8.419268 0.0037127\n",
       "Q12nm   1 434.03   446.03  0.176485 0.6744112\n",
       "VGPO    1 444.31   456.31 10.458941 0.0012206\n",
       "TTL     1 435.45   447.45  1.598059 0.2061785\n",
       "Q9nm    1 433.89   445.89  0.039669 0.8421294\n",
       "Q8nm    1 433.95   445.95  0.090792 0.7631728"
      ]
     },
     "metadata": {},
     "output_type": "display_data"
    }
   ],
   "source": [
    "drop1(modC, test=\"Chi\");"
   ]
  },
  {
   "cell_type": "code",
   "execution_count": 126,
   "metadata": {},
   "outputs": [
    {
     "data": {
      "text/html": [
       "<dl class=dl-horizontal>\n",
       "\t<dt>TT[1:334]</dt>\n",
       "\t\t<dd>1.03000605338937</dd>\n",
       "\t<dt>Q3nm[1:334]</dt>\n",
       "\t\t<dd>1.02284025026506</dd>\n",
       "\t<dt>Q6nm[1:334]</dt>\n",
       "\t\t<dd>1.07311672558615</dd>\n",
       "\t<dt>Q8nm[1:334]</dt>\n",
       "\t\t<dd>1.05904920149597</dd>\n",
       "\t<dt>Q9nm[1:334]</dt>\n",
       "\t\t<dd>1.08822010659182</dd>\n",
       "\t<dt>Q12nm[1:334]</dt>\n",
       "\t\t<dd>1.02214993564066</dd>\n",
       "\t<dt>VGPO[1:334]</dt>\n",
       "\t\t<dd>1.01875649851956</dd>\n",
       "</dl>\n"
      ],
      "text/latex": [
       "\\begin{description*}\n",
       "\\item[TT\\{{[}\\}1:334\\{{]}\\}] 1.03000605338937\n",
       "\\item[Q3nm\\{{[}\\}1:334\\{{]}\\}] 1.02284025026506\n",
       "\\item[Q6nm\\{{[}\\}1:334\\{{]}\\}] 1.07311672558615\n",
       "\\item[Q8nm\\{{[}\\}1:334\\{{]}\\}] 1.05904920149597\n",
       "\\item[Q9nm\\{{[}\\}1:334\\{{]}\\}] 1.08822010659182\n",
       "\\item[Q12nm\\{{[}\\}1:334\\{{]}\\}] 1.02214993564066\n",
       "\\item[VGPO\\{{[}\\}1:334\\{{]}\\}] 1.01875649851956\n",
       "\\end{description*}\n"
      ],
      "text/markdown": [
       "TT[1:334]\n",
       ":   1.03000605338937Q3nm[1:334]\n",
       ":   1.02284025026506Q6nm[1:334]\n",
       ":   1.07311672558615Q8nm[1:334]\n",
       ":   1.05904920149597Q9nm[1:334]\n",
       ":   1.08822010659182Q12nm[1:334]\n",
       ":   1.02214993564066VGPO[1:334]\n",
       ":   1.01875649851956\n",
       "\n"
      ],
      "text/plain": [
       "   TT[1:334]  Q3nm[1:334]  Q6nm[1:334]  Q8nm[1:334]  Q9nm[1:334] Q12nm[1:334] \n",
       "      1.0300       1.0228       1.0731       1.0590       1.0882       1.0221 \n",
       " VGPO[1:334] \n",
       "      1.0188 "
      ]
     },
     "metadata": {},
     "output_type": "display_data"
    }
   ],
   "source": [
    "library(car)\n",
    "vif(mod);"
   ]
  },
  {
   "cell_type": "code",
   "execution_count": 127,
   "metadata": {},
   "outputs": [
    {
     "data": {
      "text/html": [
       "<dl class=dl-horizontal>\n",
       "\t<dt>Q6nm</dt>\n",
       "\t\t<dd>1.06752052819228</dd>\n",
       "\t<dt>Q12nm</dt>\n",
       "\t\t<dd>1.03385004536574</dd>\n",
       "\t<dt>VGPO</dt>\n",
       "\t\t<dd>1.01030835109522</dd>\n",
       "\t<dt>TTL</dt>\n",
       "\t\t<dd>1.01363857383712</dd>\n",
       "\t<dt>Q9nm</dt>\n",
       "\t\t<dd>1.08293857263974</dd>\n",
       "\t<dt>Q8nm</dt>\n",
       "\t\t<dd>1.039543922509</dd>\n",
       "</dl>\n"
      ],
      "text/latex": [
       "\\begin{description*}\n",
       "\\item[Q6nm] 1.06752052819228\n",
       "\\item[Q12nm] 1.03385004536574\n",
       "\\item[VGPO] 1.01030835109522\n",
       "\\item[TTL] 1.01363857383712\n",
       "\\item[Q9nm] 1.08293857263974\n",
       "\\item[Q8nm] 1.039543922509\n",
       "\\end{description*}\n"
      ],
      "text/markdown": [
       "Q6nm\n",
       ":   1.06752052819228Q12nm\n",
       ":   1.03385004536574VGPO\n",
       ":   1.01030835109522TTL\n",
       ":   1.01363857383712Q9nm\n",
       ":   1.08293857263974Q8nm\n",
       ":   1.039543922509\n",
       "\n"
      ],
      "text/plain": [
       "  Q6nm  Q12nm   VGPO    TTL   Q9nm   Q8nm \n",
       "1.0675 1.0339 1.0103 1.0136 1.0829 1.0395 "
      ]
     },
     "metadata": {},
     "output_type": "display_data"
    }
   ],
   "source": [
    "library(car)\n",
    "vif(modC);"
   ]
  },
  {
   "cell_type": "code",
   "execution_count": 128,
   "metadata": {},
   "outputs": [
    {
     "data": {
      "text/plain": [
       "\n",
       "Call:  glm(formula = VGPR_HL[1:334] ~ TT[1:334] + Q3nm[1:334] + Q6nm[1:334] + \n",
       "    Q8nm[1:334] + Q9nm[1:334] + Q12nm[1:334] + VGPO[1:334], family = binomial, \n",
       "    data = d_train)\n",
       "\n",
       "Coefficients:\n",
       " (Intercept)     TT[1:334]   Q3nm[1:334]   Q6nm[1:334]   Q8nm[1:334]  \n",
       "     -0.4628        0.1888       -0.0607        0.0181       -0.1714  \n",
       " Q9nm[1:334]  Q12nm[1:334]   VGPO[1:334]  \n",
       "      0.1317        0.0346       -0.0950  \n",
       "\n",
       "Degrees of Freedom: 333 Total (i.e. Null);  326 Residual\n",
       "Null Deviance:\t    456 \n",
       "Residual Deviance: 436 \tAIC: 452"
      ]
     },
     "metadata": {},
     "output_type": "display_data"
    }
   ],
   "source": [
    "#Standard error would only increase slighty, which makes sense the variables are not very correlated\n",
    "mod"
   ]
  },
  {
   "cell_type": "code",
   "execution_count": 130,
   "metadata": {},
   "outputs": [
    {
     "name": "stderr",
     "output_type": "stream",
     "text": [
      "ERROR while rich displaying an object: Error in dn[[2L]]: subscript out of bounds\n",
      "\n",
      "Traceback:\n",
      "1. FUN(X[[i]], ...)\n",
      "2. tryCatch(withCallingHandlers({\n",
      " .     rpr <- mime2repr[[mime]](obj)\n",
      " .     if (is.null(rpr)) \n",
      " .         return(NULL)\n",
      " .     prepare_content(is.raw(rpr), rpr)\n",
      " . }, error = error_handler), error = outer_handler)\n",
      "3. tryCatchList(expr, classes, parentenv, handlers)\n",
      "4. tryCatchOne(expr, names, parentenv, handlers[[1L]])\n",
      "5. doTryCatch(return(expr), name, parentenv, handler)\n",
      "6. withCallingHandlers({\n",
      " .     rpr <- mime2repr[[mime]](obj)\n",
      " .     if (is.null(rpr)) \n",
      " .         return(NULL)\n",
      " .     prepare_content(is.raw(rpr), rpr)\n",
      " . }, error = error_handler)\n",
      "7. mime2repr[[mime]](obj)\n",
      "8. repr_markdown.numeric(obj)\n",
      "9. repr_vector_generic(html_escape_names(obj), \"%s. %s\\n\", \"%s\\n:   %s\", \n",
      " .     \"**%s:** %s\", \"%s\\n\\n\", item_uses_numbers = TRUE, escape_fun = html_escape)\n",
      "10. html_escape_names(obj)\n",
      "11. .escape_names(obj, \"html\")\n",
      "12. colnames(obj)\n",
      "ERROR while rich displaying an object: Error in dn[[2L]]: subscript out of bounds\n",
      "\n",
      "Traceback:\n",
      "1. FUN(X[[i]], ...)\n",
      "2. tryCatch(withCallingHandlers({\n",
      " .     rpr <- mime2repr[[mime]](obj)\n",
      " .     if (is.null(rpr)) \n",
      " .         return(NULL)\n",
      " .     prepare_content(is.raw(rpr), rpr)\n",
      " . }, error = error_handler), error = outer_handler)\n",
      "3. tryCatchList(expr, classes, parentenv, handlers)\n",
      "4. tryCatchOne(expr, names, parentenv, handlers[[1L]])\n",
      "5. doTryCatch(return(expr), name, parentenv, handler)\n",
      "6. withCallingHandlers({\n",
      " .     rpr <- mime2repr[[mime]](obj)\n",
      " .     if (is.null(rpr)) \n",
      " .         return(NULL)\n",
      " .     prepare_content(is.raw(rpr), rpr)\n",
      " . }, error = error_handler)\n",
      "7. mime2repr[[mime]](obj)\n",
      "8. repr_latex.numeric(obj)\n",
      "9. repr_vector_generic(latex_escape_names(obj), \"\\\\item %s\\n\", \"\\\\item[%s] %s\\n\", \n",
      " .     \"\\\\textbf{%s:} %s\", enum_wrap = \"\\\\begin{enumerate*}\\n%s\\\\end{enumerate*}\\n\", \n",
      " .     named_wrap = \"\\\\begin{description*}\\n%s\\\\end{description*}\\n\", \n",
      " .     only_named_item = \"\\\\textbf{%s:} %s\", escape_fun = latex_escape)\n",
      "10. latex_escape_names(obj)\n",
      "11. .escape_names(obj, \"latex\")\n",
      "12. colnames(obj)\n"
     ]
    },
    {
     "data": {
      "text/html": [
       "<dl class=dl-horizontal>\n",
       "\t<dt>0</dt>\n",
       "\t\t<dd>0.526823422052243</dd>\n",
       "\t<dt>1</dt>\n",
       "\t\t<dd>0.557735140883204</dd>\n",
       "</dl>\n"
      ],
      "text/plain": [
       "      0       1 \n",
       "0.52682 0.55774 "
      ]
     },
     "metadata": {},
     "output_type": "display_data"
    }
   ],
   "source": [
    "# Now lets do some predicting\n",
    "\n",
    "x_dC = d_testC[,1:6]\n",
    "\n",
    "predicted <- 1/(1+exp(-predict(modC,newdata = d_testC)));\n",
    "\n",
    "y_dataC = d_testC[,7]\n",
    "\n",
    "tapply(predicted, d_testC$VGPR_HL, mean)"
   ]
  },
  {
   "cell_type": "code",
   "execution_count": 1,
   "metadata": {},
   "outputs": [
    {
     "ename": "ERROR",
     "evalue": "Error in t1 - t2: non-numeric argument to binary operator\n",
     "output_type": "error",
     "traceback": [
      "Error in t1 - t2: non-numeric argument to binary operator\nTraceback:\n"
     ]
    }
   ],
   "source": []
  },
  {
   "cell_type": "code",
   "execution_count": null,
   "metadata": {},
   "outputs": [],
   "source": [
    "'\n",
    "functions used:\n",
    "seconds_since_start()\n",
    "make_ignore_list()\n",
    "make_list_othersI()\n",
    "clean_label_data\n",
    "clean_numberic_data\n",
    "convert_to_num\n",
    "convert_high_low\n",
    "\n",
    "'\n"
   ]
  },
  {
   "cell_type": "code",
   "execution_count": null,
   "metadata": {},
   "outputs": [],
   "source": []
  },
  {
   "cell_type": "code",
   "execution_count": null,
   "metadata": {},
   "outputs": [],
   "source": []
  },
  {
   "cell_type": "code",
   "execution_count": null,
   "metadata": {},
   "outputs": [],
   "source": []
  },
  {
   "cell_type": "code",
   "execution_count": null,
   "metadata": {},
   "outputs": [],
   "source": []
  },
  {
   "cell_type": "code",
   "execution_count": null,
   "metadata": {},
   "outputs": [],
   "source": []
  },
  {
   "cell_type": "code",
   "execution_count": null,
   "metadata": {},
   "outputs": [],
   "source": []
  },
  {
   "cell_type": "code",
   "execution_count": null,
   "metadata": {},
   "outputs": [],
   "source": []
  }
 ],
 "metadata": {
  "kernelspec": {
   "display_name": "R",
   "language": "R",
   "name": "ir"
  },
  "language_info": {
   "codemirror_mode": "r",
   "file_extension": ".r",
   "mimetype": "text/x-r-source",
   "name": "R",
   "pygments_lexer": "r",
   "version": "3.4.4"
  }
 },
 "nbformat": 4,
 "nbformat_minor": 2
}
